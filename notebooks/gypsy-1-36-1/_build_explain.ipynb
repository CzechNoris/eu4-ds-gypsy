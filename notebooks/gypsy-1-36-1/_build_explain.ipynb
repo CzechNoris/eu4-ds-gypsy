{
 "cells": [
  {
   "cell_type": "markdown",
   "metadata": {},
   "source": [
    "# Build explain using weights"
   ]
  },
  {
   "cell_type": "code",
   "execution_count": 1,
   "metadata": {},
   "outputs": [],
   "source": [
    "import yaml\n",
    "from collections import defaultdict"
   ]
  },
  {
   "cell_type": "code",
   "execution_count": 2,
   "metadata": {},
   "outputs": [],
   "source": [
    "import sys\n",
    "sys.path.append('../../src/1.36/')\n",
    "\n",
    "%load_ext autoreload\n",
    "%autoreload 2\n",
    "\n",
    "from model import Idea, Policy, Build\n",
    "from loader_tools import load_ideas, load_policies\n",
    "from build_tools import expand_build, BuildConst, get_total_effect"
   ]
  },
  {
   "cell_type": "code",
   "execution_count": 3,
   "metadata": {},
   "outputs": [],
   "source": [
    "BUILD_CONFIG_PATH = '../../data/external/build_configs/imperial_spacemarines.yaml'\n",
    "\n",
    "with open(BUILD_CONFIG_PATH, 'r') as f:\n",
    "    build_config = yaml.safe_load(f)\n",
    "\n",
    "\n",
    "HIGHLIGHTS: list[str] = build_config['highlights']\n",
    "\n",
    "weights = build_config['weights']\n",
    "COUNTRY_WEIGHTS: dict[str, float] = weights['country']\n",
    "MILITARY_WEIGHTS: dict[str, float] = weights['military']\n",
    "EXTRA_WEIGHTS: dict[str, float] = weights['ideas']\n",
    "\n",
    "LIMITS = defaultdict(lambda: 100)\n",
    "if 'limits' in build_config:\n",
    "    LIMITS.update(build_config['limits'])"
   ]
  },
  {
   "cell_type": "code",
   "execution_count": 4,
   "metadata": {},
   "outputs": [],
   "source": [
    "IDEAS: dict[str, Idea] = load_ideas([\n",
    "    '../../data/processed/gypsy-1-36-1/00_basic_ideas.yaml',\n",
    "    '../../data/processed/gypsy-1-36-1/00_flogi_ideas.yaml',\n",
    "])\n",
    "\n",
    "POLICIES: dict[str, Policy] = load_policies([\n",
    "    '../../data/processed/gypsy-1-36-1/Idea_Variation_policies.yaml'\n",
    "])"
   ]
  },
  {
   "cell_type": "code",
   "execution_count": 5,
   "metadata": {},
   "outputs": [],
   "source": [
    "BUILD_IDEAS = [ 'strongman0', 'weapon_quality0', 'spy_ideas']\n",
    "# BUILD_IDEAS = ['economic_ideas', 'standing_army0', 'militarism0', 'spy_ideas', 'strongman0', 'weapon_quality0', 'society0', 'imperialism0', 'quality0']\n",
    "\n",
    "CONST = BuildConst(\n",
    "    ideas = IDEAS,\n",
    "    policies = POLICIES,\n",
    "    country_weights = COUNTRY_WEIGHTS,\n",
    "    military_weights = MILITARY_WEIGHTS,\n",
    "    idea_weights = EXTRA_WEIGHTS,\n",
    "    limits = LIMITS,\n",
    ")\n"
   ]
  },
  {
   "cell_type": "markdown",
   "metadata": {},
   "source": [
    "## Build"
   ]
  },
  {
   "cell_type": "code",
   "execution_count": 6,
   "metadata": {},
   "outputs": [
    {
     "name": "stdout",
     "output_type": "stream",
     "text": [
      "Build( 367.75 - ideas: {'strongman0', 'spy_ideas', 'weapon_quality0'}\n"
     ]
    }
   ],
   "source": [
    "build = Build()\n",
    "for idea_name in BUILD_IDEAS:\n",
    "    build = expand_build(build, idea_name, CONST)\n",
    "print(build)"
   ]
  },
  {
   "cell_type": "markdown",
   "metadata": {},
   "source": [
    "### Total effect"
   ]
  },
  {
   "cell_type": "code",
   "execution_count": 7,
   "metadata": {},
   "outputs": [],
   "source": [
    "total_effect = get_total_effect(build, POLICIES)"
   ]
  },
  {
   "cell_type": "code",
   "execution_count": 8,
   "metadata": {},
   "outputs": [
    {
     "name": "stdout",
     "output_type": "stream",
     "text": [
      "development_cost: None\n",
      "development_cost_in_primary_culture: None\n",
      "discipline: 0.085\n",
      "fire_damage: None\n",
      "fire_damage_received: None\n",
      "shock_damage: None\n",
      "shock_damage_received: None\n",
      "land_morale: None\n",
      "infantry_power: 0.1\n",
      "cavalry_power: 0.1\n",
      "artillery_power: 0.1\n"
     ]
    }
   ],
   "source": [
    "for highlight in HIGHLIGHTS:\n",
    "    print(f'{highlight}: {total_effect.get(highlight)}') \n"
   ]
  },
  {
   "cell_type": "code",
   "execution_count": 9,
   "metadata": {},
   "outputs": [
    {
     "name": "stdout",
     "output_type": "stream",
     "text": [
      "global_unrest: 4\n",
      "global_tax_modifier: 0.1\n",
      "production_efficiency: 0.175\n",
      "defensiveness: 0.1\n",
      "global_manpower_modifier: 0.2\n",
      "siege_ability: 0.35\n",
      "war_exhaustion: 0.05\n",
      "manpower_recovery_speed: 0.25\n",
      "idea_cost: 0.2\n",
      "technology_cost: 0.05\n",
      "global_trade_goods_size_modifier: 0.175\n",
      "merchants: 1\n",
      "reduced_liberty_desire: 10\n",
      "num_of_pronoiars: 1\n",
      "trade_efficiency: 0.15\n",
      "yearly_corruption: 0.1\n",
      "advisor_cost: 0.2\n",
      "rebel_support_efficiency: 1\n",
      "can_fabricate_for_vassals: 1\n",
      "spy_offence: 0.75\n",
      "embargo_efficiency: 0.33\n",
      "privateer_efficiency: 0.33\n",
      "diplomats: 1\n",
      "discovered_relations_impact: 1\n",
      "global_spy_defence: 0.5\n"
     ]
    }
   ],
   "source": [
    "for effect, value in total_effect.items():\n",
    "    if effect not in HIGHLIGHTS:\n",
    "        print(f'{effect}: {value}')"
   ]
  },
  {
   "cell_type": "markdown",
   "metadata": {},
   "source": [
    "### Idea effect highlights"
   ]
  },
  {
   "cell_type": "code",
   "execution_count": 10,
   "metadata": {},
   "outputs": [
    {
     "name": "stdout",
     "output_type": "stream",
     "text": [
      "---strongman0---\n",
      "---spy_ideas---\n",
      "discipline - 0.035 --> 70.0\n",
      "---weapon_quality0---\n",
      "discipline - 0.05 --> 100.0\n",
      "infantry_power - 0.1 --> 80.0\n",
      "cavalry_power - 0.1 --> 0.0\n",
      "artillery_power - 0.1 --> 80.0\n"
     ]
    }
   ],
   "source": [
    "for idea_name in build.idea_set:\n",
    "    idea = IDEAS[idea_name]\n",
    "    print(f'---{idea_name}---')\n",
    "    for highlight in HIGHLIGHTS:\n",
    "        if highlight in idea.effect:\n",
    "            highlight_effect = idea.effect[highlight]\n",
    "            highlight_weight = COUNTRY_WEIGHTS.get(highlight, 0) + MILITARY_WEIGHTS.get(highlight, 0)\n",
    "            print(f'{highlight} - {highlight_effect} --> {highlight_weight * highlight_effect}')"
   ]
  },
  {
   "cell_type": "markdown",
   "metadata": {},
   "source": [
    "### Other idea effects"
   ]
  },
  {
   "cell_type": "code",
   "execution_count": 11,
   "metadata": {},
   "outputs": [
    {
     "name": "stdout",
     "output_type": "stream",
     "text": [
      "---strongman0---\n",
      "global_unrest - 2 --> 0\n",
      "global_tax_modifier - 0.1 --> 0.5\n",
      "production_efficiency - 0.1 --> 0.5\n",
      "defensiveness - 0.1 --> 1.0\n",
      "global_manpower_modifier - 0.2 --> 10.0\n",
      "siege_ability - 0.15 --> 0.75\n",
      "war_exhaustion - 0.05 --> 0.0\n",
      "manpower_recovery_speed - 0.25 --> 5.0\n",
      "idea_cost - 0.05 --> 3.0\n",
      "technology_cost - 0.05 --> 3.0\n",
      "global_trade_goods_size_modifier - 0.1 --> 0.5\n",
      "---spy_ideas---\n",
      "reduced_liberty_desire - 10 --> 0\n",
      "num_of_pronoiars - 1 --> 0\n",
      "trade_efficiency - 0.15 --> 0.75\n",
      "yearly_corruption - 0.1 --> 0.0\n",
      "advisor_cost - 0.2 --> 2.0\n",
      "rebel_support_efficiency - 1 --> 0\n",
      "can_fabricate_for_vassals - 1 --> 0\n",
      "spy_offence - 0.75 --> 0.0\n",
      "embargo_efficiency - 0.33 --> 0.0\n",
      "privateer_efficiency - 0.33 --> 0.0\n",
      "diplomats - 1 --> 0\n",
      "discovered_relations_impact - 1 --> 0\n",
      "global_spy_defence - 0.5 --> 0.0\n",
      "global_unrest - 2 --> 0\n",
      "---weapon_quality0---\n",
      "global_trade_goods_size_modifier - 0.075 --> 0.375\n",
      "merchants - 1 --> 0\n",
      "siege_ability - 0.1 --> 0.5\n",
      "production_efficiency - 0.075 --> 0.375\n"
     ]
    }
   ],
   "source": [
    "for idea_name in build.idea_set:\n",
    "    idea = IDEAS[idea_name]\n",
    "    print(f'---{idea_name}---')\n",
    "    for effect, value in idea.effect.items():\n",
    "        effect_weight = COUNTRY_WEIGHTS.get(effect, 0) + MILITARY_WEIGHTS.get(effect, 0)\n",
    "        if effect not in HIGHLIGHTS:\n",
    "            print(f'{effect} - {value} --> {effect_weight * value}')"
   ]
  },
  {
   "cell_type": "markdown",
   "metadata": {},
   "source": [
    "### Policies effect"
   ]
  },
  {
   "cell_type": "code",
   "execution_count": 12,
   "metadata": {},
   "outputs": [],
   "source": [
    "POLICY_SLOT_INDEX = {0: ('ADM', 4), 1: ('DIP', 4), 2: ('MIL', 4)}"
   ]
  },
  {
   "cell_type": "markdown",
   "metadata": {},
   "source": [
    "#### War policies"
   ]
  },
  {
   "cell_type": "code",
   "execution_count": 13,
   "metadata": {},
   "outputs": [
    {
     "name": "stdout",
     "output_type": "stream",
     "text": [
      "---ADM (4 slots)---\n",
      "---DIP (4 slots)---\n",
      "idea_variation_act_102:\n",
      "siege_ability - 0.1 --> 0.5\n",
      "---MIL (4 slots)---\n"
     ]
    }
   ],
   "source": [
    "for i in range(3):\n",
    "    policy_type = POLICY_SLOT_INDEX[i][0]\n",
    "    policy_slots = POLICY_SLOT_INDEX[i][1]\n",
    "    print(f'---{policy_type} ({policy_slots} slots)---')\n",
    "    for j in range(min(policy_slots, len(build.war_policies[i]))):\n",
    "        policy_score, policy_name = build.war_policies[i][j]\n",
    "        policy = POLICIES[policy_name]\n",
    "        print(f'{policy_name}:')\n",
    "        for effect, value in policy.effect.items():\n",
    "                effect_weight = COUNTRY_WEIGHTS.get(effect, 0) + MILITARY_WEIGHTS.get(effect, 0)\n",
    "                print(f'{effect} - {value} --> {effect_weight * value}')"
   ]
  },
  {
   "cell_type": "markdown",
   "metadata": {},
   "source": [
    "#### Idea cost policies"
   ]
  },
  {
   "cell_type": "code",
   "execution_count": 14,
   "metadata": {},
   "outputs": [
    {
     "name": "stdout",
     "output_type": "stream",
     "text": [
      "---ADM (4 slots)---\n",
      "idea_variation_act_333:\n",
      "idea_cost - 0.075 --> 4.5\n",
      "---DIP (4 slots)---\n",
      "idea_variation_act_227:\n",
      "idea_cost - 0.075 --> 4.5\n",
      "---MIL (4 slots)---\n"
     ]
    }
   ],
   "source": [
    "for i in range(3):\n",
    "    policy_type = POLICY_SLOT_INDEX[i][0]\n",
    "    policy_slots = POLICY_SLOT_INDEX[i][1]\n",
    "    print(f'---{policy_type} ({policy_slots} slots)---')\n",
    "    for j in range(min(policy_slots, len(build.idea_policies[i]))):\n",
    "        policy_score, policy_name = build.idea_policies[i][j]\n",
    "        policy = POLICIES[policy_name]\n",
    "        print(f'{policy_name}:')\n",
    "        for effect, value in policy.effect.items():\n",
    "            effect_weight = COUNTRY_WEIGHTS.get(effect, 0) + MILITARY_WEIGHTS.get(effect, 0)\n",
    "            print(f'{effect} - {value} --> {effect_weight * value}')"
   ]
  },
  {
   "cell_type": "markdown",
   "metadata": {},
   "source": [
    "#### ADM tech policies"
   ]
  },
  {
   "cell_type": "code",
   "execution_count": 15,
   "metadata": {},
   "outputs": [
    {
     "name": "stdout",
     "output_type": "stream",
     "text": [
      "---ADM (4 slots)---\n",
      "---DIP (4 slots)---\n",
      "---MIL (4 slots)---\n"
     ]
    }
   ],
   "source": [
    "for i in range(3):\n",
    "    policy_type = POLICY_SLOT_INDEX[i][0]\n",
    "    policy_slots = POLICY_SLOT_INDEX[i][1]\n",
    "    print(f'---{policy_type} ({policy_slots} slots)---')\n",
    "    for j in range(min(policy_slots, len(build.adm_tech_policies[i]))):\n",
    "        policy_score, policy_name = build.adm_tech_policies[i][j]\n",
    "        policy = POLICIES[policy_name]\n",
    "        print(f'{policy_name}:')\n",
    "        for effect, value in policy.effect.items():\n",
    "            effect_weight = COUNTRY_WEIGHTS.get(effect, 0) + MILITARY_WEIGHTS.get(effect, 0)\n",
    "            print(f'{effect} - {value} --> {effect_weight * value}')"
   ]
  },
  {
   "cell_type": "markdown",
   "metadata": {},
   "source": [
    "#### DIP tech policies"
   ]
  },
  {
   "cell_type": "code",
   "execution_count": 16,
   "metadata": {},
   "outputs": [
    {
     "name": "stdout",
     "output_type": "stream",
     "text": [
      "---ADM (4 slots)---\n",
      "---DIP (4 slots)---\n",
      "---MIL (4 slots)---\n"
     ]
    }
   ],
   "source": [
    "for i in range(3):\n",
    "    policy_type = POLICY_SLOT_INDEX[i][0]\n",
    "    policy_slots = POLICY_SLOT_INDEX[i][1]\n",
    "    print(f'---{policy_type} ({policy_slots} slots)---')\n",
    "    for j in range(min(policy_slots, len(build.dip_tech_policies[i]))):\n",
    "        policy_score, policy_name = build.dip_tech_policies[i][j]\n",
    "        policy = POLICIES[policy_name]\n",
    "        print(f'{policy_name}:')\n",
    "        for effect, value in policy.effect.items():\n",
    "            effect_weight = COUNTRY_WEIGHTS.get(effect, 0) + MILITARY_WEIGHTS.get(effect, 0)\n",
    "            print(f'{effect} - {value} --> {effect_weight * value}')"
   ]
  },
  {
   "cell_type": "markdown",
   "metadata": {},
   "source": [
    "#### MIL tech policies"
   ]
  },
  {
   "cell_type": "code",
   "execution_count": 17,
   "metadata": {},
   "outputs": [
    {
     "name": "stdout",
     "output_type": "stream",
     "text": [
      "---ADM (4 slots)---\n",
      "---DIP (4 slots)---\n",
      "---MIL (4 slots)---\n"
     ]
    }
   ],
   "source": [
    "for i in range(3):\n",
    "    policy_type = POLICY_SLOT_INDEX[i][0]\n",
    "    policy_slots = POLICY_SLOT_INDEX[i][1]\n",
    "    print(f'---{policy_type} ({policy_slots} slots)---')\n",
    "    for j in range(min(policy_slots, len(build.mil_tech_policies[i]))):\n",
    "        policy_score, policy_name = build.mil_tech_policies[i][j]\n",
    "        policy = POLICIES[policy_name]\n",
    "        print(f'{policy_name}:')\n",
    "        for effect, value in policy.effect.items():\n",
    "            effect_weight = COUNTRY_WEIGHTS.get(effect, 0) + MILITARY_WEIGHTS.get(effect, 0)\n",
    "            print(f'{effect} - {value} --> {effect_weight * value}')"
   ]
  },
  {
   "cell_type": "code",
   "execution_count": null,
   "metadata": {},
   "outputs": [],
   "source": []
  },
  {
   "cell_type": "code",
   "execution_count": null,
   "metadata": {},
   "outputs": [],
   "source": []
  }
 ],
 "metadata": {
  "kernelspec": {
   "display_name": "Python 3",
   "language": "python",
   "name": "python3"
  },
  "language_info": {
   "codemirror_mode": {
    "name": "ipython",
    "version": 3
   },
   "file_extension": ".py",
   "mimetype": "text/x-python",
   "name": "python",
   "nbconvert_exporter": "python",
   "pygments_lexer": "ipython3",
   "version": "3.10.13"
  }
 },
 "nbformat": 4,
 "nbformat_minor": 2
}
