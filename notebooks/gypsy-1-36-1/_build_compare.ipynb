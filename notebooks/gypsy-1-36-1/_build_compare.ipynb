{
 "cells": [
  {
   "cell_type": "markdown",
   "metadata": {},
   "source": [
    "# Build comparison using weights"
   ]
  },
  {
   "cell_type": "code",
   "execution_count": 1,
   "metadata": {},
   "outputs": [],
   "source": [
    "import yaml"
   ]
  },
  {
   "cell_type": "code",
   "execution_count": 2,
   "metadata": {},
   "outputs": [],
   "source": [
    "import sys\n",
    "sys.path.append('../../src/1.36/')\n",
    "\n",
    "from model import Idea, Policy, Build\n",
    "from loader_tools import load_ideas, load_policies"
   ]
  },
  {
   "cell_type": "code",
   "execution_count": null,
   "metadata": {},
   "outputs": [],
   "source": []
  },
  {
   "cell_type": "code",
   "execution_count": 3,
   "metadata": {},
   "outputs": [],
   "source": [
    "IDEAS: dict[str, Idea] = load_ideas([\n",
    "    '../../data/processed/gypsy-1-36-1/00_basic_ideas.yaml',\n",
    "    '../../data/processed/gypsy-1-36-1/00_flogi_ideas.yaml',\n",
    "])\n",
    "\n",
    "POLICIES: dict[str, Policy] = load_policies([\n",
    "    '../../data/processed/gypsy-1-36-1/Idea_Variation_policies.yaml'\n",
    "])"
   ]
  },
  {
   "cell_type": "code",
   "execution_count": 4,
   "metadata": {},
   "outputs": [],
   "source": [
    "BUILD_A = ['assimilation0', 'society0', 'weapon_quality0', 'catholic0', 'spy_ideas', 'quality0', 'economic_ideas', 'fire0']\n",
    "BUILD_B = ['society0', 'economic_ideas', 'standing_army0', 'imperialism0', 'decentralisation0', 'quality0', 'spy_ideas', 'weapon_quality0']"
   ]
  },
  {
   "cell_type": "code",
   "execution_count": 5,
   "metadata": {},
   "outputs": [],
   "source": [
    "BUILD_CONFIG_PATH = '../../data/external/build_configs/combat_inf.yaml'\n",
    "\n",
    "\n",
    "with open(BUILD_CONFIG_PATH, 'r') as f:\n",
    "    build_config = yaml.safe_load(f)\n",
    "\n",
    "HIGHLIGHTS = build_config['highlights']\n",
    "\n",
    "weights = build_config['weights']\n",
    "COUNTRY_WEIGHTS = weights['country']\n",
    "MILITARY_WEIGHTS = weights['military']\n",
    "EXTRA_WEIGHTS = weights['ideas']\n"
   ]
  },
  {
   "cell_type": "code",
   "execution_count": 6,
   "metadata": {},
   "outputs": [],
   "source": [
    "# Check if all ideas are present\n",
    "\n",
    "for idea in BUILD_A + BUILD_B:\n",
    "    if idea not in IDEAS:\n",
    "        print(f'Idea {idea} not found')"
   ]
  },
  {
   "cell_type": "code",
   "execution_count": 7,
   "metadata": {},
   "outputs": [
    {
     "ename": "SyntaxError",
     "evalue": "incomplete input (2968156420.py, line 2)",
     "output_type": "error",
     "traceback": [
      "\u001b[0;36m  Cell \u001b[0;32mIn[7], line 2\u001b[0;36m\u001b[0m\n\u001b[0;31m    for idea in BUILD_A:\u001b[0m\n\u001b[0m                        ^\u001b[0m\n\u001b[0;31mSyntaxError\u001b[0m\u001b[0;31m:\u001b[0m incomplete input\n"
     ]
    }
   ],
   "source": [
    "build_a = Build()\n",
    "for idea in BUILD_A:\n"
   ]
  },
  {
   "cell_type": "code",
   "execution_count": null,
   "metadata": {},
   "outputs": [],
   "source": [
    "for idea in BUILD_A:\n",
    "    build_a = build_a.add_idea(IDEAS[idea])"
   ]
  }
 ],
 "metadata": {
  "kernelspec": {
   "display_name": "Python 3",
   "language": "python",
   "name": "python3"
  },
  "language_info": {
   "codemirror_mode": {
    "name": "ipython",
    "version": 3
   },
   "file_extension": ".py",
   "mimetype": "text/x-python",
   "name": "python",
   "nbconvert_exporter": "python",
   "pygments_lexer": "ipython3",
   "version": "3.10.13"
  }
 },
 "nbformat": 4,
 "nbformat_minor": 2
}
