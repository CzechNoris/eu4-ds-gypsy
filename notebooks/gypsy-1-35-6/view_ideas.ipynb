{
 "cells": [
  {
   "cell_type": "markdown",
   "metadata": {},
   "source": [
    "# Gypsy mod ideas"
   ]
  },
  {
   "cell_type": "code",
   "execution_count": 7,
   "metadata": {},
   "outputs": [],
   "source": [
    "import yaml"
   ]
  },
  {
   "cell_type": "code",
   "execution_count": 8,
   "metadata": {},
   "outputs": [],
   "source": [
    "IDEAS_PATH = 'data/gypsy_transformed/ideas.yaml'"
   ]
  },
  {
   "cell_type": "code",
   "execution_count": 9,
   "metadata": {},
   "outputs": [],
   "source": [
    "class Idea():\n",
    "    def __init__(self, name:str, type: str, effect: dict):\n",
    "        self.name = name\n",
    "        self.type = type\n",
    "        self.effect = effect\n",
    "\n",
    "    def __repr__(self):\n",
    "        return f\"Policy({self.name}, {self.type}, {self.effect})\""
   ]
  },
  {
   "cell_type": "code",
   "execution_count": 10,
   "metadata": {},
   "outputs": [],
   "source": [
    "with open(IDEAS_PATH, 'r') as f:\n",
    "    ideas_dict = yaml.load(f, Loader=yaml.FullLoader)"
   ]
  },
  {
   "cell_type": "code",
   "execution_count": 19,
   "metadata": {},
   "outputs": [],
   "source": [
    "ideas = []\n",
    "for name, value in ideas_dict.items():\n",
    "    category = value['category']\n",
    "    effect = {}\n",
    "    for key in value.keys():\n",
    "        if key != 'category' and key != 'important':\n",
    "            effect_set = value[key]\n",
    "            for k, v in effect_set.items():\n",
    "                if k in effect:\n",
    "                    effect[k] += v\n",
    "                else:\n",
    "                    effect[k] = v\n",
    "    ideas.append(Idea(name=name, type=category, effect=effect))\n",
    "            "
   ]
  },
  {
   "cell_type": "code",
   "execution_count": 9,
   "metadata": {},
   "outputs": [
    {
     "name": "stdout",
     "output_type": "stream",
     "text": [
      "Policy(idea_variation_act_641, DIP, ({'spy_ideas'}, {'offensive0'}), {'cavalry_power': 0.1, 'cav_to_inf_ratio': 0.1})\n",
      "Policy(idea_variation_act_31, ADM, ({'quality0'}, {'gesundheit0', 'strongfem0'}), {'discipline': 0.05})\n",
      "Policy(idea_variation_act_104, ADM, ({'kriegsproduktion0'}, {'economic_ideas'}), {'artillery_power': 0.1})\n",
      "Policy(idea_variation_act_106, DIP, ({'kriegsproduktion0'}, {'trade_ideas'}), {'fire_damage': 0.05})\n",
      "Policy(idea_variation_act_193, DIP, ({'assimilation0'}, {'quantity0'}), {'cavalry_power': 0.1, 'cav_to_inf_ratio': 0.1})\n",
      "Policy(idea_variation_act_277, ADM, ({'defensive0'}, {'gesundheit0', 'strongfem0'}), {'land_morale': 0.15})\n",
      "Policy(idea_variation_act_288, ADM, ({'generalstab0'}, {'expansion_ideas'}), {'shock_damage': 0.075})\n",
      "Policy(idea_variation_act_321, ADM, ({'wehrpflicht0'}, {'justiz0'}), {'land_morale': 0.15})\n",
      "Policy(idea_variation_act_376, ADM, ({'militarismus0'}, {'administrative_ideas'}), {'land_morale': 0.15})\n",
      "Policy(idea_variation_act_408, ADM, ({'formation0'}, {'justiz0'}), {'land_morale': 0.15})\n",
      "Policy(idea_variation_act_417, DIP, ({'formation0'}, {'influence_ideas'}), {'land_morale': 0.15})\n",
      "Policy(idea_variation_act_441, DIP, ({'shock0'}, {'spy_ideas'}), {'cavalry_power': 0.1, 'cav_to_inf_ratio': 0.1})\n",
      "Policy(idea_variation_act_449, ADM, ({'shock0'}, {'administrative_ideas'}), {'shock_damage': 0.075})\n",
      "Policy(idea_variation_act_453, ADM, ({'shock0'}, {'gesundheit0', 'strongfem0'}), {'shock_damage': 0.075})\n",
      "Policy(idea_variation_act_459, DIP, ({'shock0'}, {'assimilation0'}), {'cavalry_power': 0.1, 'cav_to_inf_ratio': 0.1})\n"
     ]
    }
   ],
   "source": [
    "for x in non_military_army_policies_best:\n",
    "    print(x)"
   ]
  },
  {
   "cell_type": "code",
   "execution_count": null,
   "metadata": {},
   "outputs": [],
   "source": []
  }
 ],
 "metadata": {
  "kernelspec": {
   "display_name": "Python 3",
   "language": "python",
   "name": "python3"
  },
  "language_info": {
   "codemirror_mode": {
    "name": "ipython",
    "version": 3
   },
   "file_extension": ".py",
   "mimetype": "text/x-python",
   "name": "python",
   "nbconvert_exporter": "python",
   "pygments_lexer": "ipython3",
   "version": "3.10.13"
  },
  "orig_nbformat": 4
 },
 "nbformat": 4,
 "nbformat_minor": 2
}
