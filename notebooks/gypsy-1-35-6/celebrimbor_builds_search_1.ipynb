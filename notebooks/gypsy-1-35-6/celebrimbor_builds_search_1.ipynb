{
 "cells": [
  {
   "cell_type": "markdown",
   "metadata": {},
   "source": [
    "# Celebrimbor build search\n",
    "\n",
    "Scope at infantry and arty combat ability plus dev"
   ]
  },
  {
   "cell_type": "code",
   "execution_count": 1,
   "metadata": {},
   "outputs": [],
   "source": [
    "from collections import Counter, defaultdict\n",
    "import itertools\n",
    "from math import comb\n",
    "from tqdm.notebook import tqdm\n",
    "import random"
   ]
  },
  {
   "cell_type": "code",
   "execution_count": 2,
   "metadata": {},
   "outputs": [],
   "source": [
    "%load_ext autoreload\n",
    "%autoreload 2\n",
    "\n",
    "from lib.model import *\n",
    "from lib.build_tools import *\n",
    "from lib.loader_tools import *"
   ]
  },
  {
   "cell_type": "code",
   "execution_count": 3,
   "metadata": {},
   "outputs": [],
   "source": [
    "IDEAS = load_ideas([\n",
    "    'data/gypsy_transformed/ideas.yaml', \n",
    "    'data/gypsy_transformed/ideas_flogi.yaml', \n",
    "    'data/gypsy_transformed/ideas_flogi_relig.yaml'\n",
    "])\n",
    "\n",
    "POLICIES = load_policies([\n",
    "    'data/gypsy_transformed/policies.yaml'\n",
    "])"
   ]
  },
  {
   "cell_type": "code",
   "execution_count": 4,
   "metadata": {},
   "outputs": [],
   "source": [
    "def print_build(build: Build, effects: list[str]):\n",
    "    print('--------------------------------------------------------------------')\n",
    "    print(f\"Build - score: {build.score} - ideas: {build.ideas}\")\n",
    "    for effect in effects:\n",
    "        print(f\"\\t{effect}: {build.total_effect[effect]:.2f}\")\n",
    "\n",
    "def get_ideas_effect(ideas: tuple[str]):\n",
    "    total_effect = Counter()\n",
    "    for idea in ideas:\n",
    "        total_effect.update(IDEAS[idea].effect)\n",
    "        \n",
    "    return total_effect\n",
    "\n",
    "def compute_build(ideas: tuple[str], base_policy_slots=4, debug=False) -> Build:\n",
    "    ideas_effect = get_ideas_effect(ideas)\n",
    "\n",
    "    available_policies = get_available_policies(ideas, POLICIES)\n",
    "    max_policy_slots = get_max_policy_slots(ideas_effect, base_policy_slots)\n",
    "\n",
    "    adm_max_policy, dip_max_policy, mil_max_policy = get_max_policy_slots(ideas_effect, base_policy_slots)\n",
    "    micro_management_policies_effect = get_micro_management_policies_effect(ideas, available_policies, max_policy_slots)\n",
    "    war_policies_effect = get_war_policies_effect(ideas, MILITARY_WEIGHTS, available_policies, max_policy_slots)\n",
    "\n",
    "    total_effect = Counter()\n",
    "    total_effect.update(ideas_effect)\n",
    "    total_effect.update(micro_management_policies_effect)\n",
    "    total_effect.update(war_policies_effect)\n",
    "\n",
    "\n",
    "    \n",
    "    return Build(\n",
    "        ideas=ideas, \n",
    "        score=score(total_effect, [COUNTRY_WEIGHTS, MILITARY_WEIGHTS], debug=debug),\n",
    "        total_effect=total_effect,\n",
    "        war_policies_effect=war_policies_effect,\n",
    "    )"
   ]
  },
  {
   "cell_type": "markdown",
   "metadata": {},
   "source": [
    "## Build rules"
   ]
  },
  {
   "cell_type": "code",
   "execution_count": 5,
   "metadata": {},
   "outputs": [],
   "source": [
    "admin_idea_names = [v.name for k, v in IDEAS.items() if v.type == 'ADM']\n",
    "diplo_idea_names = [v.name for k, v in IDEAS.items() if v.type == 'DIP']\n",
    "military_idea_names = [v.name for k, v in IDEAS.items() if v.type == 'MIL']"
   ]
  },
  {
   "cell_type": "code",
   "execution_count": 6,
   "metadata": {},
   "outputs": [],
   "source": [
    "admin_idea_allowed = [\n",
    "    'innovativeness_ideas',\n",
    "    'economic_ideas',\n",
    "    'expansion_ideas',\n",
    "    'administrative_ideas',\n",
    "    'humanist_ideas',\n",
    "    'judiciary',\n",
    "    'development',\n",
    "    'strong_men',\n",
    "    # 'fem_boy', # Commented since the same as strong_men\n",
    "    # 'public_admin',\n",
    "    'centralism',\n",
    "    'decentralism',\n",
    "    # Uncomment your government type\n",
    "    'monarchie0',\n",
    "    # 'republik0',\n",
    "    # 'aristo0',\n",
    "    # 'diktatur0',\n",
    "    # 'horde0',\n",
    "    # Uncomment your religion\n",
    "    # 'religious_ideas',\n",
    "    'katholisch0',\n",
    "    # 'protestant0',\n",
    "    # 'reformiert0',\n",
    "    # 'orthodox0',\n",
    "    # 'islam0',\n",
    "    # 'tengri0',\n",
    "    # 'hindu0',\n",
    "    # 'confuci0',\n",
    "    # 'budda0',\n",
    "    # 'norse0',\n",
    "    # 'shinto0',\n",
    "    # 'cathar0',\n",
    "    # 'coptic0',\n",
    "    # 'romuva0',\n",
    "    # 'suomi0',\n",
    "    # 'jew0',\n",
    "    # 'slav0',\n",
    "    # 'helle0',\n",
    "    # 'mane0',\n",
    "    # 'animist0',\n",
    "    # 'feti0',\n",
    "    # 'zoro0',\n",
    "    # 'ancli0',\n",
    "    # 'nahu0',\n",
    "    # 'mesoam0',\n",
    "    # 'inti0',\n",
    "    # 'tote0',\n",
    "    # 'shia0',\n",
    "    # 'ibadi0',\n",
    "    # 'hussite0',\n",
    "    # 'alche0'\n",
    "]\n",
    "admin_not_compatible = [\n",
    "    ('strong_men', 'fem_boy',),\n",
    "    ('centralism', 'decentralism',),\n",
    "]"
   ]
  },
  {
   "cell_type": "code",
   "execution_count": 7,
   "metadata": {},
   "outputs": [],
   "source": [
    "diplo_idea_allowed = [\n",
    "    'spy_ideas',\n",
    "    'dynastic',\n",
    "    'influence_ideas',\n",
    "    'trade_ideas',\n",
    "    'exploration_ideas',\n",
    "    'maritime_ideas',\n",
    "    'heavy_ship',\n",
    "    'galley_ship',\n",
    "    'trade_ship',\n",
    "    'colonial_emp',\n",
    "    'assimilation',\n",
    "    'sociaty',\n",
    "    'propaganda',\n",
    "    'fleet_base',\n",
    "    'nationalismus',\n",
    "    'konigreich0',\n",
    "    'imperialismus'\n",
    "]\n",
    "dip_not_compatible = [\n",
    "    ('heavy_ship', 'galley_ship'),\n",
    "    ('heavy_ship', 'trade_ship'),\n",
    "    ('galley_ship', 'trade_ship')\n",
    "]"
   ]
  },
  {
   "cell_type": "code",
   "execution_count": 8,
   "metadata": {},
   "outputs": [],
   "source": [
    "military_idea_allowed = [\n",
    "    'offensive',\n",
    "    'defensive',\n",
    "    'quality',\n",
    "    'quantity',\n",
    "    'general_staff',\n",
    "    'standing_army',\n",
    "    'conscription',\n",
    "    'merc_army',\n",
    "    'weapon_quality',\n",
    "    'fortress',\n",
    "    'war_production',\n",
    "    'formation0',\n",
    "    'militarism',\n",
    "    'shock_ideas',\n",
    "    'fire_ideas'\n",
    " ]\n",
    "mil_not_compatible = [\n",
    "    ('offensive', 'defensive'),\n",
    "    ('quality', 'quantity'),\n",
    "    ('standing_army', 'conscription'),\n",
    "    ('shock_ideas', 'fire_ideas')\n",
    "]"
   ]
  },
  {
   "cell_type": "markdown",
   "metadata": {},
   "source": [
    "## Build score"
   ]
  },
  {
   "cell_type": "code",
   "execution_count": 9,
   "metadata": {},
   "outputs": [],
   "source": [
    "# Country weights are used to determine the score of a country during peace time\n",
    "COUNTRY_WEIGHTS = {\n",
    "    'development_cost': 100,               # Each 10% is 10 points\n",
    "}\n",
    "\n",
    "# War weights are used to determine the score of a country during war time and to find the best policies\n",
    "MILITARY_WEIGHTS ={\n",
    "    'infantry_power': 150,                  # Each 10% is 15 points\n",
    "    'artillery_power': 150,                 # Each 10% is 15 points\n",
    "    'discipline': 300,                      # Each 10% is 30 points\n",
    "}"
   ]
  },
  {
   "cell_type": "markdown",
   "metadata": {},
   "source": [
    "## Find the best build"
   ]
  },
  {
   "cell_type": "code",
   "execution_count": 10,
   "metadata": {},
   "outputs": [],
   "source": [
    "builds = defaultdict(dict)\n",
    "\n",
    "IDEA_COUNT_THRESHOLD = 0.39\n",
    "\n",
    "def expand_idea_set(idea_set: set):\n",
    "    idea_set_count = len(idea_set)\n",
    "    adm_idea_count = len([x for x in idea_set if x in admin_idea_names])\n",
    "    dip_idea_count = len([x for x in idea_set if x in diplo_idea_names])\n",
    "    mil_idea_count = len([x for x in idea_set if x in military_idea_names])\n",
    "    if adm_idea_count / idea_set_count < IDEA_COUNT_THRESHOLD:\n",
    "        for idea in admin_idea_allowed:\n",
    "            if idea not in idea_set:\n",
    "                expanded_idea_set = idea_set.union({idea})\n",
    "                for rule_A, rule_B in admin_not_compatible:\n",
    "                    if rule_A in expanded_idea_set and rule_B in expanded_idea_set:\n",
    "                        break\n",
    "                else:\n",
    "                    yield expanded_idea_set\n",
    "    if dip_idea_count / idea_set_count < IDEA_COUNT_THRESHOLD:\n",
    "        for idea in diplo_idea_allowed:\n",
    "            if idea not in idea_set:\n",
    "                expanded_idea_set = idea_set.union({idea})\n",
    "                for rule_A, rule_B in dip_not_compatible:\n",
    "                    if rule_A in expanded_idea_set and rule_B in expanded_idea_set:\n",
    "                        break\n",
    "                else:\n",
    "                    yield expanded_idea_set\n",
    "    if mil_idea_count / idea_set_count < IDEA_COUNT_THRESHOLD:\n",
    "        for idea in military_idea_allowed:\n",
    "            if idea not in idea_set:\n",
    "                expanded_idea_set = idea_set.union({idea})\n",
    "                for rule_A, rule_B in mil_not_compatible:\n",
    "                    if rule_A in expanded_idea_set and rule_B in expanded_idea_set:\n",
    "                        break\n",
    "                else:\n",
    "                    yield expanded_idea_set"
   ]
  },
  {
   "cell_type": "markdown",
   "metadata": {},
   "source": [
    "## 3-policy builds"
   ]
  },
  {
   "cell_type": "code",
   "execution_count": 11,
   "metadata": {},
   "outputs": [
    {
     "data": {
      "application/vnd.jupyter.widget-view+json": {
       "model_id": "b0aa45f94a0a4609a49a61371bdc6bcc",
       "version_major": 2,
       "version_minor": 0
      },
      "text/plain": [
       "  0%|          | 0/3060 [00:00<?, ?it/s]"
      ]
     },
     "metadata": {},
     "output_type": "display_data"
    }
   ],
   "source": [
    "total_options = len(admin_idea_allowed) *  len(diplo_idea_allowed) * len(military_idea_allowed)\n",
    "\n",
    "with tqdm(total=total_options) as pbar:\n",
    "    for admin_ideas in admin_idea_allowed:\n",
    "        for diplo_ideas in diplo_idea_allowed:\n",
    "            for military_ideas in military_idea_allowed:\n",
    "                idea_list = [admin_ideas,  diplo_ideas,  military_ideas]\n",
    "                idea_list.sort()\n",
    "                ideas = tuple(idea_list)\n",
    "                build = compute_build(ideas)\n",
    "                builds[3][ideas] = (build)\n",
    "                pbar.update(1)"
   ]
  },
  {
   "cell_type": "markdown",
   "metadata": {},
   "source": [
    "## 4-policy builds"
   ]
  },
  {
   "cell_type": "code",
   "execution_count": 14,
   "metadata": {},
   "outputs": [
    {
     "data": {
      "application/vnd.jupyter.widget-view+json": {
       "model_id": "fad6a3e6910c4eb8b70553bd82e5024c",
       "version_major": 2,
       "version_minor": 0
      },
      "text/plain": [
       "  0%|          | 0/3060 [00:00<?, ?it/s]"
      ]
     },
     "metadata": {},
     "output_type": "display_data"
    }
   ],
   "source": [
    "for ideas in tqdm(builds[3].keys(), total=len(builds[3])):\n",
    "    for new_idea_set in expand_idea_set(set(ideas)):\n",
    "        idea_list = list(new_idea_set)\n",
    "        idea_list.sort()\n",
    "        new_ideas = tuple(idea_list)\n",
    "        new_build = compute_build(new_ideas)\n",
    "        builds[4][new_ideas] = new_build"
   ]
  },
  {
   "cell_type": "markdown",
   "metadata": {},
   "source": [
    "## 5-policy builds"
   ]
  },
  {
   "cell_type": "code",
   "execution_count": 15,
   "metadata": {},
   "outputs": [
    {
     "data": {
      "application/vnd.jupyter.widget-view+json": {
       "model_id": "14a91e1528504072847c25f6031cf929",
       "version_major": 2,
       "version_minor": 0
      },
      "text/plain": [
       "  0%|          | 0/61119 [00:00<?, ?it/s]"
      ]
     },
     "metadata": {},
     "output_type": "display_data"
    }
   ],
   "source": [
    "for ideas in tqdm(builds[4].keys(), total=len(builds[4])):\n",
    "    for new_idea_set in expand_idea_set(set(ideas)):\n",
    "        idea_list = list(new_idea_set)\n",
    "        idea_list.sort()\n",
    "        new_ideas = tuple(idea_list)\n",
    "        new_build = compute_build(new_ideas)\n",
    "        builds[5][new_ideas] = new_build"
   ]
  },
  {
   "cell_type": "markdown",
   "metadata": {},
   "source": [
    "## 6-policy builds"
   ]
  },
  {
   "cell_type": "code",
   "execution_count": 16,
   "metadata": {},
   "outputs": [
    {
     "data": {
      "application/vnd.jupyter.widget-view+json": {
       "model_id": "8eac1ad186c14db59ec904493cf59bf1",
       "version_major": 2,
       "version_minor": 0
      },
      "text/plain": [
       "  0%|          | 0/942480 [00:00<?, ?it/s]"
      ]
     },
     "metadata": {},
     "output_type": "display_data"
    }
   ],
   "source": [
    "total_options = comb(len(admin_idea_allowed), 2) * comb(len(diplo_idea_allowed), 2) * comb(len(military_idea_allowed), 2)\n",
    "\n",
    "with tqdm(total=total_options) as pbar:\n",
    "    for admin_ideas in itertools.combinations(admin_idea_allowed, 2):\n",
    "        for diplo_ideas in itertools.combinations(diplo_idea_allowed, 2):\n",
    "            for military_ideas in itertools.combinations(military_idea_allowed, 2):\n",
    "                idea_set = set(admin_ideas + diplo_ideas + military_ideas)\n",
    "                for rule_A, rule_B in admin_not_compatible + dip_not_compatible + mil_not_compatible:\n",
    "                    if rule_A in idea_set and rule_B in idea_set:\n",
    "                        break\n",
    "                else:\n",
    "                    idea_list = list(idea_set)\n",
    "                    idea_list.sort()\n",
    "                    ideas = tuple(idea_list)\n",
    "                    build = compute_build(ideas)\n",
    "                    builds[6][ideas] = build\n",
    "                pbar.update(1)\n"
   ]
  },
  {
   "cell_type": "markdown",
   "metadata": {},
   "source": [
    "## Expand on the best builds"
   ]
  },
  {
   "cell_type": "code",
   "execution_count": 17,
   "metadata": {},
   "outputs": [],
   "source": [
    "EXPAND_BEST_N = 1000\n",
    "EXPAND_RANDOM_N = 3000\n",
    "\n",
    "def get_ideas_to_expand(build_list: list[Build], best_n=EXPAND_BEST_N, random_n=EXPAND_RANDOM_N):\n",
    "    build_list.sort(key=lambda x: x.score, reverse=True)\n",
    "    best_builds = build_list[:best_n]\n",
    "    random_builds = random.sample(build_list[best_n:], random_n)\n",
    "    return best_builds + random_builds\n"
   ]
  },
  {
   "cell_type": "code",
   "execution_count": 18,
   "metadata": {},
   "outputs": [
    {
     "data": {
      "application/vnd.jupyter.widget-view+json": {
       "model_id": "913c4171107c40d5a5a23451f8930e15",
       "version_major": 2,
       "version_minor": 0
      },
      "text/plain": [
       "Expanding builds 6:   0%|          | 0/4000 [00:00<?, ?it/s]"
      ]
     },
     "metadata": {},
     "output_type": "display_data"
    },
    {
     "data": {
      "application/vnd.jupyter.widget-view+json": {
       "model_id": "3c2ff57db05f41548a1c7d8be192d9eb",
       "version_major": 2,
       "version_minor": 0
      },
      "text/plain": [
       "Expanding builds 7:   0%|          | 0/4000 [00:00<?, ?it/s]"
      ]
     },
     "metadata": {},
     "output_type": "display_data"
    },
    {
     "data": {
      "application/vnd.jupyter.widget-view+json": {
       "model_id": "dded0d77f5ef4489af705e8ba7eae049",
       "version_major": 2,
       "version_minor": 0
      },
      "text/plain": [
       "Expanding builds 8:   0%|          | 0/4000 [00:00<?, ?it/s]"
      ]
     },
     "metadata": {},
     "output_type": "display_data"
    },
    {
     "data": {
      "application/vnd.jupyter.widget-view+json": {
       "model_id": "abdd9ef924b94f6696cc0f9725effff1",
       "version_major": 2,
       "version_minor": 0
      },
      "text/plain": [
       "Expanding builds 9:   0%|          | 0/4000 [00:00<?, ?it/s]"
      ]
     },
     "metadata": {},
     "output_type": "display_data"
    },
    {
     "data": {
      "application/vnd.jupyter.widget-view+json": {
       "model_id": "417508f75d424182bc5d544816925898",
       "version_major": 2,
       "version_minor": 0
      },
      "text/plain": [
       "Expanding builds 10:   0%|          | 0/4000 [00:00<?, ?it/s]"
      ]
     },
     "metadata": {},
     "output_type": "display_data"
    }
   ],
   "source": [
    "for i in range(6, 11):\n",
    "    builds_to_expand = get_ideas_to_expand(list(builds[i].values()))\n",
    "    for build in tqdm(builds_to_expand, desc=f'Expanding builds {i}'):\n",
    "        for new_idea_set in expand_idea_set(set(build.ideas)):\n",
    "            idea_list = list(new_idea_set)\n",
    "            idea_list.sort()\n",
    "            new_ideas = tuple(idea_list)\n",
    "            new_build = compute_build(new_ideas)\n",
    "            builds[i+1][new_ideas] = new_build"
   ]
  },
  {
   "cell_type": "markdown",
   "metadata": {},
   "source": [
    "## The best"
   ]
  },
  {
   "cell_type": "code",
   "execution_count": 20,
   "metadata": {},
   "outputs": [
    {
     "name": "stdout",
     "output_type": "stream",
     "text": [
      "--------------------------------------------------------------------\n",
      "Build - score: 217.5 - ideas: ('economic_ideas', 'imperialismus', 'quality', 'sociaty', 'strong_men', 'weapon_quality')\n",
      "\tdevelopment_cost: 0.30\n",
      "\tinfantry_power: 0.30\n",
      "\tartillery_power: 0.40\n",
      "\tdiscipline: 0.28\n",
      "--------------------------------------------------------------------\n",
      "Build - score: 212.5 - ideas: ('development', 'economic_ideas', 'imperialismus', 'sociaty', 'standing_army', 'weapon_quality')\n",
      "\tdevelopment_cost: 0.40\n",
      "\tinfantry_power: 0.30\n",
      "\tartillery_power: 0.30\n",
      "\tdiscipline: 0.28\n",
      "--------------------------------------------------------------------\n",
      "Build - score: 210.0 - ideas: ('economic_ideas', 'konigreich0', 'quality', 'sociaty', 'strong_men', 'weapon_quality')\n",
      "\tdevelopment_cost: 0.30\n",
      "\tinfantry_power: 0.30\n",
      "\tartillery_power: 0.40\n",
      "\tdiscipline: 0.25\n",
      "--------------------------------------------------------------------\n",
      "Build - score: 207.5 - ideas: ('development', 'economic_ideas', 'imperialismus', 'propaganda', 'standing_army', 'weapon_quality')\n",
      "\tdevelopment_cost: 0.50\n",
      "\tinfantry_power: 0.30\n",
      "\tartillery_power: 0.30\n",
      "\tdiscipline: 0.23\n",
      "--------------------------------------------------------------------\n",
      "Build - score: 207.5 - ideas: ('economic_ideas', 'imperialismus', 'konigreich0', 'offensive', 'quality', 'strong_men')\n",
      "\tdevelopment_cost: 0.50\n",
      "\tinfantry_power: 0.10\n",
      "\tartillery_power: 0.25\n",
      "\tdiscipline: 0.35\n"
     ]
    }
   ],
   "source": [
    "build6 = list(builds[6].values())\n",
    "build6.sort(key=lambda x: x.score, reverse=True)\n",
    "for build in build6[:5]:\n",
    "    print_build(build, ['development_cost', 'infantry_power', 'artillery_power', 'discipline'])"
   ]
  },
  {
   "cell_type": "code",
   "execution_count": 19,
   "metadata": {},
   "outputs": [
    {
     "name": "stdout",
     "output_type": "stream",
     "text": [
      "--------------------------------------------------------------------\n",
      "Build - score: 292.5 - ideas: ('development', 'economic_ideas', 'imperialismus', 'propaganda', 'quality', 'standing_army', 'strong_men', 'weapon_quality')\n",
      "\tdevelopment_cost: 0.60\n",
      "\tinfantry_power: 0.40\n",
      "\tartillery_power: 0.40\n",
      "\tdiscipline: 0.38\n",
      "--------------------------------------------------------------------\n",
      "Build - score: 287.5 - ideas: ('decentralism', 'development', 'economic_ideas', 'imperialismus', 'propaganda', 'quality', 'standing_army', 'weapon_quality')\n",
      "\tdevelopment_cost: 0.70\n",
      "\tinfantry_power: 0.40\n",
      "\tartillery_power: 0.40\n",
      "\tdiscipline: 0.33\n",
      "--------------------------------------------------------------------\n",
      "Build - score: 287.5 - ideas: ('development', 'economic_ideas', 'imperialismus', 'konigreich0', 'quality', 'standing_army', 'strong_men', 'weapon_quality')\n",
      "\tdevelopment_cost: 0.70\n",
      "\tinfantry_power: 0.40\n",
      "\tartillery_power: 0.40\n",
      "\tdiscipline: 0.33\n",
      "--------------------------------------------------------------------\n",
      "Build - score: 285.0 - ideas: ('development', 'economic_ideas', 'konigreich0', 'propaganda', 'quality', 'standing_army', 'strong_men', 'weapon_quality')\n",
      "\tdevelopment_cost: 0.60\n",
      "\tinfantry_power: 0.40\n",
      "\tartillery_power: 0.40\n",
      "\tdiscipline: 0.35\n",
      "--------------------------------------------------------------------\n",
      "Build - score: 282.5 - ideas: ('development', 'economic_ideas', 'imperialismus', 'quality', 'sociaty', 'standing_army', 'strong_men', 'weapon_quality')\n",
      "\tdevelopment_cost: 0.50\n",
      "\tinfantry_power: 0.40\n",
      "\tartillery_power: 0.40\n",
      "\tdiscipline: 0.38\n"
     ]
    }
   ],
   "source": [
    "build8 = list(builds[8].values())\n",
    "build8.sort(key=lambda x: x.score, reverse=True)\n",
    "for build in build8[:5]:\n",
    "    print_build(build, ['development_cost', 'infantry_power', 'artillery_power', 'discipline'])"
   ]
  },
  {
   "cell_type": "code",
   "execution_count": 21,
   "metadata": {},
   "outputs": [
    {
     "data": {
      "text/plain": [
       "[]"
      ]
     },
     "execution_count": 21,
     "metadata": {},
     "output_type": "execute_result"
    }
   ],
   "source": []
  },
  {
   "cell_type": "code",
   "execution_count": null,
   "metadata": {},
   "outputs": [],
   "source": []
  }
 ],
 "metadata": {
  "kernelspec": {
   "display_name": "Python 3",
   "language": "python",
   "name": "python3"
  },
  "language_info": {
   "codemirror_mode": {
    "name": "ipython",
    "version": 3
   },
   "file_extension": ".py",
   "mimetype": "text/x-python",
   "name": "python",
   "nbconvert_exporter": "python",
   "pygments_lexer": "ipython3",
   "version": "3.10.13"
  },
  "orig_nbformat": 4
 },
 "nbformat": 4,
 "nbformat_minor": 2
}
