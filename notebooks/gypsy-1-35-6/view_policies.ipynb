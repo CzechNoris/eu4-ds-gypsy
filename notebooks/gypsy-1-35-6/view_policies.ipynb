{
 "cells": [
  {
   "cell_type": "markdown",
   "metadata": {},
   "source": [
    "# Gypsy mod policies"
   ]
  },
  {
   "cell_type": "code",
   "execution_count": 10,
   "metadata": {},
   "outputs": [
    {
     "ename": "ModuleNotFoundError",
     "evalue": "No module named 'pandas'",
     "output_type": "error",
     "traceback": [
      "\u001b[0;31m---------------------------------------------------------------------------\u001b[0m",
      "\u001b[0;31mModuleNotFoundError\u001b[0m                       Traceback (most recent call last)",
      "\u001b[1;32m/Users/oborovec/Projects/PythonPlayground/EU4-gypsy/view_policies.ipynb Cell 2\u001b[0m line \u001b[0;36m2\n\u001b[1;32m      <a href='vscode-notebook-cell:/Users/oborovec/Projects/PythonPlayground/EU4-gypsy/view_policies.ipynb#W1sZmlsZQ%3D%3D?line=0'>1</a>\u001b[0m \u001b[39mimport\u001b[39;00m \u001b[39myaml\u001b[39;00m\n\u001b[0;32m----> <a href='vscode-notebook-cell:/Users/oborovec/Projects/PythonPlayground/EU4-gypsy/view_policies.ipynb#W1sZmlsZQ%3D%3D?line=1'>2</a>\u001b[0m \u001b[39mimport\u001b[39;00m \u001b[39mpandas\u001b[39;00m \u001b[39mas\u001b[39;00m \u001b[39mpd\u001b[39;00m\n",
      "\u001b[0;31mModuleNotFoundError\u001b[0m: No module named 'pandas'"
     ]
    }
   ],
   "source": [
    "import yaml\n",
    "import pandas as pd"
   ]
  },
  {
   "cell_type": "code",
   "execution_count": 2,
   "metadata": {},
   "outputs": [],
   "source": [
    "POLICIES_PATH = 'data/gypsy_transformed/policies.yaml'"
   ]
  },
  {
   "cell_type": "code",
   "execution_count": 3,
   "metadata": {},
   "outputs": [],
   "source": [
    "class Policy():\n",
    "    def __init__(self, name:str, type: str, req: tuple, effect: dict):\n",
    "        self.name = name\n",
    "        self.type = type\n",
    "        self.req = req\n",
    "        self.effect = effect\n",
    "\n",
    "    def __repr__(self):\n",
    "        return f\"Policy({self.name}, {self.type}, {self.req}, {self.effect})\""
   ]
  },
  {
   "cell_type": "code",
   "execution_count": 4,
   "metadata": {},
   "outputs": [],
   "source": [
    "with open(POLICIES_PATH, 'r') as f:\n",
    "    policies_dict = yaml.load(f, Loader=yaml.FullLoader)"
   ]
  },
  {
   "cell_type": "code",
   "execution_count": 5,
   "metadata": {},
   "outputs": [],
   "source": [
    "abilities = set()\n",
    "skip_keys = {'monarch_power', 'potential', 'allow', 'ai_will_do'}\n",
    "\n",
    "for _, value in policies_dict.items():\n",
    "    for key in value.keys():\n",
    "        if key not in skip_keys:\n",
    "            abilities.add(key)"
   ]
  },
  {
   "cell_type": "code",
   "execution_count": 6,
   "metadata": {},
   "outputs": [],
   "source": [
    "# print(abilities)\n",
    "ability_army = {'army_tradition','army_tradition_decay','artillery_cost','artillery_power','cav_to_inf_ratio','cavalry_power','discipline','drill_gain_modifier','fire_damage','fire_damage_received','fort_maintenance_modifier','garrison_size','global_garrison_growth','global_manpower_modifier','global_regiment_cost','global_regiment_recruit_speed','infantry_cost','infantry_power','land_attrition','land_forcelimit_modifier','land_maintenance_modifier','land_morale','leader_land_fire','leader_land_manuever','leader_land_shock','manpower_recovery_speed','movement_speed','recover_army_morale_speed','reinforce_speed','shock_damage','shock_damage_received','siege_ability',}\n",
    "ability_army_best = {'artillery_power','cavalry_power','discipline','fire_damage','fire_damage_received','infantry_power','land_morale','shock_damage','shock_damage_received',}"
   ]
  },
  {
   "cell_type": "code",
   "execution_count": 7,
   "metadata": {},
   "outputs": [],
   "source": [
    "policies = []\n",
    "\n",
    "for name, value in policies_dict.items():\n",
    "    monarch_power = value['monarch_power']\n",
    "    allow_A = {value['allow'][0]} if isinstance(value['allow'][0], str) else set(value['allow'][0]['OR'])\n",
    "    allow_B = {value['allow'][1]} if isinstance(value['allow'][1], str) else set(value['allow'][1]['OR'])\n",
    "    effect = {}\n",
    "    for key in value.keys():\n",
    "        if key not in skip_keys:\n",
    "            effect[key] = value[key]\n",
    "    policies.append(Policy(\n",
    "            name = name, \n",
    "            type = value['monarch_power'], \n",
    "            req = (allow_A, allow_B),\n",
    "            effect = effect\n",
    "        ))"
   ]
  },
  {
   "cell_type": "code",
   "execution_count": 8,
   "metadata": {},
   "outputs": [],
   "source": [
    "## Non military army policies\n",
    "non_military_army_policies = [policy for policy in policies if policy.type != 'MIL' and any(key in ability_army for key in policy.effect.keys())]\n",
    "non_military_army_policies_best = [policy for policy in policies if policy.type != 'MIL' and any(key in ability_army_best for key in policy.effect.keys())]"
   ]
  },
  {
   "cell_type": "code",
   "execution_count": 9,
   "metadata": {},
   "outputs": [
    {
     "name": "stdout",
     "output_type": "stream",
     "text": [
      "Policy(idea_variation_act_641, DIP, ({'spy_ideas'}, {'offensive'}), {'cavalry_power': 0.1, 'cav_to_inf_ratio': 0.1})\n",
      "Policy(idea_variation_act_31, ADM, ({'quality'}, {'fem_boy', 'strong_men'}), {'discipline': 0.05})\n",
      "Policy(idea_variation_act_104, ADM, ({'war_production'}, {'economic_ideas'}), {'artillery_power': 0.1})\n",
      "Policy(idea_variation_act_106, DIP, ({'war_production'}, {'trade_ideas'}), {'fire_damage': 0.05})\n",
      "Policy(idea_variation_act_193, DIP, ({'assimilation'}, {'quantity'}), {'cavalry_power': 0.1, 'cav_to_inf_ratio': 0.1})\n",
      "Policy(idea_variation_act_277, ADM, ({'defensive'}, {'fem_boy', 'strong_men'}), {'land_morale': 0.15})\n",
      "Policy(idea_variation_act_288, ADM, ({'general_staff'}, {'expansion_ideas'}), {'shock_damage': 0.075})\n",
      "Policy(idea_variation_act_321, ADM, ({'conscription'}, {'judiciary'}), {'land_morale': 0.15})\n",
      "Policy(idea_variation_act_376, ADM, ({'militarism'}, {'administrative_ideas'}), {'land_morale': 0.15})\n",
      "Policy(idea_variation_act_408, ADM, ({'formation0'}, {'judiciary'}), {'land_morale': 0.15})\n",
      "Policy(idea_variation_act_417, DIP, ({'formation0'}, {'influence_ideas'}), {'land_morale': 0.15})\n",
      "Policy(idea_variation_act_441, DIP, ({'shock_ideas'}, {'spy_ideas'}), {'cavalry_power': 0.1, 'cav_to_inf_ratio': 0.1})\n",
      "Policy(idea_variation_act_449, ADM, ({'shock_ideas'}, {'administrative_ideas'}), {'shock_damage': 0.075})\n",
      "Policy(idea_variation_act_453, ADM, ({'shock_ideas'}, {'fem_boy', 'strong_men'}), {'shock_damage': 0.075})\n",
      "Policy(idea_variation_act_459, DIP, ({'shock_ideas'}, {'assimilation'}), {'cavalry_power': 0.1, 'cav_to_inf_ratio': 0.1})\n"
     ]
    }
   ],
   "source": [
    "for x in non_military_army_policies_best:\n",
    "    print(x)"
   ]
  },
  {
   "cell_type": "code",
   "execution_count": 11,
   "metadata": {},
   "outputs": [],
   "source": []
  },
  {
   "cell_type": "code",
   "execution_count": null,
   "metadata": {},
   "outputs": [],
   "source": []
  }
 ],
 "metadata": {
  "kernelspec": {
   "display_name": "Python 3",
   "language": "python",
   "name": "python3"
  },
  "language_info": {
   "codemirror_mode": {
    "name": "ipython",
    "version": 3
   },
   "file_extension": ".py",
   "mimetype": "text/x-python",
   "name": "python",
   "nbconvert_exporter": "python",
   "pygments_lexer": "ipython3",
   "version": "3.10.13"
  },
  "orig_nbformat": 4
 },
 "nbformat": 4,
 "nbformat_minor": 2
}
