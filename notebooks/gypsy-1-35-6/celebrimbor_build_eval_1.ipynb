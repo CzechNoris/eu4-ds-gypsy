{
 "cells": [
  {
   "cell_type": "markdown",
   "metadata": {},
   "source": [
    "# Celebrimbor build eval\n",
    "\n",
    "Scope at infantry and arty combat ability plus dev"
   ]
  },
  {
   "cell_type": "code",
   "execution_count": 1,
   "metadata": {},
   "outputs": [],
   "source": [
    "import yaml\n",
    "from collections import Counter, defaultdict\n",
    "import itertools\n",
    "from math import comb\n",
    "from tqdm.notebook import tqdm\n",
    "import random\n",
    "from functools import lru_cache"
   ]
  },
  {
   "cell_type": "code",
   "execution_count": 2,
   "metadata": {},
   "outputs": [],
   "source": [
    "%load_ext autoreload\n",
    "%autoreload 2\n",
    "\n",
    "from lib.model import *\n",
    "from lib.build_tools import *\n",
    "from lib.loader_tools import *\n"
   ]
  },
  {
   "cell_type": "markdown",
   "metadata": {},
   "source": [
    "## Load data"
   ]
  },
  {
   "cell_type": "code",
   "execution_count": 3,
   "metadata": {},
   "outputs": [],
   "source": [
    "IDEAS = load_ideas([\n",
    "    'data/gypsy_transformed/ideas.yaml', \n",
    "    'data/gypsy_transformed/ideas_flogi.yaml', \n",
    "    'data/gypsy_transformed/ideas_flogi_relig.yaml'\n",
    "])\n",
    "\n",
    "POLICIES = load_policies([\n",
    "    'data/gypsy_transformed/policies.yaml'\n",
    "])"
   ]
  },
  {
   "cell_type": "code",
   "execution_count": 4,
   "metadata": {},
   "outputs": [],
   "source": [
    "def print_build(build: Build, effects: list[str]):\n",
    "    print('--------------------------------------------------------------------')\n",
    "    print(f\"Build - score: {build.score} - ideas: {build.ideas}\")\n",
    "    for effect in effects:\n",
    "        print(f\"\\t{effect}: {build.total_effect[effect]:.2f}\")\n",
    "\n",
    "def get_ideas_effect(ideas: tuple[str]):\n",
    "    total_effect = Counter()\n",
    "    for idea in ideas:\n",
    "        total_effect.update(IDEAS[idea].effect)\n",
    "        \n",
    "    return total_effect\n",
    "\n",
    "def compute_build(ideas: tuple[str], base_policy_slots=4, debug=False) -> Build:\n",
    "    ideas_effect = get_ideas_effect(ideas)\n",
    "\n",
    "    available_policies = get_available_policies(ideas, POLICIES)\n",
    "    max_policy_slots = get_max_policy_slots(ideas_effect, base_policy_slots)\n",
    "\n",
    "    adm_max_policy, dip_max_policy, mil_max_policy = get_max_policy_slots(ideas_effect, base_policy_slots)\n",
    "    micro_management_policies_effect = get_micro_management_policies_effect(ideas, available_policies, max_policy_slots)\n",
    "    war_policies_effect = get_war_policies_effect(ideas, MILITARY_WEIGHTS, available_policies, max_policy_slots)\n",
    "\n",
    "    total_effect = Counter()\n",
    "    total_effect.update(ideas_effect)\n",
    "    total_effect.update(micro_management_policies_effect)\n",
    "    total_effect.update(war_policies_effect)\n",
    "\n",
    "\n",
    "    \n",
    "    return Build(\n",
    "        ideas=ideas, \n",
    "        score=score(total_effect, [COUNTRY_WEIGHTS, MILITARY_WEIGHTS], debug=debug),\n",
    "        total_effect=total_effect,\n",
    "        war_policies_effect=war_policies_effect,\n",
    "    )"
   ]
  },
  {
   "cell_type": "markdown",
   "metadata": {},
   "source": [
    "## Build score"
   ]
  },
  {
   "cell_type": "code",
   "execution_count": 5,
   "metadata": {},
   "outputs": [],
   "source": [
    "# Country weights are used to determine the score of a country during peace time\n",
    "COUNTRY_WEIGHTS = {\n",
    "    'development_cost': 100,               # Each 10% is 10 points\n",
    "}\n",
    "\n",
    "# War weights are used to determine the score of a country during war time and to find the best policies\n",
    "MILITARY_WEIGHTS ={\n",
    "    'infantry_power': 150,                  # Each 10% is 15 points\n",
    "    'artillery_power': 150,                 # Each 10% is 15 points\n",
    "    'discipline': 300,                      # Each 10% is 30 points\n",
    "}"
   ]
  },
  {
   "cell_type": "markdown",
   "metadata": {},
   "source": [
    "## Build eval"
   ]
  },
  {
   "cell_type": "code",
   "execution_count": 6,
   "metadata": {},
   "outputs": [],
   "source": [
    "EVAL_MAIN_EFFECTS = [\n",
    "    'development_cost',\n",
    "    'discipline',\n",
    "    'fire_damage',\n",
    "    'fire_damage_received',\n",
    "    'shock_damage',\n",
    "    'shock_damage_received',\n",
    "    'land_morale',\n",
    "    'infantry_power',\n",
    "    'artillery_power',\n",
    "]\n"
   ]
  },
  {
   "cell_type": "code",
   "execution_count": 7,
   "metadata": {},
   "outputs": [
    {
     "name": "stdout",
     "output_type": "stream",
     "text": [
      "--------------------------------------------------------------------\n",
      "Build - score: 232.5 - ideas: ('decentralism', 'fem_boy', 'development', 'trade_ideas', 'imperialismus', 'standing_army', 'quality', 'weapon_quality')\n",
      "\tdevelopment_cost: 0.60\n",
      "\tdiscipline: 0.28\n",
      "\tfire_damage: 0.00\n",
      "\tfire_damage_received: 0.00\n",
      "\tshock_damage: 0.00\n",
      "\tshock_damage_received: 0.00\n",
      "\tland_morale: 0.00\n",
      "\tinfantry_power: 0.30\n",
      "\tartillery_power: 0.30\n"
     ]
    }
   ],
   "source": [
    "build = compute_build(ideas=(\n",
    "    'decentralism', \n",
    "    'fem_boy', \n",
    "    'development', \n",
    "    'trade_ideas', \n",
    "    'imperialismus', \n",
    "    'standing_army', \n",
    "    'quality', \n",
    "    'weapon_quality'\n",
    "))\n",
    "print_build(build, effects=EVAL_MAIN_EFFECTS)"
   ]
  },
  {
   "cell_type": "code",
   "execution_count": 9,
   "metadata": {},
   "outputs": [
    {
     "name": "stdout",
     "output_type": "stream",
     "text": [
      "--------------------------------------------------------------------\n",
      "Build - score: 265.0 - ideas: ('innovativeness_ideas', 'economic_ideas', 'development', 'assimilation', 'imperialismus', 'standing_army', 'quality', 'weapon_quality')\n",
      "\tdevelopment_cost: 0.40\n",
      "\tdiscipline: 0.28\n",
      "\tfire_damage: 0.00\n",
      "\tfire_damage_received: 0.00\n",
      "\tshock_damage: 0.00\n",
      "\tshock_damage_received: 0.05\n",
      "\tland_morale: 0.00\n",
      "\tinfantry_power: 0.55\n",
      "\tartillery_power: 0.40\n"
     ]
    }
   ],
   "source": [
    "build = compute_build(ideas=(\n",
    "    'innovativeness_ideas',\n",
    "    'economic_ideas', \n",
    "    'development', \n",
    "    'assimilation', \n",
    "    'imperialismus', \n",
    "    'standing_army', \n",
    "    'quality', \n",
    "    'weapon_quality'\n",
    "))\n",
    "print_build(build, effects=EVAL_MAIN_EFFECTS)"
   ]
  },
  {
   "cell_type": "code",
   "execution_count": 10,
   "metadata": {},
   "outputs": [
    {
     "name": "stdout",
     "output_type": "stream",
     "text": [
      "--------------------------------------------------------------------\n",
      "Build - score: 227.5 - ideas: ('decentralism', 'economic_ideas', 'katholisch0', 'trade_ideas', 'imperialismus', 'offensive', 'fire_ideas', 'weapon_quality')\n",
      "\tdevelopment_cost: 0.40\n",
      "\tdiscipline: 0.15\n",
      "\tfire_damage: 0.05\n",
      "\tfire_damage_received: 0.00\n",
      "\tshock_damage: 0.00\n",
      "\tshock_damage_received: 0.07\n",
      "\tland_morale: 0.25\n",
      "\tinfantry_power: 0.30\n",
      "\tartillery_power: 0.65\n"
     ]
    }
   ],
   "source": [
    "build = compute_build(ideas=(\n",
    "    'decentralism', \n",
    "    'economic_ideas', \n",
    "    'katholisch0', \n",
    "    'trade_ideas', \n",
    "    'imperialismus', \n",
    "    'offensive', \n",
    "    'fire_ideas', \n",
    "    'weapon_quality'\n",
    "))\n",
    "print_build(build, effects=EVAL_MAIN_EFFECTS)"
   ]
  },
  {
   "cell_type": "markdown",
   "metadata": {},
   "source": [
    "## Allowed idea values\n",
    "\n",
    "### Admin\n",
    "\n",
    "- innovativeness_ideas\n",
    "- economic_ideas\n",
    "- expansion_ideas\n",
    "- administrative_ideas\n",
    "- humanist_ideas\n",
    "- judiciary\n",
    "- development\n",
    "- strong_men\n",
    "- fem_boy \n",
    "- public_admin\n",
    "- centralism\n",
    "- decentralism\n",
    "\n",
    "#### Gov type\n",
    "\n",
    "- monarchie0\n",
    "- republik0\n",
    "- aristo0\n",
    "- diktatur0\n",
    "- horde0\n",
    "\n",
    "#### Religion\n",
    "\n",
    "- religious_ideas\n",
    "- katholisch0\n",
    "- protestant0\n",
    "- reformiert0\n",
    "- orthodox0\n",
    "- islam0\n",
    "- tengri0\n",
    "- hindu0\n",
    "- confuci0\n",
    "- budda0\n",
    "- norse0\n",
    "- shinto0\n",
    "- cathar0\n",
    "- coptic0\n",
    "- romuva0\n",
    "- suomi0\n",
    "- jew0\n",
    "- slav0\n",
    "- helle0\n",
    "- mane0\n",
    "- animist0\n",
    "- feti0\n",
    "- zoro0\n",
    "- ancli0\n",
    "- nahu0\n",
    "- mesoam0\n",
    "- inti0\n",
    "- tote0\n",
    "- shia0\n",
    "- ibadi0\n",
    "- hussite0\n",
    "- alche0\n",
    "\n",
    "### Diplo\n",
    "\n",
    "- spy_ideas\n",
    "- dynastic\n",
    "- influence_ideas\n",
    "- trade_ideas\n",
    "- exploration_ideas\n",
    "- maritime_ideas\n",
    "- heavy_ship\n",
    "- galley_ship\n",
    "- trade_ship\n",
    "- colonial_emp\n",
    "- assimilation\n",
    "- sociaty\n",
    "- propaganda\n",
    "- fleet_base\n",
    "- nationalismus\n",
    "- konigreich0\n",
    "- imperialismus\n",
    "\n",
    "### Military\n",
    "\n",
    "- offensive\n",
    "- defensive\n",
    "- quality\n",
    "- quantity\n",
    "- general_staff\n",
    "- standing_army\n",
    "- conscription\n",
    "- merc_army\n",
    "- weapon_quality\n",
    "- fortress\n",
    "- war_production\n",
    "- formation0\n",
    "- militarism\n",
    "- shock_ideas\n",
    "- fire_ideas"
   ]
  },
  {
   "cell_type": "markdown",
   "metadata": {},
   "source": []
  }
 ],
 "metadata": {
  "kernelspec": {
   "display_name": "Python 3",
   "language": "python",
   "name": "python3"
  },
  "language_info": {
   "codemirror_mode": {
    "name": "ipython",
    "version": 3
   },
   "file_extension": ".py",
   "mimetype": "text/x-python",
   "name": "python",
   "nbconvert_exporter": "python",
   "pygments_lexer": "ipython3",
   "version": "3.10.13"
  },
  "orig_nbformat": 4
 },
 "nbformat": 4,
 "nbformat_minor": 2
}
