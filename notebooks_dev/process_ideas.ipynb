{
 "cells": [
  {
   "cell_type": "markdown",
   "metadata": {},
   "source": [
    "# Parsing and processing IDEA files"
   ]
  },
  {
   "cell_type": "code",
   "execution_count": 45,
   "metadata": {},
   "outputs": [],
   "source": [
    "import ClauseWizard\n",
    "import yaml"
   ]
  },
  {
   "cell_type": "code",
   "execution_count": 52,
   "metadata": {},
   "outputs": [],
   "source": [
    "# TEST_PATH = '../data/raw/gypsy/common/ideas/00_basic_ideas.txt'\n",
    "# TEST_PATH = '../data/raw/gypsy/common/ideas/00_country_ideas.txt'\n",
    "# TEST_PATH = '../data/raw/gypsy/common/ideas/00_flogi_ideas.txt'\n",
    "TEST_PATH = '../data/raw/gypsy/common/ideas/zz_group_ideas.txt'"
   ]
  },
  {
   "cell_type": "code",
   "execution_count": 53,
   "metadata": {},
   "outputs": [],
   "source": [
    "with open(TEST_PATH, 'r') as f:\n",
    "    tokens = ClauseWizard.cwparse(f.read())\n",
    "    obj = ClauseWizard.cwformat(tokens)"
   ]
  },
  {
   "cell_type": "code",
   "execution_count": 54,
   "metadata": {},
   "outputs": [],
   "source": [
    "# Replace defaultdicts with dicts\n",
    "\n",
    "def dictify(d):\n",
    "    if isinstance(d, dict):\n",
    "        return {k: dictify(v) for k, v in d.items()}\n",
    "    elif isinstance(d, list):\n",
    "        return [dictify(x) for x in d]\n",
    "    elif isinstance(d, set):\n",
    "        return {dictify(x) for x in d}\n",
    "    else:\n",
    "        return d\n",
    "\n",
    "obj = dictify(obj)"
   ]
  },
  {
   "cell_type": "code",
   "execution_count": 55,
   "metadata": {},
   "outputs": [],
   "source": [
    "# Remove keys: ai_will_do, trigger, important, free\n",
    "\n",
    "for k, v in obj.items():\n",
    "    if 'ai_will_do' in v:\n",
    "        del v['ai_will_do']\n",
    "    if 'trigger' in v:\n",
    "        del v['trigger']\n",
    "    if 'important' in v:\n",
    "        del v['important']\n",
    "    if 'free' in v:\n",
    "        del v['free']\n"
   ]
  },
  {
   "cell_type": "code",
   "execution_count": 56,
   "metadata": {},
   "outputs": [
    {
     "name": "stdout",
     "output_type": "stream",
     "text": [
      "Object cossack_ideas has no dict value for key zaz_steppe_riders\n",
      "Object rajput_ideas has no dict value for key marwari_horses\n",
      "Object bengali_ideas has no dict value for key jute_production\n",
      "Object horde_ideas has no dict value for key life_of_steppe_warrior\n",
      "Object horde_ideas has no dict value for key tradition_of_conquest\n",
      "Object horde_ideas has no dict value for key logistics_of_khan\n",
      "Object horde_ideas has no dict value for key glory_of_conquest\n",
      "Object anatolian_beyliks_ideas has no dict value for key ghazi\n",
      "Object ruthenian_ideas has no dict value for key mother_of_russian_cities\n",
      "Object ruthenian_ideas has no dict value for key international_influences\n",
      "Object ruthenian_ideas has no dict value for key zaporizhian_cossacs\n",
      "Object ruthenian_ideas has no dict value for key east_and_west\n",
      "Object ruthenian_ideas has no dict value for key legacy_of_ancient_rus\n",
      "Object ruthenian_ideas has no dict value for key reuniting_rus\n",
      "Object ruthenian_ideas has no dict value for key birth_of_russian_orthodoxy\n",
      "Object laotian_ideas has no dict value for key lao_ethnic_diversity\n",
      "Object malagasy_ideas has no dict value for key malagasy_pirate_ports\n",
      "Object zambezi_ideas has no dict value for key zambezi_maravi_influences\n",
      "Object garjati_ideas has no dict value for key securing_defenses_central_indic\n",
      "Object malabari_ideas has no dict value for key merchants_of_southern_india\n"
     ]
    }
   ],
   "source": [
    "# Quality check\n",
    "# - every object has exactly 9 keys\n",
    "# - every object has to have keys: category or start, bonus\n",
    "# - category value is a str: ADM, DIP, MIL\n",
    "# - eight key values are of type dict\n",
    "\n",
    "IDEA_CATEGORY_VALUES = ['ADM', 'DIP', 'MIL']\n",
    "for k, v in obj.items():\n",
    "    if len(v) != 9:\n",
    "        print(f'Object {k} has {len(v)} keys')\n",
    "    if 'category' not in v:\n",
    "        if 'start' not in v:\n",
    "            print(f'Object {k} has no category or start key')\n",
    "    else:\n",
    "        v['category'] = v['category'].upper()\n",
    "        if  v['category'] not in IDEA_CATEGORY_VALUES:\n",
    "            print(f'Object {k} has category {v[\"category\"]}')\n",
    "    idea_keys = [k for k in v.keys() if k != 'category']\n",
    "    for key in idea_keys:\n",
    "        if not isinstance(v[key], dict):\n",
    "            print(f'Object {k} has no dict value for key {key}')\n",
    "            del v[key]\n",
    "    \n",
    "    "
   ]
  },
  {
   "cell_type": "code",
   "execution_count": 58,
   "metadata": {},
   "outputs": [],
   "source": [
    "with open('../data/interim/dev_ideas_processing_parser.yaml', 'w') as f:\n",
    "    yaml.dump(obj, f, default_flow_style=False)"
   ]
  },
  {
   "cell_type": "code",
   "execution_count": null,
   "metadata": {},
   "outputs": [],
   "source": []
  }
 ],
 "metadata": {
  "kernelspec": {
   "display_name": "Python 3",
   "language": "python",
   "name": "python3"
  },
  "language_info": {
   "codemirror_mode": {
    "name": "ipython",
    "version": 3
   },
   "file_extension": ".py",
   "mimetype": "text/x-python",
   "name": "python",
   "nbconvert_exporter": "python",
   "pygments_lexer": "ipython3",
   "version": "3.10.13"
  },
  "orig_nbformat": 4
 },
 "nbformat": 4,
 "nbformat_minor": 2
}
