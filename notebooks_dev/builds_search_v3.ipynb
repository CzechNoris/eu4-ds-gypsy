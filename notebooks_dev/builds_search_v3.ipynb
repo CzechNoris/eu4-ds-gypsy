{
 "cells": [
  {
   "cell_type": "markdown",
   "metadata": {},
   "source": [
    "# Builds for Gypsy mod\n",
    "\n",
    "Developed for gypsy 1.36.1"
   ]
  },
  {
   "cell_type": "code",
   "execution_count": 1,
   "metadata": {},
   "outputs": [],
   "source": [
    "\n",
    "import random\n",
    "import bisect \n",
    "import numpy as np\n",
    "from collections import Counter, defaultdict\n",
    "import copy\n",
    "\n",
    "import yaml\n",
    "\n",
    "from tqdm.notebook import tqdm\n",
    "import matplotlib.pyplot as plt\n",
    "import seaborn as sns"
   ]
  },
  {
   "cell_type": "code",
   "execution_count": 2,
   "metadata": {},
   "outputs": [],
   "source": [
    "sns.set_theme(style=\"whitegrid\")"
   ]
  },
  {
   "cell_type": "markdown",
   "metadata": {},
   "source": [
    "## Load data"
   ]
  },
  {
   "cell_type": "code",
   "execution_count": 3,
   "metadata": {},
   "outputs": [],
   "source": [
    "IDEAS_PATHS = [\n",
    "    '../data/processed/gypsy-1-36-1/00_basic_ideas.yaml', \n",
    "    '../data/processed/gypsy-1-36-1/00_flogi_ideas.yaml', \n",
    "]\n",
    "\n",
    "class Idea():\n",
    "    def __init__(self, name:str, type: str, effect: dict):\n",
    "        self.name = name\n",
    "        self.type = type\n",
    "        self.effect = effect\n",
    "\n",
    "    def __repr__(self):\n",
    "        return f'Idea({self.name}, {self.type}, {self.effect})'\n",
    "\n",
    "IDEAS = {}\n",
    "IDEA_PROTECTED_KEYS = ['category']\n",
    "for path in IDEAS_PATHS:\n",
    "    with open(path, 'r') as f:\n",
    "        ideas_dict = yaml.load(f, Loader=yaml.FullLoader)\n",
    "    for name, value in ideas_dict.items():\n",
    "        category = value['category']\n",
    "        effect = Counter()\n",
    "        for key in value.keys():\n",
    "            if key not in IDEA_PROTECTED_KEYS:\n",
    "                effect_set = value[key]\n",
    "                for k, v in effect_set.items():\n",
    "                    effect[k] += abs(v)\n",
    "        IDEAS[name] = Idea(name=name, type=category, effect=effect)\n"
   ]
  },
  {
   "cell_type": "code",
   "execution_count": 4,
   "metadata": {},
   "outputs": [],
   "source": [
    "POLICIES_PATHS = [\n",
    "    '../data/processed/gypsy-1-36-1/Idea_Variation_policies.yaml'\n",
    "]\n",
    "\n",
    "class Policy():\n",
    "    def __init__(self, name:str, type: str, req: tuple, effect: dict):\n",
    "        self.name = name\n",
    "        self.type = type.upper()\n",
    "        self.req = req\n",
    "        self.effect = effect\n",
    "        assert self.type in ['ADM', 'DIP', 'MIL']\n",
    "\n",
    "    def __repr__(self):\n",
    "        return f\"Policy({self.name}, {self.type}, {self.req}, {self.effect})\"\n",
    "\n",
    "POLICIES = {}\n",
    "POLICY_PROTECTED_KEYS = ['monarch_power', 'req']\n",
    "for path in POLICIES_PATHS:\n",
    "    with open(path, 'r') as f:\n",
    "        policies_dict = yaml.load(f, Loader=yaml.FullLoader)\n",
    "    for name, value in policies_dict.items():\n",
    "        monarch_power = value['monarch_power']\n",
    "        req0, req1 = value['req']\n",
    "        effect = Counter()\n",
    "        for key in value.keys():\n",
    "            if key not in POLICY_PROTECTED_KEYS:\n",
    "                effect[key] = abs(value[key])\n",
    "        POLICIES[name] = Policy(\n",
    "                name = name, \n",
    "                type = value['monarch_power'], \n",
    "                req = (req0, req1),\n",
    "                effect = effect\n",
    "            )\n"
   ]
  },
  {
   "cell_type": "markdown",
   "metadata": {},
   "source": [
    "## Build ideas"
   ]
  },
  {
   "cell_type": "code",
   "execution_count": 5,
   "metadata": {},
   "outputs": [],
   "source": [
    "ADM_IDEA_NAMES = ['administrative_ideas', 'economic_ideas', 'expansion_ideas', 'humanist_ideas', 'innovativeness_ideas',\n",
    "                  'centralisation0', 'decentralisation0', 'development0', 'jurisprudence0', 'state_administration0', 'strongman0',]\n",
    "REL_IDEA_NAMES = ['catholic0']\n",
    "GOV_IDEA_NAMES = ['monarchy0']\n",
    "ADM_NOT_COMPATIBLE = [\n",
    "    ('strongfem0', 'strongman0',),\n",
    "    ('centralisation0', 'decentralisation0',),\n",
    "]\n",
    "ADM_IDEA_SCOPE = ADM_IDEA_NAMES + REL_IDEA_NAMES + GOV_IDEA_NAMES\n",
    "ADM_IDEA_SCOPE_SET = set(ADM_IDEA_SCOPE)\n",
    "ADM_IDEA_SCOPE_COUNT = len(ADM_IDEA_SCOPE)\n",
    "\n",
    "DIP_IDEA_NAMES = ['dynasty0', 'exploration_ideas', 'influence_ideas', 'maritime_ideas', 'spy_ideas', 'trade_ideas', 'assimilation0',\n",
    "                  'colonial_empire0', 'fleet_base0', 'galley0', 'heavy_ship0', 'light_ship0', 'nationalism0', 'propaganda0', 'society0']\n",
    "IMP_IDEA_NAMES = ['imperialism0',]\n",
    "DIP_NOT_COMPATIBLE = [\n",
    "    ('galley0', 'heavy_ship0'),\n",
    "    ('galley0', 'light_ship0'),\n",
    "    ('heavy_ship0', 'light_ship0'),\n",
    "]\n",
    "DIP_IDEA_SCOPE = DIP_IDEA_NAMES + IMP_IDEA_NAMES\n",
    "DIP_IDEA_SCOPE_SET = set(DIP_IDEA_SCOPE)\n",
    "DIP_IDEA_SCOPE_COUNT = len(DIP_IDEA_SCOPE)\n",
    "\n",
    "MIL_IDEA_NAMES = ['offensive0', 'defensive0', 'quality0', 'quantity0', 'general_staff0', 'standing_army0', 'conscription0',\n",
    "                  'mercenary0', 'weapon_quality0', 'fortress0', 'war_production0', 'tactical0', 'militarism0', 'fire0', 'shock0',]\n",
    "MIL_NOT_COMPATIBLE = [\n",
    "    ('offensive0', 'defensive0'),\n",
    "    ('quality0', 'quantity0'),\n",
    "    ('standing_army0', 'conscription0'),\n",
    "    ('fire0', 'shock0')\n",
    "]\n",
    "MIL_IDEA_SCOPE = MIL_IDEA_NAMES\n",
    "MIL_IDEA_SCOPE_SET = set(MIL_IDEA_SCOPE)\n",
    "MIL_IDEA_SCOPE_COUNT = len(MIL_IDEA_SCOPE)\n",
    "\n",
    "ALL_IDEA_NAMES = ADM_IDEA_SCOPE + DIP_IDEA_SCOPE + MIL_IDEA_SCOPE\n",
    "ALL_IDEA_COUNT = len(ALL_IDEA_NAMES)\n",
    "\n",
    "# Check if all idea names are valid\n",
    "for idea_name in ALL_IDEA_NAMES:\n",
    "    if idea_name not in IDEAS:\n",
    "        print(f'Idea {idea_name} not found!')\n",
    "        exit()\n"
   ]
  },
  {
   "cell_type": "markdown",
   "metadata": {},
   "source": [
    "## Build score"
   ]
  },
  {
   "cell_type": "code",
   "execution_count": 6,
   "metadata": {},
   "outputs": [
    {
     "name": "stdout",
     "output_type": "stream",
     "text": [
      "accept_vassalization_reasons: 15 \n",
      "adm_tech_cost_modifier: 0.1 \n",
      "admiral_cost: 0.5 \n",
      "advisor_cost: 0.2 \n",
      "advisor_pool: 1 \n",
      "ae_impact: 0.15 \n",
      "all_estate_loyalty_equilibrium: 0.1 \n",
      "all_estate_possible_privileges: 1 \n",
      "allow_mercenary_drill: 1 \n",
      "allowed_marine_fraction: 0.25 \n",
      "army_tradition: 1 \n",
      "army_tradition_decay: 0.01 \n",
      "artillery_cost: 0.15 \n",
      "artillery_levels_available_vs_fort: 1 \n",
      "artillery_power: 0.15 \n",
      "autonomy_change_time: 0.5 \n",
      "backrow_artillery_damage: 0.1 \n",
      "blockade_efficiency: 0.5 \n",
      "brahmins_hindu_loyalty_modifier: 0.1 \n",
      "brahmins_muslim_loyalty_modifier: 0.1 \n",
      "build_cost: 0.25 \n",
      "build_time: 0.33 \n",
      "burghers_loyalty_modifier: 0.1 \n",
      "can_fabricate_for_vassals: 1 \n",
      "caravan_power: 0.25 \n",
      "cav_to_inf_ratio: 0.3 \n",
      "cavalry_cost: 0.33 \n",
      "cavalry_flanking: 1.0 \n",
      "cavalry_power: 0.25 \n",
      "cb_on_overseas: 1 \n",
      "cb_on_primitives: 1 \n",
      "cb_on_religious_enemies: 1 \n",
      "center_of_trade_upgrade_cost: 0.2 \n",
      "church_loyalty_modifier: 0.1 \n",
      "church_power_modifier: 0.75 \n",
      "claim_duration: 0.25 \n",
      "colonist_placement_chance: 0.15 \n",
      "colonists: 2 \n",
      "core_creation: 0.2 \n",
      "country_admin_power: 1 \n",
      "country_diplomatic_power: 1 \n",
      "culture_conversion_cost: 0.33 \n",
      "defensiveness: 0.3 \n",
      "development_cost: 0.1 \n",
      "devotion: 2 \n",
      "dhimmi_loyalty_modifier: 0.1 \n",
      "dip_tech_cost_modifier: 0.1 \n",
      "diplomatic_annexation_cost: 0.2 \n",
      "diplomatic_reputation: 2 \n",
      "diplomatic_upkeep: 2 \n",
      "diplomats: 1 \n",
      "discipline: 0.075 \n",
      "discovered_relations_impact: 1 \n",
      "disengagement_chance: 0.15 \n",
      "drill_decay_modifier: 0.5 \n",
      "drill_gain_modifier: 0.5 \n",
      "embargo_efficiency: 0.5 \n",
      "embracement_cost: 0.25 \n",
      "enforce_religion_cost: 0.5 \n",
      "envoy_travel_time: 0.5 \n",
      "estate_interaction_cooldown_modifier: 0.2 \n",
      "expand_administration_cost: 1 \n",
      "expand_infrastructure_cost_modifier: 0.25 \n",
      "extra_manpower_at_religious_war: 1 \n",
      "fabricate_claims_cost: 0.5 \n",
      "female_advisor_chance: 1.0 \n",
      "fire_damage: 0.05 \n",
      "fire_damage_received: 0.1 \n",
      "fort_maintenance_modifier: 0.33 \n",
      "free_leader_pool: 1 \n",
      "free_policy: 1 \n",
      "galley_cost: 0.25 \n",
      "galley_power: 0.25 \n",
      "garrison_size: 0.5 \n",
      "general_cost: 0.1 \n",
      "global_autonomy: 0.1 \n",
      "global_colonial_growth: 25 \n",
      "global_garrison_growth: 0.25 \n",
      "global_heretic_missionary_strength: 0.03 \n",
      "global_institution_spread: 0.25 \n",
      "global_manpower: 5.0 \n",
      "global_manpower_modifier: 0.5 \n",
      "global_missionary_strength: 0.04 \n",
      "global_naval_barrage_cost: 1 \n",
      "global_naval_engagement_modifier: 0.1 \n",
      "global_prosperity_growth: 0.25 \n",
      "global_prov_trade_power_modifier: 0.25 \n",
      "global_regiment_cost: 0.15 \n",
      "global_regiment_recruit_speed: 0.33 \n",
      "global_religious_conversion_resistance: 0.25 \n",
      "global_sailors: 2500 \n",
      "global_sailors_modifier: 0.5 \n",
      "global_ship_cost: 0.25 \n",
      "global_ship_recruit_speed: 0.5 \n",
      "global_ship_repair: 0.2 \n",
      "global_ship_trade_power: 0.25 \n",
      "global_spy_defence: 0.5 \n",
      "global_supply_limit_modifier: 1.0 \n",
      "global_tariffs: 0.25 \n",
      "global_tax_modifier: 0.2 \n",
      "global_trade_goods_size_modifier: 0.15 \n",
      "global_trade_power: 0.2 \n",
      "global_unrest: 2 \n",
      "governing_capacity: 100 \n",
      "governing_capacity_modifier: 0.33 \n",
      "great_project_upgrade_cost: 0.25 \n",
      "harmonization_speed: 0.25 \n",
      "harsh_treatment_cost: 0.75 \n",
      "heavy_ship_cost: 0.2 \n",
      "heavy_ship_power: 0.3 \n",
      "heir_chance: 0.5 \n",
      "horde_unity: 1 \n",
      "hostile_attrition: 2 \n",
      "idea_cost: 0.1 \n",
      "imperial_authority: 0.1 \n",
      "imperial_authority_value: 0.1 \n",
      "imperial_mandate: 0.1 \n",
      "improve_relation_modifier: 0.33 \n",
      "infantry_cost: 0.15 \n",
      "infantry_power: 0.15 \n",
      "inflation_action_cost: 0.25 \n",
      "inflation_reduction: 0.1 \n",
      "innovativeness_gain: 0.5 \n",
      "institution_spread_from_true_faith: 0.2 \n",
      "interest: 1 \n",
      "land_attrition: 0.33 \n",
      "land_forcelimit: 3 \n",
      "land_forcelimit_modifier: 0.5 \n",
      "land_maintenance_modifier: 0.2 \n",
      "land_morale: 0.3 \n",
      "landing_penalty: 1 \n",
      "leader_cost: 0.1 \n",
      "leader_land_fire: 2 \n",
      "leader_land_manuever: 1 \n",
      "leader_land_shock: 2 \n",
      "leader_naval_fire: 1 \n",
      "leader_naval_manuever: 1 \n",
      "leader_naval_shock: 2 \n",
      "leader_siege: 1 \n",
      "legitimacy: 2 \n",
      "liberty_desire_from_subject_development: 0.5 \n",
      "light_ship_cost: 0.5 \n",
      "light_ship_power: 0.3 \n",
      "loot_amount: 1 \n",
      "loyalty_change_on_revoked: 0.05 \n",
      "manpower_in_true_faith_provinces: 0.25 \n",
      "manpower_recovery_speed: 0.5 \n",
      "maratha_loyalty_modifier: 0.1 \n",
      "max_absolutism: 20 \n",
      "max_hostile_attrition: 1 \n",
      "may_explore: 1 \n",
      "may_perform_slave_raid: 1 \n",
      "may_recruit_female_generals: 1 \n",
      "merc_independent_from_trade_range: 1 \n",
      "merc_leader_army_tradition: 0.5 \n",
      "merc_maintenance_modifier: 0.5 \n",
      "mercantilism_cost: 0.25 \n",
      "mercenary_cost: 0.5 \n",
      "mercenary_discipline: 0.05 \n",
      "mercenary_manpower: 1.0 \n",
      "merchants: 3 \n",
      "meritocracy: 1 \n",
      "mil_advisor_cost: 0.25 \n",
      "mil_tech_cost_modifier: 0.1 \n",
      "missionaries: 1 \n",
      "missionary_maintenance_cost: 0.5 \n",
      "monarch_admin_power: 1 \n",
      "monarch_diplomatic_power: 1 \n",
      "monarch_lifespan: 0.33 \n",
      "monarch_military_power: 1 \n",
      "monthly_fervor_increase: 7 \n",
      "monthly_militarized_society: 0.05 \n",
      "monthly_persian_influence: 0.1 \n",
      "monthly_piety_accelerator: 0.001 \n",
      "monthly_prussian_militarized_society_1: 0.05 \n",
      "monthly_prussian_militarized_society_2: 0.05 \n",
      "monthly_prussian_militarized_society_3: 0.05 \n",
      "monthly_reform_progress: 0.1 \n",
      "monthly_reform_progress_modifier: 0.25 \n",
      "monthly_splendor: 3 \n",
      "morale_damage_received: 0.1 \n",
      "movement_speed: 0.25 \n",
      "movement_speed_onto_off_boat_modifier: 0.5 \n",
      "native_assimilation: 0.5 \n",
      "naval_attrition: 0.33 \n",
      "naval_forcelimit: 50 \n",
      "naval_forcelimit_modifier: 0.5 \n",
      "naval_maintenance_modifier: 0.25 \n",
      "naval_morale: 0.2 \n",
      "navy_tradition: 2 \n",
      "navy_tradition_decay: 0.01 \n",
      "nobles_loyalty_modifier: 0.1 \n",
      "nomadic_tribes_loyalty_modifier: 0.1 \n",
      "num_accepted_cultures: 3 \n",
      "num_of_pronoiars: 1 \n",
      "papal_influence: 4 \n",
      "possible_condottieri: 1 \n",
      "possible_dip_policy: 1 \n",
      "power_projection_from_insults: 1 \n",
      "prestige: 1 \n",
      "prestige_decay: 0.01 \n",
      "prestige_from_land: 1.0 \n",
      "prestige_per_development_from_conversion: 0.1 \n",
      "privateer_efficiency: 0.5 \n",
      "production_efficiency: 0.2 \n",
      "promote_culture_cost: 1.0 \n",
      "province_warscore_cost: 0.2 \n",
      "rajput_loyalty_modifier: 0.1 \n",
      "range: 0.5 \n",
      "raze_power_gain: 0.5 \n",
      "rebel_support_efficiency: 1 \n",
      "recover_army_morale_speed: 0.15 \n",
      "recover_navy_morale_speed: 0.15 \n",
      "reduced_liberty_desire: 10 \n",
      "reduced_stab_impacts: 1 \n",
      "reform_progress_growth: 0.33 \n",
      "reinforce_cost_modifier: 0.25 \n",
      "reinforce_speed: 0.5 \n",
      "religious_unity: 0.25 \n",
      "republican_tradition: 1 \n",
      "reverse_relation_with_same_religion: 10 \n",
      "sailor_maintenance_modifer: 0.75 \n",
      "sailors_recovery_speed: 0.5 \n",
      "same_culture_advisor_cost: 0.2 \n",
      "sea_repair: 1 \n",
      "ship_durability: 0.15 \n",
      "shock_damage: 0.075 \n",
      "shock_damage_received: 0.075 \n",
      "siege_ability: 0.15 \n",
      "siege_blockade_progress: 1 \n",
      "special_unit_forcelimit: 0.25 \n",
      "spy_offence: 0.75 \n",
      "stability_cost_modifier: 0.25 \n",
      "state_governing_cost: 0.1 \n",
      "state_maintenance_modifier: 0.5 \n",
      "sunk_ship_morale_hit_recieved: 0.33 \n",
      "technology_cost: 0.1 \n",
      "tolerance_heathen: 2 \n",
      "tolerance_heretic: 3 \n",
      "tolerance_of_heathens_capacity: 1 \n",
      "tolerance_of_heretics_capacity: 1 \n",
      "tolerance_own: 2 \n",
      "trade_company_governing_cost: 0.25 \n",
      "trade_efficiency: 0.15 \n",
      "trade_range_modifier: 0.25 \n",
      "trade_steering: 0.2 \n",
      "treasure_fleet_income: 0.25 \n",
      "tribal_development_growth: 0.015 \n",
      "unjustified_demands: 0.5 \n",
      "vaisyas_loyalty_modifier: 0.1 \n",
      "vassal_forcelimit_bonus: 1 \n",
      "war_exhaustion: 0.05 \n",
      "war_exhaustion_cost: 0.33 \n",
      "war_taxes_cost_modifier: 0.5 \n",
      "warscore_cost_vs_other_religion: 0.2 \n",
      "yearly_absolutism: 1.0 \n",
      "yearly_army_professionalism: 0.015 \n",
      "yearly_authority: 0.15 \n",
      "yearly_corruption: 0.1 \n",
      "yearly_doom_reduction: 1 \n",
      "yearly_harmony: 0.5 \n",
      "yearly_karma_decay: 0.1 \n",
      "yearly_patriarch_authority: 0.01 \n",
      "years_of_nationalism: 10 \n"
     ]
    }
   ],
   "source": [
    "# Print all possible effects of ideas and the max value of each effect\n",
    "all_idea_effects = set()\n",
    "for idea in IDEAS.values():\n",
    "    all_idea_effects.update(idea.effect.keys())\n",
    "all_idea_effects = sorted(list(all_idea_effects))\n",
    "for effect in all_idea_effects:\n",
    "    max_value = max([abs(idea.effect[effect]) for idea in IDEAS.values()])\n",
    "    min_value = min([abs(idea.effect[effect]) for idea in IDEAS.values()])\n",
    "    different_sign = min_value * max_value < 0\n",
    "    print(f'{effect}: {max_value} {\"(different sign)\" if different_sign else \"\"}')"
   ]
  },
  {
   "cell_type": "code",
   "execution_count": 7,
   "metadata": {},
   "outputs": [
    {
     "name": "stdout",
     "output_type": "stream",
     "text": [
      "advisor_cost: 0.00 - 0.10   \n",
      "advisor_pool: 0.00 - 5.00   \n",
      "ae_impact: 0.00 - 0.15   \n",
      "army_tradition: 0.00 - 1.00   \n",
      "army_tradition_decay: 0.00 - 0.01   \n",
      "artillery_cost: 0.00 - 0.20   \n",
      "artillery_power: 0.00 - 0.15   \n",
      "build_cost: 0.00 - 0.15   \n",
      "build_time: 0.00 - 0.25   \n",
      "caravan_power: 0.00 - 0.25   \n",
      "cav_to_inf_ratio: 0.00 - 0.10   \n",
      "cavalry_power: 0.00 - 0.10   \n",
      "colonist_placement_chance: 0.00 - 0.15   \n",
      "colonists: 0.00 - 1.00   \n",
      "core_creation: 0.00 - 0.15   \n",
      "culture_conversion_cost: 0.00 - 0.20   \n",
      "defensiveness: 0.00 - 0.10   \n",
      "development_cost: 0.00 - 0.10   \n",
      "development_cost_in_primary_culture: 0.00 - 0.10   \n",
      "devotion: 0.00 - 1.00   \n",
      "diplomatic_annexation_cost: 0.00 - 0.15   \n",
      "diplomatic_reputation: 0.00 - 2.00   \n",
      "diplomatic_upkeep: 0.00 - 2.00   \n",
      "diplomats: 0.00 - 1.00   \n",
      "discipline: 0.00 - 0.05   \n",
      "drill_gain_modifier: 0.00 - 0.25   \n",
      "embargo_efficiency: 0.00 - 0.25   \n",
      "embracement_cost: 0.00 - 0.20   \n",
      "enemy_core_creation: 0.00 - 0.50   \n",
      "fire_damage: 0.00 - 0.07   \n",
      "fire_damage_received: 0.00 - 0.05   \n",
      "fort_maintenance_modifier: 0.00 - 0.25   \n",
      "free_leader_pool: 0.00 - 2.00   \n",
      "galley_power: 0.00 - 0.10   \n",
      "garrison_size: 0.00 - 0.15   \n",
      "global_autonomy: 0.00 - 0.20   \n",
      "global_colonial_growth: 0.00 - 35.00   \n",
      "global_foreign_trade_power: 0.00 - 0.20   \n",
      "global_garrison_growth: 0.00 - 0.20   \n",
      "global_heretic_missionary_strength: 0.00 - 0.03   \n",
      "global_institution_spread: 0.00 - 0.15   \n",
      "global_manpower_modifier: 0.00 - 0.25   \n",
      "global_missionary_strength: 0.00 - 0.03   \n",
      "global_own_trade_power: 0.00 - 0.20   \n",
      "global_prov_trade_power_modifier: 0.00 - 0.20   \n",
      "global_regiment_cost: 0.00 - 0.20   \n",
      "global_regiment_recruit_speed: 0.00 - 0.30   \n",
      "global_sailors_modifier: 0.00 - 0.33   \n",
      "global_ship_cost: 0.00 - 0.33   \n",
      "global_ship_recruit_speed: 0.00 - 0.25   \n",
      "global_ship_repair: 0.00 - 0.20   \n",
      "global_spy_defence: 0.00 - 0.35   \n",
      "global_tariffs: 0.00 - 0.25   \n",
      "global_tax_modifier: 0.00 - 0.15   \n",
      "global_trade_goods_size_modifier: 0.00 - 0.15   \n",
      "global_trade_power: 0.00 - 0.15   \n",
      "global_unrest: 0.00 - 2.00   \n",
      "governing_capacity_modifier: 0.00 - 0.25   \n",
      "heavy_ship_cost: 0.00 - 0.20   \n",
      "heavy_ship_power: 0.00 - 0.10   \n",
      "horde_unity: 0.00 - 1.00   \n",
      "hostile_attrition: 0.00 - 2.00   \n",
      "idea_cost: 0.00 - 0.07   \n",
      "imperial_authority: 0.00 - 0.25   \n",
      "improve_relation_modifier: 0.00 - 0.25   \n",
      "infantry_cost: 0.00 - 0.25   \n",
      "infantry_power: 0.00 - 0.15   \n",
      "inflation_reduction: 0.00 - 0.02   \n",
      "interest: 0.00 - 1.00   \n",
      "land_attrition: 0.00 - 0.15   \n",
      "land_forcelimit_modifier: 0.00 - 0.15   \n",
      "land_maintenance_modifier: 0.00 - 0.20   \n",
      "land_morale: 0.00 - 0.15   \n",
      "leader_land_fire: 0.00 - 2.00   \n",
      "leader_land_manuever: 0.00 - 1.00   \n",
      "leader_land_shock: 0.00 - 2.00   \n",
      "leader_naval_fire: 0.00 - 2.00   \n",
      "leader_naval_manuever: 0.00 - 2.00   \n",
      "leader_naval_shock: 0.00 - 2.00   \n",
      "legitimacy: 0.00 - 1.00   \n",
      "light_ship_power: 0.00 - 0.15   \n",
      "manpower_recovery_speed: 0.00 - 0.20   \n",
      "merc_maintenance_modifier: 0.00 - 0.20   \n",
      "mercenary_cost: 0.00 - 0.25   \n",
      "mercenary_discipline: 0.00 - 0.05   \n",
      "mercenary_manpower: 0.00 - 1.00   \n",
      "merchants: 0.00 - 1.00   \n",
      "mil_tech_cost_modifier: 0.00 - 0.10   \n",
      "missionaries: 0.00 - 2.00   \n",
      "movement_speed: 0.00 - 0.25   \n",
      "native_assimilation: 0.00 - 0.50   \n",
      "native_uprising_chance: 0.00 - 0.50   \n",
      "naval_attrition: 0.00 - 0.50   \n",
      "naval_forcelimit_modifier: 0.00 - 0.20   \n",
      "naval_maintenance_modifier: 0.00 - 0.20   \n",
      "naval_morale: 0.00 - 0.15   \n",
      "navy_tradition: 0.00 - 2.00   \n",
      "navy_tradition_decay: 0.00 - 0.02   \n",
      "num_accepted_cultures: 0.00 - 1.00   \n",
      "prestige: 0.00 - 2.00   \n",
      "prestige_decay: 0.00 - 0.01   \n",
      "prestige_from_land: 0.00 - 1.00   \n",
      "privateer_efficiency: 0.00 - 1.00   \n",
      "production_efficiency: 0.00 - 0.15   \n",
      "province_warscore_cost: 0.00 - 0.20   \n",
      "range: 0.00 - 0.50   \n",
      "recover_army_morale_speed: 0.00 - 0.15   \n",
      "recover_navy_morale_speed: 0.00 - 0.10   \n",
      "reduced_liberty_desire: 0.00 - 10.00   \n",
      "reinforce_speed: 0.00 - 0.25   \n",
      "religious_unity: 0.00 - 0.50   \n",
      "republican_tradition: 0.00 - 0.50   \n",
      "sailors_recovery_speed: 0.00 - 0.15   \n",
      "same_culture_advisor_cost: 0.00 - 0.15   \n",
      "ship_durability: 0.00 - 0.05   \n",
      "shock_damage: 0.00 - 0.07   \n",
      "shock_damage_received: 0.00 - 0.05   \n",
      "siege_ability: 0.00 - 0.10   \n",
      "spy_offence: 0.00 - 0.50   \n",
      "stability_cost_modifier: 0.00 - 0.25   \n",
      "state_maintenance_modifier: 0.00 - 0.50   \n",
      "technology_cost: 0.00 - 0.05   \n",
      "tolerance_heathen: 0.00 - 2.00   \n",
      "tolerance_heretic: 0.00 - 2.00   \n",
      "tolerance_own: 0.00 - 3.00   \n",
      "trade_efficiency: 0.00 - 0.30   \n",
      "trade_range_modifier: 0.00 - 0.25   \n",
      "trade_steering: 0.00 - 0.25   \n",
      "war_exhaustion: 0.00 - 0.05   \n",
      "war_exhaustion_cost: 0.00 - 0.50   \n",
      "yearly_absolutism: 0.00 - 1.00   \n",
      "yearly_army_professionalism: 0.00 - 0.01   \n",
      "yearly_corruption: 0.00 - 0.10   \n",
      "years_of_nationalism: 0.00 - 5.00   \n"
     ]
    }
   ],
   "source": [
    "# Print all possible effects of policies and the max value of each effect\n",
    "all_policy_effects = set()\n",
    "for policy in POLICIES.values():\n",
    "    all_policy_effects.update(policy.effect.keys())\n",
    "all_policy_effects = sorted(list(all_policy_effects))\n",
    "for effect in all_policy_effects:\n",
    "    max_value = max([abs(policy.effect[effect]) for policy in POLICIES.values()])\n",
    "    min_value = min([abs(policy.effect[effect]) for policy in POLICIES.values()])\n",
    "    different_sign = min_value * max_value < 0\n",
    "    print(f\"{effect}: {min_value:.2f} - {max_value:.2f}   {'different sign' if different_sign else ''}\")"
   ]
  },
  {
   "cell_type": "code",
   "execution_count": 8,
   "metadata": {},
   "outputs": [],
   "source": [
    "# Country weights are used to determine the score of a country during peace time\n",
    "COUNTRY_WEIGHTS = {\n",
    "    # Development\n",
    "    'development_cost': 150,                        # Each 10% is 15 points\n",
    "    'development_cost_in_primary_culture': 100,     # Each 10% is 10 points\n",
    "    # Mana\n",
    "    'country_admin_power': 25,                      # Each point is 100 points\n",
    "    'country_diplomatic_power': 25,                 # Each point is 100 points\n",
    "    # Policies\n",
    "    'free_policy': 5,                               # Each free extra policy is 5 points\n",
    "    'free_adm_policy': 2,                           # Each free extra policy is 2 points\n",
    "    'free_dip_policy': 2,                           # Each free extra policy is 2 points\n",
    "    'free_mil_policy': 1,                           # Each free extra policy is 1 points\n",
    "    'possible_policy': 12,                          # Each extra policy column is 12 points\n",
    "    'possible_adm_policy': 4,                       # Each possible policy is 4 points\n",
    "    'possible_dip_policy':  4,                      # Each possible policy is 4 points\n",
    "    'possible_mil_policy': 4,                       # Each possible policy is 4 points\n",
    "    # Tech and idea cost        \n",
    "    'technology_cost': 60,                           # Each 10% discount is 6 points\n",
    "    'adm_tech_cost_modifier': 20,                    # Each 10% discount is 2 point\n",
    "    'dip_tech_cost_modifier':  20,                   # Each 10% discount is 2 point\n",
    "    'mil_tech_cost_modifier':  20,                   # Each 10% discount is 2 point\n",
    "    'idea_cost': 60,                                 # Each 10% discount is 6 points\n",
    "    # State     \n",
    "    'governing_capacity_modifier': 30,              # Each 10% is 3 points\n",
    "    'advisor_cost': 10,                             # Each 10% discount is 1 point\n",
    "    'monthly_reform_progress_modifier': 20,         # Each 10% is 2 point\n",
    "    'monthly_reform_progress': 10,                  # Each point is 10 point\n",
    "    'reform_progress_growth': 20,                   # Each 10% is 2 point\n",
    "    # Economy       \n",
    "    'global_tax_modifier': 5,                       # Each 10% is 0.5 point\n",
    "    'production_efficiency': 5,                     # Each 10% is 0.5 point\n",
    "    'global_trade_goods_size_modifier': 5,          # Each 10% is 0.5 point\n",
    "    'trade_efficiency': 5,                          # Each 10% is 0.5 point\n",
    "    # Buildings     \n",
    "    'build_cost': 20,                               # Each 10% discount is 2 points\n",
    "}\n",
    "\n",
    "# War weights are used to determine the score of a country during war time and to find the best policies\n",
    "MILITARY_WEIGHTS ={\n",
    "    # Main modifiers\n",
    "    'discipline': 300,                              # Each 10% is 30 points\n",
    "    'fire_damage': 150,                             # Each 10% is 15 points\n",
    "    'fire_damage_received': 150,                    # Each 10% is 15 points\n",
    "    'shock_damage': 150,                            # Each 10% is 15 points\n",
    "    'shock_damage_received': 150,                   # Each 10% is 15 points\n",
    "    'land_morale': 150,                             # Each 10% is 15 points\n",
    "    'army_tradition': 10,                           # Each 10% is 1 points\n",
    "    # Infantry  \n",
    "    'infantry_power': 150,                          # Each 10% is 15 points\n",
    "    'infantry_cost': 10,                            # Each 10% discount is 1 points\n",
    "    # Cavalry   \n",
    "    'cavalry_power': 150,                           # Each 10% is 15 points\n",
    "    'cavalry_flanking': 10,                         # Each point is 10 points\n",
    "    # Artillery \n",
    "    'artillery_power': 150,                         # Each 10% is 15 points\n",
    "    'backrow_artillery_damage': 100,                # Each 10% is 10 points\n",
    "    # Army  \n",
    "    'global_manpower_modifier': 50,                 # Each 10% is 5 points\n",
    "    'land_forcelimit_modifier': 50,                 # Each 10% is 5 points\n",
    "    'land_maintenance_modifier': 20,                # Each 10% discount is 2 points\n",
    "    'manpower_recovery_speed': 20,                  # Each 10% is 2 points\n",
    "    'manpower_in_true_faith_provinces': 20,         # Each 10% is 2 points\n",
    "    # Defensiveness\n",
    "    'defensiveness': 10,                            # Each 10% is 1 points\n",
    "    'fort_maintenance_modifier': 5,                 # Each 10% discount is 0.5 points\n",
    "    'siege_ability': 5,                             # Each 10% is 0.5 points\n",
    "}\n"
   ]
  },
  {
   "cell_type": "code",
   "execution_count": 9,
   "metadata": {},
   "outputs": [],
   "source": [
    "EXTRA_WEIGHTS = {\n",
    "    'nationalism0': 50,              # Estate interaction - main +1 ADM and +1 DIP\n",
    "    'centralisation0': 20            # Allow development_over_25\n",
    "}"
   ]
  },
  {
   "cell_type": "code",
   "execution_count": 10,
   "metadata": {},
   "outputs": [],
   "source": [
    "HIGHLIGHTS = [\n",
    "    'development_cost',\n",
    "    'development_cost_in_primary_culture',\n",
    "    'idea_cost',\n",
    "    'technology_cost',\n",
    "    'discipline',\n",
    "    'fire_damage',\n",
    "    'fire_damage_received',\n",
    "    'shock_damage',\n",
    "    'shock_damage_received',\n",
    "    'land_morale',\n",
    "    'infantry_power',\n",
    "    'cavalry_power',\n",
    "    'artillery_power',\n",
    "]"
   ]
  },
  {
   "cell_type": "code",
   "execution_count": 11,
   "metadata": {},
   "outputs": [],
   "source": [
    "def get_score(effects: dict, weights: list[dict]):\n",
    "    score = 0\n",
    "    for weight in weights:\n",
    "        for key, value in weight.items():\n",
    "            if key in effects:\n",
    "                score += value * effects[key]\n",
    "    return score"
   ]
  },
  {
   "cell_type": "code",
   "execution_count": 12,
   "metadata": {},
   "outputs": [],
   "source": [
    "def get_development_effect(effects):\n",
    "    return effects['development_cost'] + effects['development_cost_in_primary_culture']\n",
    "\n",
    "def get_adm_tech_effect(effects):\n",
    "    return effects['adm_tech_cost_modifier'] + effects['technology_cost']\n",
    "\n",
    "def get_dip_tech_effect(effects):\n",
    "    return effects['dip_tech_cost_modifier'] + effects['technology_cost']\n",
    "\n",
    "def get_mil_tech_effect(effects):\n",
    "    return effects['mil_tech_cost_modifier'] + effects['technology_cost']\n",
    "\n",
    "def get_idea_effect(effects):\n",
    "    return effects['idea_cost']"
   ]
  },
  {
   "cell_type": "markdown",
   "metadata": {},
   "source": [
    "## Precompute policies for idea couples"
   ]
  },
  {
   "cell_type": "code",
   "execution_count": 13,
   "metadata": {},
   "outputs": [],
   "source": [
    "IDEA_SCORE = {}\n",
    "for idea_name in ALL_IDEA_NAMES:\n",
    "    idea = IDEAS[idea_name]\n",
    "    score = get_score(idea.effect, [COUNTRY_WEIGHTS, MILITARY_WEIGHTS]) + EXTRA_WEIGHTS.get(idea_name, 0)\n",
    "    IDEA_SCORE[idea_name] = score\n",
    "    \n",
    "IDEA_POLICY_POTENTIAL = defaultdict(list)\n",
    "for policy in POLICIES.values():\n",
    "    req0, req1 = policy.req\n",
    "    for req0_1 in req0:\n",
    "        IDEA_POLICY_POTENTIAL[req0_1].append(policy)\n",
    "    for req1_1 in req1:\n",
    "        IDEA_POLICY_POTENTIAL[req1_1].append(policy)\n",
    "        \n",
    "IDEA_NOT_COMPATIBLE = defaultdict(list)\n",
    "for idea_1, idea_2 in ADM_NOT_COMPATIBLE + DIP_NOT_COMPATIBLE + MIL_NOT_COMPATIBLE:\n",
    "    IDEA_NOT_COMPATIBLE[idea_1].append(idea_2)\n",
    "    IDEA_NOT_COMPATIBLE[idea_2].append(idea_1)"
   ]
  },
  {
   "cell_type": "code",
   "execution_count": 14,
   "metadata": {},
   "outputs": [],
   "source": [
    "POLICY_LIB = {}\n",
    "for policy in POLICIES.values():\n",
    "    req0, req1 = policy.req\n",
    "    for req0_1 in req0:\n",
    "        for req1_1 in req1:\n",
    "            policy_id = tuple(sorted([req0_1, req1_1]))\n",
    "            POLICY_LIB[policy_id] = policy\n",
    "            \n",
    "POLICY_WAR_SCORE = {}\n",
    "for policy in POLICIES.values():\n",
    "    score = get_score(policy.effect, [MILITARY_WEIGHTS])\n",
    "    POLICY_WAR_SCORE[policy.name] = score\n",
    "    \n",
    "DEV_POLICY_SET = set([policy.name for policy in POLICIES.values() if policy.effect.get('development_cost', 0) != 0 or policy.effect.get('development_cost_in_primary_culture', 0) != 0])\n",
    "ADM_TECH_POLICY_SET = set([policy.name for policy in POLICIES.values() if policy.effect.get('adm_tech_cost_modifier', 0) != 0 or policy.effect.get('technology_cost', 0) != 0])\n",
    "DIP_TECH_POLICY_SET = set([policy.name for policy in POLICIES.values() if policy.effect.get('dip_tech_cost_modifier', 0) != 0 or policy.effect.get('technology_cost', 0) != 0])\n",
    "MIL_TECH_POLICY_SET = set([policy.name for policy in POLICIES.values() if policy.effect.get('mil_tech_cost_modifier', 0) != 0 or policy.effect.get('technology_cost', 0) != 0])\n",
    "IDEA_POLICY_SET = set([policy.name for policy in POLICIES.values() if policy.effect.get('idea_cost', 0) != 0])"
   ]
  },
  {
   "cell_type": "markdown",
   "metadata": {},
   "source": [
    "## Idea potential filter"
   ]
  },
  {
   "cell_type": "code",
   "execution_count": 15,
   "metadata": {},
   "outputs": [],
   "source": [
    "idea_potential_score = {}\n",
    "for idea_name in ALL_IDEA_NAMES:\n",
    "    idea = IDEAS[idea_name]\n",
    "    idea_potential_score[idea_name] = get_score(idea.effect, [COUNTRY_WEIGHTS, MILITARY_WEIGHTS]) + EXTRA_WEIGHTS.get(idea_name, 0)"
   ]
  },
  {
   "cell_type": "code",
   "execution_count": 16,
   "metadata": {},
   "outputs": [
    {
     "name": "stdout",
     "output_type": "stream",
     "text": [
      "Mean: 26.28\n",
      "Std: 22.53\n",
      "Min: 0.00\n",
      "Max: 79.50\n",
      "Median: 21.43\n",
      "25%: 6.88\n",
      "75%: 45.38\n",
      "90%: 61.03\n"
     ]
    },
    {
     "data": {
      "text/plain": [
       "<Axes: >"
      ]
     },
     "execution_count": 16,
     "metadata": {},
     "output_type": "execute_result"
    },
    {
     "data": {
      "image/png": "[encoded data removed]",
      "text/plain": [
       "<Figure size 640x480 with 1 Axes>"
      ]
     },
     "metadata": {},
     "output_type": "display_data"
    }
   ],
   "source": [
    "idea_potential_scores = np.array(list(idea_potential_score.values()))\n",
    "print(f\"Mean: {idea_potential_scores.mean():.2f}\")\n",
    "print(f\"Std: {idea_potential_scores.std():.2f}\")\n",
    "print(f\"Min: {idea_potential_scores.min():.2f}\")\n",
    "print(f\"Max: {idea_potential_scores.max():.2f}\")\n",
    "print(f\"Median: {np.median(idea_potential_scores):.2f}\")\n",
    "print(f\"25%: {np.quantile(idea_potential_scores, 0.25):.2f}\")\n",
    "print(f\"75%: {np.quantile(idea_potential_scores, 0.75):.2f}\")\n",
    "print(f\"90%: {np.quantile(idea_potential_scores, 0.90):.2f}\")\n",
    "sns.boxplot(x=idea_potential_scores)\n",
    "\n"
   ]
  },
  {
   "cell_type": "code",
   "execution_count": 17,
   "metadata": {},
   "outputs": [
    {
     "data": {
      "text/plain": [
       "[('conscription0', 79.5),\n",
       " ('quality0', 70.0),\n",
       " ('defensive0', 64.5),\n",
       " ('administrative_ideas', 61.5),\n",
       " ('weapon_quality0', 61.25),\n",
       " ('standing_army0', 60.5),\n",
       " ('quantity0', 60.0),\n",
       " ('fire0', 52.25),\n",
       " ('shock0', 51.25),\n",
       " ('nationalism0', 51.0)]"
      ]
     },
     "execution_count": 17,
     "metadata": {},
     "output_type": "execute_result"
    }
   ],
   "source": [
    "sorted(idea_potential_score.items(), key=lambda x: x[1], reverse=True)[:10]\n"
   ]
  },
  {
   "cell_type": "code",
   "execution_count": 18,
   "metadata": {},
   "outputs": [],
   "source": [
    "idea_policies_potential_score = Counter()\n",
    "for idea_name in ALL_IDEA_NAMES:\n",
    "    available_policies = [policy for policy in POLICIES.values() if idea_name in policy.req[0] or idea_name in policy.req[1]]\n",
    "    for policy in available_policies:\n",
    "        idea_policies_potential_score[idea_name] += get_score(policy.effect, [COUNTRY_WEIGHTS, MILITARY_WEIGHTS])\n",
    "    "
   ]
  },
  {
   "cell_type": "code",
   "execution_count": 19,
   "metadata": {},
   "outputs": [
    {
     "name": "stdout",
     "output_type": "stream",
     "text": [
      "Mean: 129.99\n",
      "Std: 58.39\n",
      "Min: 2.00\n",
      "Max: 244.50\n",
      "Median: 134.75\n",
      "25%: 94.94\n",
      "75%: 174.88\n",
      "90%: 200.70\n"
     ]
    },
    {
     "data": {
      "text/plain": [
       "<Axes: >"
      ]
     },
     "execution_count": 19,
     "metadata": {},
     "output_type": "execute_result"
    },
    {
     "data": {
      "image/png": "[encoded data removed]",
      "text/plain": [
       "<Figure size 640x480 with 1 Axes>"
      ]
     },
     "metadata": {},
     "output_type": "display_data"
    }
   ],
   "source": [
    "idea_policy_potential_scores = np.array(list(idea_policies_potential_score.values()))\n",
    "print(f\"Mean: {idea_policy_potential_scores.mean():.2f}\")\n",
    "print(f\"Std: {idea_policy_potential_scores.std():.2f}\")\n",
    "print(f\"Min: {idea_policy_potential_scores.min():.2f}\")\n",
    "print(f\"Max: {idea_policy_potential_scores.max():.2f}\")\n",
    "print(f\"Median: {np.median(idea_policy_potential_scores):.2f}\")\n",
    "print(f\"25%: {np.quantile(idea_policy_potential_scores, 0.25):.2f}\")\n",
    "print(f\"75%: {np.quantile(idea_policy_potential_scores, 0.75):.2f}\")\n",
    "print(f\"90%: {np.quantile(idea_policy_potential_scores, 0.90):.2f}\")\n",
    "sns.boxplot(x=idea_policy_potential_scores)"
   ]
  },
  {
   "cell_type": "code",
   "execution_count": 20,
   "metadata": {},
   "outputs": [
    {
     "data": {
      "text/plain": [
       "[('conscription0', 244.5),\n",
       " ('centralisation0', 211.5),\n",
       " ('decentralisation0', 211.5),\n",
       " ('tactical0', 203.5),\n",
       " ('militarism0', 201.0),\n",
       " ('standing_army0', 200.0),\n",
       " ('economic_ideas', 192.25),\n",
       " ('weapon_quality0', 188.0),\n",
       " ('assimilation0', 185.5),\n",
       " ('shock0', 183.25)]"
      ]
     },
     "execution_count": 20,
     "metadata": {},
     "output_type": "execute_result"
    }
   ],
   "source": [
    "sorted(idea_policies_potential_score.items(), key=lambda x: x[1], reverse=True)[:10]"
   ]
  },
  {
   "cell_type": "code",
   "execution_count": 21,
   "metadata": {},
   "outputs": [
    {
     "name": "stdout",
     "output_type": "stream",
     "text": [
      "Mean: 156.27\n",
      "Std: 74.95\n",
      "Min: 2.00\n",
      "Max: 324.00\n",
      "Median: 152.57\n",
      "25%: 112.94\n",
      "75%: 213.75\n",
      "90%: 247.05\n"
     ]
    },
    {
     "data": {
      "text/plain": [
       "<Axes: >"
      ]
     },
     "execution_count": 21,
     "metadata": {},
     "output_type": "execute_result"
    },
    {
     "data": {
      "image/png": "[encoded data removed]",
      "text/plain": [
       "<Figure size 640x480 with 1 Axes>"
      ]
     },
     "metadata": {},
     "output_type": "display_data"
    }
   ],
   "source": [
    "idea_combined_potential_score = {}\n",
    "for idea_name in ALL_IDEA_NAMES:\n",
    "   idea_combined_potential_score[idea_name] = idea_potential_score[idea_name] + idea_policies_potential_score[idea_name]\n",
    "   \n",
    "idea_combined_potential_scores = np.array(list(idea_combined_potential_score.values()))\n",
    "print(f\"Mean: {idea_combined_potential_scores.mean():.2f}\")\n",
    "print(f\"Std: {idea_combined_potential_scores.std():.2f}\")\n",
    "print(f\"Min: {idea_combined_potential_scores.min():.2f}\")\n",
    "print(f\"Max: {idea_combined_potential_scores.max():.2f}\")\n",
    "print(f\"Median: {np.median(idea_combined_potential_scores):.2f}\")\n",
    "print(f\"25%: {np.quantile(idea_combined_potential_scores, 0.25):.2f}\")\n",
    "print(f\"75%: {np.quantile(idea_combined_potential_scores, 0.75):.2f}\")\n",
    "print(f\"90%: {np.quantile(idea_combined_potential_scores, 0.90):.2f}\")\n",
    "sns.boxplot(x=idea_combined_potential_scores)"
   ]
  },
  {
   "cell_type": "code",
   "execution_count": 22,
   "metadata": {},
   "outputs": [
    {
     "data": {
      "text/plain": [
       "[('conscription0', 324.0),\n",
       " ('standing_army0', 260.5),\n",
       " ('decentralisation0', 249.9),\n",
       " ('weapon_quality0', 249.25),\n",
       " ('quality0', 247.5),\n",
       " ('militarism0', 246.0),\n",
       " ('defensive0', 238.5),\n",
       " ('centralisation0', 235.25),\n",
       " ('shock0', 234.5),\n",
       " ('tactical0', 227.25)]"
      ]
     },
     "execution_count": 22,
     "metadata": {},
     "output_type": "execute_result"
    }
   ],
   "source": [
    "sorted(idea_combined_potential_score.items(), key=lambda x: x[1], reverse=True)[:10]"
   ]
  },
  {
   "cell_type": "code",
   "execution_count": 23,
   "metadata": {},
   "outputs": [
    {
     "name": "stdout",
     "output_type": "stream",
     "text": [
      "Ideas to be filtered out: ['expansion_ideas', 'state_administration0', 'catholic0', 'exploration_ideas', 'maritime_ideas', 'colonial_empire0', 'fleet_base0', 'galley0', 'heavy_ship0', 'light_ship0', 'mercenary0']\n"
     ]
    }
   ],
   "source": [
    "POTENTIAL_FILTERING = 25   \n",
    "potential_threshold = np.quantile(\n",
    "    idea_combined_potential_scores, POTENTIAL_FILTERING / 100)\n",
    "ADM_IDEA_SCOPE = [\n",
    "    idea_name for idea_name in ADM_IDEA_SCOPE if idea_combined_potential_score[idea_name] >= potential_threshold]\n",
    "DIP_IDEA_SCOPE = [\n",
    "    idea_name for idea_name in DIP_IDEA_SCOPE if idea_combined_potential_score[idea_name] >= potential_threshold]\n",
    "MIL_IDEA_SCOPE = [\n",
    "    idea_name for idea_name in MIL_IDEA_SCOPE if idea_combined_potential_score[idea_name] >= potential_threshold]\n",
    "ideas_to_be_filtered_out = [ \n",
    "    idea_name for idea_name in ALL_IDEA_NAMES if idea_combined_potential_score[idea_name] < potential_threshold]\n",
    "print(f'Ideas to be filtered out: {ideas_to_be_filtered_out}')"
   ]
  },
  {
   "cell_type": "markdown",
   "metadata": {},
   "source": [
    "## Support"
   ]
  },
  {
   "cell_type": "code",
   "execution_count": 24,
   "metadata": {},
   "outputs": [],
   "source": [
    "class Build():\n",
    "    POLICY_TYPE_INDEX = {'ADM': 0, 'DIP': 1, 'MIL': 2}\n",
    "    def __init__(self,\n",
    "            idea_set: set[str] = None,\n",
    "            idea_counts: [int, int, int] = None,\n",
    "            cum_idea_score: float = 0,\n",
    "            ideas_effect: Counter = None,\n",
    "            policy_set: set[str] = None,\n",
    "            max_policies: tuple[int, int, int] = None,\n",
    "            war_policies: tuple[list[tuple[float, str]], list[tuple[float, str]], list[tuple[float, str]]] = None,\n",
    "            dev_policies: tuple[list[tuple[float, str]], list[tuple[float, str]], list[tuple[float, str]]] = None,\n",
    "            adm_tech_policies: tuple[list[tuple[float, str]], list[tuple[float, str]], list[tuple[float, str]]] = None,\n",
    "            dip_tech_policies: tuple[list[tuple[float, str]], list[tuple[float, str]], list[tuple[float, str]]] = None,\n",
    "            mil_tech_policies: tuple[list[tuple[float, str]], list[tuple[float, str]], list[tuple[float, str]]] = None,\n",
    "            idea_policies: tuple[list[tuple[float, str]], list[tuple[float, str]], list[tuple[float, str]]] = None,\n",
    "            total_score: float = 0,\n",
    "        ):\n",
    "        self.idea_set = idea_set if idea_set is not None else set()\n",
    "        self.idea_counts = idea_counts if idea_counts is not None else (0, 0, 0)\n",
    "        self.cum_idea_score = cum_idea_score if cum_idea_score is not None else 0\n",
    "        self.ideas_effect = ideas_effect if ideas_effect is not None else Counter()\n",
    "        self.policy_set = policy_set if policy_set is not None else set()\n",
    "        self.max_policies = max_policies if max_policies is not None else (4, 4, 4)\n",
    "        self.war_policies = war_policies if war_policies is not None else ([], [], [])\n",
    "        self.dev_policies = dev_policies if dev_policies is not None else ([], [], [])\n",
    "        self.adm_tech_policies = adm_tech_policies if adm_tech_policies is not None else ([], [], [])\n",
    "        self.dip_tech_policies = dip_tech_policies if dip_tech_policies is not None else ([], [], [])\n",
    "        self.mil_tech_policies = mil_tech_policies if mil_tech_policies is not None else ([], [], [])\n",
    "        self.idea_policies = idea_policies if idea_policies is not None else ([], [], [])\n",
    "        self.total_score = total_score if total_score is not None else 0\n",
    "\n",
    "    def __repr__(self):\n",
    "        return f\"Build( {self.total_score:.2f} - ideas: {self.idea_set}\"\n",
    "    \n",
    "    def print(self):\n",
    "        print(f\"Build( {self.total_score:.2f} - ideas: {self.idea_set}\")\n",
    "        print(f\"    - Idea counts: {self.idea_counts}\")\n",
    "        print(f\"    - Idea score: {self.cum_idea_score:.2f}\")\n",
    "        print(f\"    - Idea effect: {self.ideas_effect}\")\n",
    "        print(f\"    - Policies: {self.policy_set}\")\n",
    "        print(f\"    - Max policies: {self.max_policies}\")\n",
    "        print(f\"    - War policies: {self.war_policies}\")\n",
    "        print(f\"    - Dev policies: {self.dev_policies}\")\n",
    "        print(f\"    - Adm tech policies: {self.adm_tech_policies}\")\n",
    "        print(f\"    - Dip tech policies: {self.dip_tech_policies}\")\n",
    "        print(f\"    - Mil tech policies: {self.mil_tech_policies}\")\n",
    "        print(f\"    - Idea policies: {self.idea_policies}\")\n",
    "        print(f\"    - Total score: {self.total_score:.2f}\")\n",
    "\n"
   ]
  },
  {
   "cell_type": "code",
   "execution_count": 25,
   "metadata": {},
   "outputs": [],
   "source": [
    "def get_total_effect(build: Build):\n",
    "    total_effect = Counter()\n",
    "    total_effect.update(build.ideas_effect)\n",
    "    \n",
    "    adm_max_policies = build.max_policies[0] + build.ideas_effect['possible_policy'] + build.ideas_effect['possible_adm_policy']\n",
    "    dip_max_policies = build.max_policies[1] + build.ideas_effect['possible_policy'] + build.ideas_effect['possible_dip_policy']\n",
    "    mil_max_policies = build.max_policies[2] + build.ideas_effect['possible_policy'] + build.ideas_effect['possible_mil_policy']\n",
    "    \n",
    "    for policy in build.war_policies[0][:adm_max_policies]:\n",
    "        total_effect.update(POLICIES[policy[1]].effect)\n",
    "    for policy in build.war_policies[1][:dip_max_policies]:\n",
    "        total_effect.update(POLICIES[policy[1]].effect)\n",
    "    for policy in build.war_policies[2][:mil_max_policies]:\n",
    "        total_effect.update(POLICIES[policy[1]].effect)\n",
    "    \n",
    "    for policy in build.dev_policies[0][:adm_max_policies]:\n",
    "        total_effect.update(POLICIES[policy[1]].effect)\n",
    "    for policy in build.dev_policies[1][:dip_max_policies]:\n",
    "        total_effect.update(POLICIES[policy[1]].effect)\n",
    "    for policy in build.dev_policies[2][:mil_max_policies]:\n",
    "        total_effect.update(POLICIES[policy[1]].effect)\n",
    "    \n",
    "    for policy in build.adm_tech_policies[0][:adm_max_policies]:\n",
    "        total_effect.update(POLICIES[policy[1]].effect)\n",
    "    for policy in build.adm_tech_policies[1][:dip_max_policies]:\n",
    "        total_effect.update(POLICIES[policy[1]].effect)\n",
    "    for policy in build.adm_tech_policies[2][:mil_max_policies]:\n",
    "        total_effect.update(POLICIES[policy[1]].effect)\n",
    "        \n",
    "    for policy in build.dip_tech_policies[0][:adm_max_policies]:\n",
    "        total_effect.update(POLICIES[policy[1]].effect)\n",
    "    for policy in build.dip_tech_policies[1][:dip_max_policies]:\n",
    "        total_effect.update(POLICIES[policy[1]].effect)\n",
    "    for policy in build.dip_tech_policies[2][:mil_max_policies]:\n",
    "        total_effect.update(POLICIES[policy[1]].effect)\n",
    "        \n",
    "    for policy in build.mil_tech_policies[0][:adm_max_policies]:\n",
    "        total_effect.update(POLICIES[policy[1]].effect)\n",
    "    for policy in build.mil_tech_policies[1][:dip_max_policies]:\n",
    "        total_effect.update(POLICIES[policy[1]].effect)\n",
    "    for policy in build.mil_tech_policies[2][:mil_max_policies]:\n",
    "        total_effect.update(POLICIES[policy[1]].effect)\n",
    "        \n",
    "    for policy in build.idea_policies[0][:adm_max_policies]:\n",
    "        total_effect.update(POLICIES[policy[1]].effect)\n",
    "    for policy in build.idea_policies[1][:dip_max_policies]:\n",
    "        total_effect.update(POLICIES[policy[1]].effect)\n",
    "    for policy in build.idea_policies[2][:mil_max_policies]:\n",
    "        total_effect.update(POLICIES[policy[1]].effect)\n",
    "    \n",
    "    return total_effect"
   ]
  },
  {
   "cell_type": "code",
   "execution_count": 26,
   "metadata": {},
   "outputs": [],
   "source": [
    "EXPLORED_BUILDS = set()\n",
    "\n",
    "def expanded_build(build: Build, idea_name: str,) -> Build:\n",
    "    idea = IDEAS[idea_name]\n",
    "    \n",
    "    # Update Idea counts\n",
    "    \n",
    "    idea_counts = (\n",
    "        build.idea_counts[0] + (idea_name in ADM_IDEA_SCOPE),\n",
    "        build.idea_counts[1] + (idea_name in DIP_IDEA_SCOPE),\n",
    "        build.idea_counts[2] + (idea_name in MIL_IDEA_SCOPE),\n",
    "    )\n",
    "        \n",
    "    # Expand build with new idea\n",
    "    \n",
    "    idea_set = build.idea_set.copy()\n",
    "    idea_set.add(idea_name)\n",
    "    \n",
    "    cum_idea_score = build.cum_idea_score + IDEA_SCORE[idea_name]\n",
    "    \n",
    "    ideas_effect = build.ideas_effect.copy()\n",
    "    ideas_effect.update(idea.effect)\n",
    "    \n",
    "    # Check for new available policies and place them in order of importance\n",
    "    \n",
    "    policy_set = build.policy_set.copy()\n",
    "    war_policies = copy.deepcopy(build.war_policies)\n",
    "    dev_policies = copy.deepcopy(build.dev_policies)\n",
    "    adm_tech_policies = copy.deepcopy(build.adm_tech_policies)\n",
    "    dip_tech_policies = copy.deepcopy(build.dip_tech_policies)\n",
    "    mil_tech_policies = copy.deepcopy(build.mil_tech_policies)\n",
    "    idea_policies = copy.deepcopy(build.idea_policies)\n",
    "    \n",
    "    for build_idea in build.idea_set:\n",
    "        policy_id = tuple(sorted([build_idea, idea_name]))\n",
    "        if (policy := POLICY_LIB.get(policy_id)) and policy.name not in policy_set:\n",
    "            policy_set.add(policy.name)  \n",
    "            policy_war_score = POLICY_WAR_SCORE[policy.name]\n",
    "            policy_dev_effect = get_development_effect(policy.effect)\n",
    "            policy_adm_tech_effect = get_adm_tech_effect(policy.effect)\n",
    "            policy_dip_tech_effect = get_dip_tech_effect(policy.effect)\n",
    "            policy_mil_tech_effect = get_mil_tech_effect(policy.effect)\n",
    "            policy_idea_effect = get_idea_effect(policy.effect)\n",
    "            if policy_index := Build.POLICY_TYPE_INDEX.get(policy.type):\n",
    "                if policy_war_score > 0:\n",
    "                    bisect.insort(war_policies[policy_index], (policy_war_score, policy.name), key = lambda x: -1 * x[0])\n",
    "                if policy_dev_effect > 0:\n",
    "                    bisect.insort(dev_policies[policy_index], (policy_dev_effect, policy.name), key = lambda x: -1 * x[0])\n",
    "                if policy_adm_tech_effect > 0:\n",
    "                    bisect.insort(adm_tech_policies[policy_index], (policy_adm_tech_effect, policy.name), key = lambda x: -1 * x[0])\n",
    "                if policy_dip_tech_effect > 0:\n",
    "                    bisect.insort(dip_tech_policies[policy_index], (policy_dip_tech_effect, policy.name), key = lambda x: -1 * x[0])\n",
    "                if policy_mil_tech_effect > 0:\n",
    "                    bisect.insort(mil_tech_policies[policy_index], (policy_mil_tech_effect, policy.name), key = lambda x: -1 * x[0])\n",
    "                if policy_idea_effect > 0:\n",
    "                    bisect.insort(idea_policies[policy_index], (policy_idea_effect, policy.name), key = lambda x: -1 * x[0])                \n",
    "                    \n",
    "    # Create policy micro management effects\n",
    "    \n",
    "    adm_max_policies = build.max_policies[0] + ideas_effect['possible_policy'] + ideas_effect['possible_adm_policy']\n",
    "    dip_max_policies = build.max_policies[1] + ideas_effect['possible_policy'] + ideas_effect['possible_dip_policy']\n",
    "    mil_max_policies = build.max_policies[2] + ideas_effect['possible_policy'] + ideas_effect['possible_mil_policy']\n",
    "    \n",
    "    total_dev_effect = sum([policy[0] for policy in dev_policies[0][:adm_max_policies]]) + \\\n",
    "                                sum([policy[0] for policy in dev_policies[1][:dip_max_policies]]) + \\\n",
    "                                sum([policy[0] for policy in dev_policies[2][:mil_max_policies]])\n",
    "    total_adm_tech_effect = sum([policy[0] for policy in adm_tech_policies[0][:adm_max_policies]]) + \\\n",
    "                                sum([policy[0] for policy in adm_tech_policies[1][:dip_max_policies]]) + \\\n",
    "                                sum([policy[0] for policy in adm_tech_policies[2][:mil_max_policies]])\n",
    "    total_dip_tech_effect = sum([policy[0] for policy in dip_tech_policies[0][:adm_max_policies]]) + \\\n",
    "                                sum([policy[0] for policy in dip_tech_policies[1][:dip_max_policies]]) + \\\n",
    "                                sum([policy[0] for policy in dip_tech_policies[2][:mil_max_policies]])\n",
    "    total_ida_effect = sum([policy[0] for policy in idea_policies[0][:adm_max_policies]]) + \\\n",
    "                                sum([policy[0] for policy in idea_policies[1][:dip_max_policies]]) + \\\n",
    "                                sum([policy[0] for policy in idea_policies[2][:mil_max_policies]])\n",
    "                                \n",
    "    micro_policy_effect = Counter()\n",
    "    micro_policy_effect['development_cost'] = total_dev_effect\n",
    "    micro_policy_effect['adm_tech_cost_modifier'] = total_adm_tech_effect\n",
    "    micro_policy_effect['dip_tech_cost_modifier'] = total_dip_tech_effect\n",
    "    micro_policy_effect['mil_tech_cost_modifier'] = total_dip_tech_effect\n",
    "    micro_policy_effect['idea_cost'] = total_ida_effect\n",
    "    \n",
    "    # Create policy war effects\n",
    "    \n",
    "    war_policy_effect = Counter()\n",
    "    for policy in war_policies[0][:adm_max_policies]:\n",
    "        war_policy_effect.update(POLICIES[policy[1]].effect)\n",
    "    for policy in war_policies[1][:dip_max_policies]:\n",
    "        war_policy_effect.update(POLICIES[policy[1]].effect)\n",
    "    for policy in war_policies[2][:mil_max_policies]:\n",
    "        war_policy_effect.update(POLICIES[policy[1]].effect)\n",
    "        \n",
    "    # Calculate total score\n",
    "    \n",
    "    total_score = cum_idea_score + get_score(micro_policy_effect, [COUNTRY_WEIGHTS]) + get_score(war_policy_effect, [MILITARY_WEIGHTS])\n",
    "    \n",
    "    return Build(\n",
    "        idea_set = idea_set,\n",
    "        idea_counts = idea_counts,\n",
    "        cum_idea_score = cum_idea_score,\n",
    "        ideas_effect = ideas_effect,\n",
    "        policy_set = policy_set,\n",
    "        max_policies = build.max_policies,\n",
    "        war_policies = war_policies,\n",
    "        dev_policies = dev_policies,\n",
    "        adm_tech_policies = adm_tech_policies,\n",
    "        dip_tech_policies = dip_tech_policies,\n",
    "        mil_tech_policies = mil_tech_policies,\n",
    "        idea_policies = idea_policies,\n",
    "        total_score = total_score,\n",
    "    )"
   ]
  },
  {
   "cell_type": "code",
   "execution_count": 27,
   "metadata": {},
   "outputs": [],
   "source": [
    "build = Build()\n",
    "expanded_build_1 = expanded_build(build, 'strongman0')\n",
    "expanded_build_2 = expanded_build(expanded_build_1, 'weapon_quality0')\n",
    "expanded_build_3 = expanded_build(expanded_build_2, 'imperialism0')\n",
    "expanded_build_4 = expanded_build(expanded_build_3, 'quality0')\n",
    "expanded_build_5 = expanded_build(expanded_build_4, 'economic_ideas')\n",
    "expanded_build_6 = expanded_build(expanded_build_5, 'society0')"
   ]
  },
  {
   "cell_type": "code",
   "execution_count": 28,
   "metadata": {},
   "outputs": [
    {
     "name": "stdout",
     "output_type": "stream",
     "text": [
      "Build( 315.50 - ideas: {'imperialism0', 'society0', 'quality0', 'strongman0', 'weapon_quality0', 'economic_ideas'}\n",
      "    - Idea counts: (2, 2, 2)\n",
      "    - Idea score: 218.00\n",
      "    - Idea effect: Counter({'max_absolutism': 10, 'global_unrest': 3, 'merchants': 1, 'army_tradition': 1, 'interest': 1, 'advisor_pool': 1, 'navy_tradition': 0.5, 'naval_attrition': 0.33, 'global_tax_modifier': 0.30000000000000004, 'production_efficiency': 0.275, 'siege_ability': 0.25, 'manpower_recovery_speed': 0.25, 'global_manpower_modifier': 0.2, 'infantry_power': 0.2, 'cavalry_power': 0.2, 'artillery_power': 0.2, 'development_cost': 0.2, 'inflation_action_cost': 0.2, 'global_trade_goods_size_modifier': 0.175, 'land_maintenance_modifier': 0.15000000000000002, 'naval_forcelimit_modifier': 0.15, 'improve_relation_modifier': 0.15, 'discipline': 0.125, 'defensiveness': 0.1, 'naval_morale': 0.1, 'inflation_reduction': 0.1, 'build_cost': 0.1, 'build_time': 0.1, 'global_institution_spread': 0.1, 'advisor_cost': 0.1, 'global_spy_defence': 0.1, 'spy_offence': 0.1, 'land_morale': 0.1, 'war_exhaustion': 0.05, 'idea_cost': 0.05, 'technology_cost': 0.05, 'imperial_authority_value': 0.05, 'imperial_mandate': 0.05, 'land_forcelimit_modifier': 0.05, 'ship_durability': 0.05, 'global_autonomy': 0.05, 'prestige_decay': 0.01})\n",
      "    - Policies: {'idea_variation_act_211', 'idea_variation_act_57', 'idea_variation_act_175', 'idea_variation_act_27', 'idea_variation_act_100', 'idea_variation_act_207', 'idea_variation_act_205', 'idea_variation_act_31', 'idea_variation_act_333', 'idea_variation_act_181', 'idea_variation_act_572', 'idea_variation_act_201'}\n",
      "    - Max policies: (4, 4, 4)\n",
      "    - War policies: ([], [], [(30.0, 'idea_variation_act_100'), (30.0, 'idea_variation_act_181'), (22.5, 'idea_variation_act_211'), (15.0, 'idea_variation_act_572'), (15.0, 'idea_variation_act_57'), (11.25, 'idea_variation_act_205')])\n",
      "    - Dev policies: ([], [], [])\n",
      "    - Adm tech policies: ([], [], [])\n",
      "    - Dip tech policies: ([], [], [])\n",
      "    - Mil tech policies: ([], [], [])\n",
      "    - Idea policies: ([], [], [])\n",
      "    - Total score: 315.50\n"
     ]
    }
   ],
   "source": [
    "expanded_build_6.print()"
   ]
  },
  {
   "cell_type": "code",
   "execution_count": 29,
   "metadata": {},
   "outputs": [
    {
     "data": {
      "text/plain": [
       "Counter({'max_absolutism': 10,\n",
       "         'global_unrest': 3,\n",
       "         'merchants': 1,\n",
       "         'army_tradition': 1,\n",
       "         'interest': 1,\n",
       "         'advisor_pool': 1,\n",
       "         'navy_tradition': 0.5,\n",
       "         'artillery_power': 0.4,\n",
       "         'naval_attrition': 0.33,\n",
       "         'global_tax_modifier': 0.30000000000000004,\n",
       "         'infantry_power': 0.30000000000000004,\n",
       "         'cavalry_power': 0.30000000000000004,\n",
       "         'production_efficiency': 0.275,\n",
       "         'siege_ability': 0.25,\n",
       "         'manpower_recovery_speed': 0.25,\n",
       "         'land_morale': 0.25,\n",
       "         'global_manpower_modifier': 0.2,\n",
       "         'development_cost': 0.2,\n",
       "         'inflation_action_cost': 0.2,\n",
       "         'global_trade_goods_size_modifier': 0.175,\n",
       "         'discipline': 0.175,\n",
       "         'land_maintenance_modifier': 0.15000000000000002,\n",
       "         'naval_forcelimit_modifier': 0.15,\n",
       "         'improve_relation_modifier': 0.15,\n",
       "         'defensiveness': 0.1,\n",
       "         'naval_morale': 0.1,\n",
       "         'inflation_reduction': 0.1,\n",
       "         'build_cost': 0.1,\n",
       "         'build_time': 0.1,\n",
       "         'global_institution_spread': 0.1,\n",
       "         'advisor_cost': 0.1,\n",
       "         'global_spy_defence': 0.1,\n",
       "         'spy_offence': 0.1,\n",
       "         'war_exhaustion': 0.05,\n",
       "         'idea_cost': 0.05,\n",
       "         'technology_cost': 0.05,\n",
       "         'imperial_authority_value': 0.05,\n",
       "         'imperial_mandate': 0.05,\n",
       "         'land_forcelimit_modifier': 0.05,\n",
       "         'ship_durability': 0.05,\n",
       "         'global_autonomy': 0.05,\n",
       "         'prestige_decay': 0.01})"
      ]
     },
     "execution_count": 29,
     "metadata": {},
     "output_type": "execute_result"
    }
   ],
   "source": [
    "get_total_effect(expanded_build_6)"
   ]
  },
  {
   "cell_type": "markdown",
   "metadata": {},
   "source": [
    "## Find the best build"
   ]
  },
  {
   "cell_type": "code",
   "execution_count": 30,
   "metadata": {},
   "outputs": [],
   "source": [
    "IDEA_COUNT_THRESHOLD = 0.39\n",
    "\n",
    "def iter_expanding_ideas(build: Build) -> str:\n",
    "    adm_idea_count, dip_idea_count, mil_idea_count = build.idea_counts\n",
    "    idea_count = adm_idea_count + dip_idea_count + mil_idea_count\n",
    "    if adm_idea_count / idea_count < IDEA_COUNT_THRESHOLD:\n",
    "        for idea_name in ADM_IDEA_SCOPE:\n",
    "            if idea_name not in build.idea_set:\n",
    "                for idea_conflict in IDEA_NOT_COMPATIBLE[idea_name]:\n",
    "                    if idea_conflict in build.idea_set:\n",
    "                        break\n",
    "                else:\n",
    "                    yield idea_name\n",
    "    if dip_idea_count / idea_count < IDEA_COUNT_THRESHOLD:\n",
    "        for idea_name in DIP_IDEA_SCOPE:\n",
    "            if idea_name not in build.idea_set:\n",
    "                for idea_conflict in IDEA_NOT_COMPATIBLE[idea_name]:\n",
    "                    if idea_conflict in build.idea_set:\n",
    "                        break\n",
    "                else:\n",
    "                    yield idea_name\n",
    "    if mil_idea_count / idea_count < IDEA_COUNT_THRESHOLD:\n",
    "        for idea_name in MIL_IDEA_SCOPE:\n",
    "            if idea_name not in build.idea_set:\n",
    "                for idea_conflict in IDEA_NOT_COMPATIBLE[idea_name]:\n",
    "                    if idea_conflict in build.idea_set:\n",
    "                        break\n",
    "                else:\n",
    "                    yield idea_name\n",
    "                    \n",
    "EXPAND_BEST_N = 1000\n",
    "EXPAND_RANDOM_N = 3000\n",
    "\n",
    "def get_ideas_to_expand(build_list: list[Build], best_n=EXPAND_BEST_N, random_n=EXPAND_RANDOM_N):\n",
    "    build_list.sort(key=lambda x: x.total_score, reverse=True)\n",
    "    best_builds = build_list[:best_n]\n",
    "    random_builds = random.sample(build_list[best_n:], min(random_n, len(build_list[best_n:])))\n",
    "    return best_builds + random_builds"
   ]
  },
  {
   "cell_type": "code",
   "execution_count": 31,
   "metadata": {},
   "outputs": [],
   "source": [
    "OUTPUT_PATH = '../output/_dev/build_search/'\n",
    "\n",
    "def dump_builds(builds: list[Build], output_path: str, count: int = 100, highlights: list[str] = HIGHLIGHTS):\n",
    "    with open(output_path, 'w') as f:\n",
    "        for build in builds[:count]:\n",
    "            build_total_effect = get_total_effect(build)\n",
    "            f.write('---------------------------------------------------\\n')\n",
    "            f.write(f'Score: {build.total_score}\\n')\n",
    "            f.write(f'Ideas: {build.idea_set}\\n')\n",
    "            f.write('     Main effects:\\n')\n",
    "            for highlight in highlights:\n",
    "                f.write(\n",
    "                    f'          {highlight}: {build_total_effect.get(highlight, 0)}\\n')\n",
    "            f.write('     Other effects:\\n')\n",
    "            for effect, value in build_total_effect.items():\n",
    "                if not effect in highlights:\n",
    "                    f.write(f'          {effect}: {value}\\n')"
   ]
  },
  {
   "cell_type": "markdown",
   "metadata": {},
   "source": [
    "## 3-policy builds"
   ]
  },
  {
   "cell_type": "code",
   "execution_count": 32,
   "metadata": {},
   "outputs": [
    {
     "data": {
      "application/vnd.jupyter.widget-view+json": {
       "model_id": "290af6e75d1049bdab0c1518ce28bbc8",
       "version_major": 2,
       "version_minor": 0
      },
      "text/plain": [
       "  0%|          | 0/1260 [00:00<?, ?it/s]"
      ]
     },
     "metadata": {},
     "output_type": "display_data"
    }
   ],
   "source": [
    "total_options = len(ADM_IDEA_SCOPE) *  len(DIP_IDEA_SCOPE) * len(MIL_IDEA_SCOPE)\n",
    "init_builds = []\n",
    "with tqdm(total=total_options) as pbar:\n",
    "    for adm_idea in ADM_IDEA_SCOPE:\n",
    "        init_build_adm = expanded_build(Build(), adm_idea)\n",
    "        for dip_idea in DIP_IDEA_SCOPE:\n",
    "            init_build_dip = expanded_build(init_build_adm, dip_idea)\n",
    "            for mil_idea in MIL_IDEA_SCOPE:\n",
    "                init_build_mil = expanded_build(init_build_dip, mil_idea)\n",
    "                init_builds.append(init_build_mil)\n",
    "                pbar.update(1)"
   ]
  },
  {
   "cell_type": "code",
   "execution_count": 33,
   "metadata": {},
   "outputs": [],
   "source": [
    "dump_builds(init_builds, OUTPUT_PATH + 'init_builds.txt', count=100)"
   ]
  },
  {
   "cell_type": "markdown",
   "metadata": {},
   "source": [
    "## Expanding init builds"
   ]
  },
  {
   "cell_type": "code",
   "execution_count": 34,
   "metadata": {},
   "outputs": [
    {
     "data": {
      "application/vnd.jupyter.widget-view+json": {
       "model_id": "e1d0f098aea54e6eae5d170e7fe82a29",
       "version_major": 2,
       "version_minor": 0
      },
      "text/plain": [
       "Expanding 3 idea sets:   0%|          | 0/1260 [00:00<?, ?it/s]"
      ]
     },
     "metadata": {},
     "output_type": "display_data"
    },
    {
     "data": {
      "application/vnd.jupyter.widget-view+json": {
       "model_id": "681ff1614955495e9ea9d26edcc70cf6",
       "version_major": 2,
       "version_minor": 0
      },
      "text/plain": [
       "Expanding 4 idea sets:   0%|          | 0/36828 [00:00<?, ?it/s]"
      ]
     },
     "metadata": {},
     "output_type": "display_data"
    },
    {
     "data": {
      "application/vnd.jupyter.widget-view+json": {
       "model_id": "0d489b2d48ef4f91811020e427183a67",
       "version_major": 2,
       "version_minor": 0
      },
      "text/plain": [
       "Expanding 5 idea sets:   0%|          | 0/4000 [00:00<?, ?it/s]"
      ]
     },
     "metadata": {},
     "output_type": "display_data"
    },
    {
     "data": {
      "application/vnd.jupyter.widget-view+json": {
       "model_id": "f3424a4f5fcc4f97b0af448fead94b93",
       "version_major": 2,
       "version_minor": 0
      },
      "text/plain": [
       "Expanding 6 idea sets:   0%|          | 0/4000 [00:00<?, ?it/s]"
      ]
     },
     "metadata": {},
     "output_type": "display_data"
    },
    {
     "data": {
      "application/vnd.jupyter.widget-view+json": {
       "model_id": "d032621e8a46419d8c383cbcbcd321bc",
       "version_major": 2,
       "version_minor": 0
      },
      "text/plain": [
       "Expanding 7 idea sets:   0%|          | 0/4000 [00:00<?, ?it/s]"
      ]
     },
     "metadata": {},
     "output_type": "display_data"
    },
    {
     "data": {
      "application/vnd.jupyter.widget-view+json": {
       "model_id": "66b3a7733f784c539d132477d0680196",
       "version_major": 2,
       "version_minor": 0
      },
      "text/plain": [
       "Expanding 8 idea sets:   0%|          | 0/4000 [00:00<?, ?it/s]"
      ]
     },
     "metadata": {},
     "output_type": "display_data"
    },
    {
     "data": {
      "application/vnd.jupyter.widget-view+json": {
       "model_id": "1fbb3240e525403ba8e5eccd594f32b5",
       "version_major": 2,
       "version_minor": 0
      },
      "text/plain": [
       "Expanding 9 idea sets:   0%|          | 0/4000 [00:00<?, ?it/s]"
      ]
     },
     "metadata": {},
     "output_type": "display_data"
    },
    {
     "data": {
      "application/vnd.jupyter.widget-view+json": {
       "model_id": "de76cdc5242b4a2ab2cc578f9c6344d5",
       "version_major": 2,
       "version_minor": 0
      },
      "text/plain": [
       "Expanding 10 idea sets:   0%|          | 0/4000 [00:00<?, ?it/s]"
      ]
     },
     "metadata": {},
     "output_type": "display_data"
    },
    {
     "data": {
      "application/vnd.jupyter.widget-view+json": {
       "model_id": "a4523a78476d4ea5ad6b1cbbd1434b20",
       "version_major": 2,
       "version_minor": 0
      },
      "text/plain": [
       "Expanding 11 idea sets:   0%|          | 0/4000 [00:00<?, ?it/s]"
      ]
     },
     "metadata": {},
     "output_type": "display_data"
    }
   ],
   "source": [
    "CUTTING_FROM = 5\n",
    "CUTTING_TOP = 1000\n",
    "CUTTING_RANDOM = 3000\n",
    "\n",
    "expanded_builds = init_builds\n",
    "\n",
    "for i in range(4, 13):\n",
    "    builds_to_expand = list(expanded_builds)\n",
    "    expanded_builds = []\n",
    "    for build in tqdm(builds_to_expand, desc=f'Searching for {i} ideas'):\n",
    "        for idea_name in iter_expanding_ideas(build):\n",
    "            build_idea_set = set(build.idea_set)\n",
    "            build_idea_set.add(idea_name)\n",
    "            build_id = '-'.join(sorted(list(build_idea_set)))\n",
    "            if build_id not in EXPLORED_BUILDS:\n",
    "                expanded_builds.append(expanded_build(build, idea_name))\n",
    "    \n",
    "    expanded_builds.sort(key=lambda x: x.total_score, reverse=True)\n",
    "    if i >= CUTTING_FROM:\n",
    "        expanded_builds = get_ideas_to_expand(expanded_builds, best_n=CUTTING_TOP, random_n=CUTTING_RANDOM)\n",
    "    dump_builds(expanded_builds, OUTPUT_PATH + f'builds_{i}.txt', count=100)"
   ]
  },
  {
   "cell_type": "code",
   "execution_count": 35,
   "metadata": {},
   "outputs": [
    {
     "data": {
      "text/plain": [
       "([],\n",
       " [(0.1, 'idea_variation_act_514'), (0.1, 'idea_variation_act_153')],\n",
       " [(0.1, 'idea_variation_act_566')])"
      ]
     },
     "execution_count": 35,
     "metadata": {},
     "output_type": "execute_result"
    }
   ],
   "source": [
    "expanded_builds[0].dev_policies"
   ]
  },
  {
   "cell_type": "code",
   "execution_count": null,
   "metadata": {},
   "outputs": [],
   "source": []
  },
  {
   "cell_type": "code",
   "execution_count": 36,
   "metadata": {},
   "outputs": [
    {
     "name": "stdout",
     "output_type": "stream",
     "text": [
      "Build( 277.75 - ideas: {'imperialism0', 'conscription0', 'quality0', 'administrative_ideas'}\n",
      "    - Idea counts: (1, 1, 2)\n",
      "    - Idea score: 236.50\n",
      "    - Idea effect: Counter({'max_absolutism': 10, 'global_manpower': 5.0, 'army_tradition': 2, 'country_admin_power': 1, 'country_diplomatic_power': 1, 'interest': 1, 'navy_tradition': 0.5, 'manpower_recovery_speed': 0.5, 'drill_gain_modifier': 0.5, 'monarch_lifespan': 0.33, 'naval_attrition': 0.33, 'global_regiment_recruit_speed': 0.33, 'land_morale': 0.3, 'embracement_cost': 0.25, 'governing_capacity_modifier': 0.25, 'reinforce_speed': 0.25, 'global_manpower_modifier': 0.25, 'core_creation': 0.2, 'advisor_cost': 0.2, 'naval_forcelimit_modifier': 0.15, 'development_cost': 0.1, 'global_tax_modifier': 0.1, 'adm_tech_cost_modifier': 0.1, 'cavalry_power': 0.1, 'artillery_power': 0.1, 'naval_morale': 0.1, 'infantry_power': 0.1, 'mil_tech_cost_modifier': 0.1, 'discipline': 0.07500000000000001, 'imperial_authority_value': 0.05, 'imperial_mandate': 0.05, 'land_forcelimit_modifier': 0.05, 'inflation_reduction': 0.05, 'ship_durability': 0.05, 'prestige_decay': 0.01})\n",
      "    - Policies: {'idea_variation_act_97', 'idea_variation_act_205', 'idea_variation_act_631', 'idea_variation_act_315', 'idea_variation_act_200'}\n",
      "    - Max policies: (4, 4, 4)\n",
      "    - War policies: ([], [], [(30.0, 'idea_variation_act_97'), (11.25, 'idea_variation_act_205')])\n",
      "    - Dev policies: ([], [], [])\n",
      "    - Adm tech policies: ([], [], [])\n",
      "    - Dip tech policies: ([], [], [])\n",
      "    - Mil tech policies: ([], [], [])\n",
      "    - Idea policies: ([], [], [])\n",
      "    - Total score: 277.75\n"
     ]
    }
   ],
   "source": [
    "build = Build()\n",
    "for idea_name in ['imperialism0', 'administrative_ideas', 'quality0', 'conscription0']:\n",
    "    build = expanded_build(build, idea_name)\n",
    "build.print()"
   ]
  },
  {
   "cell_type": "code",
   "execution_count": 37,
   "metadata": {},
   "outputs": [
    {
     "data": {
      "text/plain": [
       "Counter({'max_absolutism': 10,\n",
       "         'global_manpower': 5.0,\n",
       "         'army_tradition': 2,\n",
       "         'country_admin_power': 1,\n",
       "         'country_diplomatic_power': 1,\n",
       "         'interest': 1,\n",
       "         'navy_tradition': 0.5,\n",
       "         'manpower_recovery_speed': 0.5,\n",
       "         'drill_gain_modifier': 0.5,\n",
       "         'land_morale': 0.4,\n",
       "         'monarch_lifespan': 0.33,\n",
       "         'naval_attrition': 0.33,\n",
       "         'global_regiment_recruit_speed': 0.33,\n",
       "         'embracement_cost': 0.25,\n",
       "         'governing_capacity_modifier': 0.25,\n",
       "         'reinforce_speed': 0.25,\n",
       "         'global_manpower_modifier': 0.25,\n",
       "         'core_creation': 0.2,\n",
       "         'advisor_cost': 0.2,\n",
       "         'infantry_power': 0.2,\n",
       "         'naval_forcelimit_modifier': 0.15,\n",
       "         'development_cost': 0.1,\n",
       "         'global_tax_modifier': 0.1,\n",
       "         'adm_tech_cost_modifier': 0.1,\n",
       "         'cavalry_power': 0.1,\n",
       "         'artillery_power': 0.1,\n",
       "         'naval_morale': 0.1,\n",
       "         'mil_tech_cost_modifier': 0.1,\n",
       "         'discipline': 0.07500000000000001,\n",
       "         'fire_damage': 0.075,\n",
       "         'imperial_authority_value': 0.05,\n",
       "         'imperial_mandate': 0.05,\n",
       "         'land_forcelimit_modifier': 0.05,\n",
       "         'inflation_reduction': 0.05,\n",
       "         'ship_durability': 0.05,\n",
       "         'prestige_decay': 0.01})"
      ]
     },
     "execution_count": 37,
     "metadata": {},
     "output_type": "execute_result"
    },
    {
     "ename": "",
     "evalue": "",
     "output_type": "error",
     "traceback": [
      "\u001b[1;31mThe Kernel crashed while executing code in the the current cell or a previous cell. Please review the code in the cell(s) to identify a possible cause of the failure. Click <a href='https://aka.ms/vscodeJupyterKernelCrash'>here</a> for more info. View Jupyter <a href='command:jupyter.viewOutput'>log</a> for further details."
     ]
    }
   ],
   "source": [
    "get_total_effect(build)"
   ]
  },
  {
   "cell_type": "code",
   "execution_count": null,
   "metadata": {},
   "outputs": [],
   "source": []
  }
 ],
 "metadata": {
  "kernelspec": {
   "display_name": "Python 3",
   "language": "python",
   "name": "python3"
  },
  "language_info": {
   "codemirror_mode": {
    "name": "ipython",
    "version": 3
   },
   "file_extension": ".py",
   "mimetype": "text/x-python",
   "name": "python",
   "nbconvert_exporter": "python",
   "pygments_lexer": "ipython3",
   "version": "3.10.13"
  },
  "orig_nbformat": 4
 },
 "nbformat": 4,
 "nbformat_minor": 2
}
