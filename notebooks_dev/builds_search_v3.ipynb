{
 "cells": [
  {
   "cell_type": "markdown",
   "metadata": {},
   "source": [
    "# Builds for Gypsy mod\n",
    "\n",
    "Developed for gypsy 1.36.1"
   ]
  },
  {
   "cell_type": "code",
   "execution_count": 1,
   "metadata": {},
   "outputs": [],
   "source": [
    "\n",
    "import random\n",
    "import itertools\n",
    "from math import comb\n",
    "import numpy as np\n",
    "from collections import Counter, defaultdict\n",
    "\n",
    "import yaml\n",
    "from functools import lru_cache\n",
    "\n",
    "from tqdm.notebook import tqdm\n",
    "import matplotlib.pyplot as plt\n",
    "import seaborn as sns"
   ]
  },
  {
   "cell_type": "code",
   "execution_count": 2,
   "metadata": {},
   "outputs": [],
   "source": [
    "sns.set_theme(style=\"whitegrid\")"
   ]
  },
  {
   "cell_type": "markdown",
   "metadata": {},
   "source": [
    "## Load data"
   ]
  },
  {
   "cell_type": "code",
   "execution_count": 3,
   "metadata": {},
   "outputs": [],
   "source": [
    "IDEAS_PATHS = [\n",
    "    '../data/processed/gypsy-1-36-1/00_basic_ideas.yaml', \n",
    "    '../data/processed/gypsy-1-36-1/00_flogi_ideas.yaml', \n",
    "]\n",
    "\n",
    "class Idea():\n",
    "    def __init__(self, name:str, type: str, effect: dict):\n",
    "        self.name = name\n",
    "        self.type = type\n",
    "        self.effect = effect\n",
    "\n",
    "    def __repr__(self):\n",
    "        return f'Idea({self.name}, {self.type}, {self.effect})'\n",
    "\n",
    "IDEAS = {}\n",
    "IDEA_PROTECTED_KEYS = ['category']\n",
    "for path in IDEAS_PATHS:\n",
    "    with open(path, 'r') as f:\n",
    "        ideas_dict = yaml.load(f, Loader=yaml.FullLoader)\n",
    "    for name, value in ideas_dict.items():\n",
    "        category = value['category']\n",
    "        effect = Counter()\n",
    "        for key in value.keys():\n",
    "            if key not in IDEA_PROTECTED_KEYS:\n",
    "                effect_set = value[key]\n",
    "                for k, v in effect_set.items():\n",
    "                    effect[k] += abs(v)\n",
    "        IDEAS[name] = Idea(name=name, type=category, effect=effect)\n"
   ]
  },
  {
   "cell_type": "code",
   "execution_count": 5,
   "metadata": {},
   "outputs": [],
   "source": [
    "POLICIES_PATHS = [\n",
    "    '../data/processed/gypsy-1-36-1/Idea_Variation_policies.yaml'\n",
    "]\n",
    "\n",
    "class Policy():\n",
    "    def __init__(self, name:str, type: str, req: tuple, effect: dict):\n",
    "        self.name = name\n",
    "        self.type = type\n",
    "        self.req = req\n",
    "        self.effect = effect\n",
    "\n",
    "    def __repr__(self):\n",
    "        return f\"Policy({self.name}, {self.type}, {self.req}, {self.effect})\"\n",
    "\n",
    "POLICIES = []\n",
    "POLICY_PROTECTED_KEYS = ['monarch_power', 'req']\n",
    "for path in POLICIES_PATHS:\n",
    "    with open(path, 'r') as f:\n",
    "        policies_dict = yaml.load(f, Loader=yaml.FullLoader)\n",
    "    for name, value in policies_dict.items():\n",
    "        monarch_power = value['monarch_power']\n",
    "        req0, req1 = value['req']\n",
    "        effect = Counter()\n",
    "        for key in value.keys():\n",
    "            if key not in POLICY_PROTECTED_KEYS:\n",
    "                effect[key] = abs(value[key])\n",
    "        POLICIES.append(Policy(\n",
    "                name = name, \n",
    "                type = value['monarch_power'], \n",
    "                req = (req0, req1),\n",
    "                effect = effect\n",
    "            ))\n"
   ]
  },
  {
   "cell_type": "code",
   "execution_count": 4,
   "metadata": {},
   "outputs": [],
   "source": [
    "class Build():\n",
    "    def __init__(self, \n",
    "                 ideas: tuple[str], \n",
    "                 score: float, \n",
    "                 total_effect: Counter, \n",
    "                 war_policies_effect: dict\n",
    "    ):\n",
    "        self.ideas = ideas\n",
    "        self.score = score\n",
    "        self.total_effect = total_effect\n",
    "        self.war_policies_effect = war_policies_effect\n",
    "\n",
    "    def __repr__(self):\n",
    "        return f\"Build( {self.score:.2f} - ideas: {self.ideas})\"\n",
    "    \n",
    "def print_build(build: Build, effects: list[str]):\n",
    "    print('--------------------------------------------------------------------')\n",
    "    print(f\"Build - score: {build.score} - ideas: {build.ideas}\")\n",
    "    for effect in effects:\n",
    "        print(f\"\\t{effect}: {build.total_effect[effect]:.2f}\")"
   ]
  },
  {
   "cell_type": "markdown",
   "metadata": {},
   "source": [
    "## Build ideas"
   ]
  },
  {
   "cell_type": "code",
   "execution_count": 6,
   "metadata": {},
   "outputs": [],
   "source": [
    "ADM_IDEA_NAMES = ['administrative_ideas', 'economic_ideas', 'expansion_ideas', 'humanist_ideas', 'innovativeness_ideas',\n",
    "                  'centralisation0', 'decentralisation0', 'development0', 'jurisprudence0', 'state_administration0', 'strongman0',]\n",
    "REL_IDEA_NAMES = ['catholic0']\n",
    "GOV_IDEA_NAMES = ['monarchy0']\n",
    "ADM_NOT_COMPATIBLE = [\n",
    "    ('strongfem0', 'strongman0',),\n",
    "    ('centralisation0', 'decentralisation0',),\n",
    "]\n",
    "ADM_IDEA_SCOPE = ADM_IDEA_NAMES + REL_IDEA_NAMES + GOV_IDEA_NAMES\n",
    "\n",
    "DIP_IDEA_NAMES = ['dynasty0', 'exploration_ideas', 'influence_ideas', 'maritime_ideas', 'spy_ideas', 'trade_ideas', 'assimilation0',\n",
    "                  'colonial_empire0', 'fleet_base0', 'galley0', 'heavy_ship0', 'light_ship0', 'nationalism0', 'propaganda0', 'society0']\n",
    "IMP_IDEA_NAMES = ['imperialism0',]\n",
    "DIP_NOT_COMPATIBLE = [\n",
    "    ('galley0', 'heavy_ship0'),\n",
    "    ('galley0', 'light_ship0'),\n",
    "    ('heavy_ship0', 'light_ship0'),\n",
    "]\n",
    "DIP_IDEA_SCOPE = DIP_IDEA_NAMES + IMP_IDEA_NAMES\n",
    "\n",
    "MIL_IDEA_NAMES = ['offensive0', 'defensive0', 'quality0', 'quantity0', 'general_staff0', 'standing_army0', 'conscription0',\n",
    "                  'mercenary0', 'weapon_quality0', 'fortress0', 'war_production0', 'tactical0', 'militarism0', 'fire0', 'shock0',]\n",
    "MIL_NOT_COMPATIBLE = [\n",
    "    ('offensive0', 'defensive0'),\n",
    "    ('quality0', 'quantity0'),\n",
    "    ('standing_army0', 'conscription0'),\n",
    "    ('fire0', 'shock0')\n",
    "]\n",
    "MIL_IDEA_SCOPE = MIL_IDEA_NAMES\n",
    "\n",
    "ALL_IDEA_NAMES = ADM_IDEA_SCOPE + DIP_IDEA_SCOPE + MIL_IDEA_SCOPE\n",
    "\n",
    "# Check if all idea names are valid\n",
    "for idea_name in ALL_IDEA_NAMES:\n",
    "    if idea_name not in IDEAS:\n",
    "        print(f'Idea {idea_name} not found!')\n",
    "        exit()\n"
   ]
  },
  {
   "cell_type": "markdown",
   "metadata": {},
   "source": [
    "## Build score"
   ]
  },
  {
   "cell_type": "code",
   "execution_count": 16,
   "metadata": {},
   "outputs": [
    {
     "name": "stdout",
     "output_type": "stream",
     "text": [
      "accept_vassalization_reasons: 15.00\n",
      "adm_tech_cost_modifier: 0.10\n",
      "admiral_cost: 0.50\n",
      "advisor_cost: 0.20\n",
      "advisor_pool: 1.00\n",
      "ae_impact: 0.15\n",
      "all_estate_loyalty_equilibrium: 0.10\n",
      "all_estate_possible_privileges: 1.00\n",
      "allow_mercenary_drill: 1.00\n",
      "allowed_marine_fraction: 0.25\n",
      "army_tradition: 1.00\n",
      "army_tradition_decay: 0.01\n",
      "artillery_cost: 0.15\n",
      "artillery_levels_available_vs_fort: 1.00\n",
      "artillery_power: 0.15\n",
      "autonomy_change_time: 0.50\n",
      "backrow_artillery_damage: 0.10\n",
      "blockade_efficiency: 0.50\n",
      "brahmins_hindu_loyalty_modifier: 0.10\n",
      "brahmins_muslim_loyalty_modifier: 0.10\n",
      "build_cost: 0.25\n",
      "build_time: 0.33\n",
      "burghers_loyalty_modifier: 0.10\n",
      "can_fabricate_for_vassals: 1.00\n",
      "caravan_power: 0.25\n",
      "cav_to_inf_ratio: 0.30\n",
      "cavalry_cost: 0.33\n",
      "cavalry_flanking: 1.00\n",
      "cavalry_power: 0.25\n",
      "cb_on_overseas: 1.00\n",
      "cb_on_primitives: 1.00\n",
      "cb_on_religious_enemies: 1.00\n",
      "center_of_trade_upgrade_cost: 0.20\n",
      "church_loyalty_modifier: 0.10\n",
      "church_power_modifier: 0.75\n",
      "claim_duration: 0.25\n",
      "colonist_placement_chance: 0.15\n",
      "colonists: 2.00\n",
      "core_creation: 0.20\n",
      "country_admin_power: 1.00\n",
      "country_diplomatic_power: 1.00\n",
      "culture_conversion_cost: 0.33\n",
      "defensiveness: 0.30\n",
      "development_cost: 0.10\n",
      "development_cost_in_primary_culture: 0.00\n",
      "devotion: 2.00\n",
      "dhimmi_loyalty_modifier: 0.10\n",
      "dip_tech_cost_modifier: 0.10\n",
      "diplomatic_annexation_cost: 0.20\n",
      "diplomatic_reputation: 2.00\n",
      "diplomatic_upkeep: 2.00\n",
      "diplomats: 1.00\n",
      "discipline: 0.07\n",
      "discovered_relations_impact: 1.00\n",
      "disengagement_chance: 0.15\n",
      "drill_decay_modifier: 0.50\n",
      "drill_gain_modifier: 0.50\n",
      "embargo_efficiency: 0.50\n",
      "embracement_cost: 0.25\n",
      "enemy_core_creation: 0.00\n",
      "enforce_religion_cost: 0.50\n",
      "envoy_travel_time: 0.50\n",
      "estate_interaction_cooldown_modifier: 0.20\n",
      "expand_administration_cost: 1.00\n",
      "expand_infrastructure_cost_modifier: 0.25\n",
      "extra_manpower_at_religious_war: 1.00\n",
      "fabricate_claims_cost: 0.50\n",
      "female_advisor_chance: 1.00\n",
      "fire_damage: 0.05\n",
      "fire_damage_received: 0.10\n",
      "fort_maintenance_modifier: 0.33\n",
      "free_leader_pool: 1.00\n",
      "free_policy: 1.00\n",
      "galley_cost: 0.25\n",
      "galley_power: 0.25\n",
      "garrison_size: 0.50\n",
      "general_cost: 0.10\n",
      "global_autonomy: 0.10\n",
      "global_colonial_growth: 25.00\n",
      "global_foreign_trade_power: 0.00\n",
      "global_garrison_growth: 0.25\n",
      "global_heretic_missionary_strength: 0.03\n",
      "global_institution_spread: 0.25\n",
      "global_manpower: 5.00\n",
      "global_manpower_modifier: 0.50\n",
      "global_missionary_strength: 0.04\n",
      "global_naval_barrage_cost: 1.00\n",
      "global_naval_engagement_modifier: 0.10\n",
      "global_own_trade_power: 0.00\n",
      "global_prosperity_growth: 0.25\n",
      "global_prov_trade_power_modifier: 0.25\n",
      "global_regiment_cost: 0.15\n",
      "global_regiment_recruit_speed: 0.33\n",
      "global_religious_conversion_resistance: 0.25\n",
      "global_sailors: 2500.00\n",
      "global_sailors_modifier: 0.50\n",
      "global_ship_cost: 0.25\n",
      "global_ship_recruit_speed: 0.50\n",
      "global_ship_repair: 0.20\n",
      "global_ship_trade_power: 0.25\n",
      "global_spy_defence: 0.50\n",
      "global_supply_limit_modifier: 1.00\n",
      "global_tariffs: 0.25\n",
      "global_tax_modifier: 0.20\n",
      "global_trade_goods_size_modifier: 0.15\n",
      "global_trade_power: 0.20\n",
      "global_unrest: 2.00\n",
      "governing_capacity: 100.00\n",
      "governing_capacity_modifier: 0.33\n",
      "great_project_upgrade_cost: 0.25\n",
      "harmonization_speed: 0.25\n",
      "harsh_treatment_cost: 0.75\n",
      "heavy_ship_cost: 0.20\n",
      "heavy_ship_power: 0.30\n",
      "heir_chance: 0.50\n",
      "horde_unity: 1.00\n",
      "hostile_attrition: 2.00\n",
      "idea_cost: 0.10\n",
      "imperial_authority: 0.10\n",
      "imperial_authority_value: 0.10\n",
      "imperial_mandate: 0.10\n",
      "improve_relation_modifier: 0.33\n",
      "infantry_cost: 0.15\n",
      "infantry_power: 0.15\n",
      "inflation_action_cost: 0.25\n",
      "inflation_reduction: 0.10\n",
      "innovativeness_gain: 0.50\n",
      "institution_spread_from_true_faith: 0.20\n",
      "interest: 1.00\n",
      "land_attrition: 0.33\n",
      "land_forcelimit: 3.00\n",
      "land_forcelimit_modifier: 0.50\n",
      "land_maintenance_modifier: 0.20\n",
      "land_morale: 0.30\n",
      "landing_penalty: 1.00\n",
      "leader_cost: 0.10\n",
      "leader_land_fire: 2.00\n",
      "leader_land_manuever: 1.00\n",
      "leader_land_shock: 2.00\n",
      "leader_naval_fire: 1.00\n",
      "leader_naval_manuever: 1.00\n",
      "leader_naval_shock: 2.00\n",
      "leader_siege: 1.00\n",
      "legitimacy: 2.00\n",
      "liberty_desire_from_subject_development: 0.50\n",
      "light_ship_cost: 0.50\n",
      "light_ship_power: 0.30\n",
      "loot_amount: 1.00\n",
      "loyalty_change_on_revoked: 0.05\n",
      "manpower_in_true_faith_provinces: 0.25\n",
      "manpower_recovery_speed: 0.50\n",
      "maratha_loyalty_modifier: 0.10\n",
      "max_absolutism: 20.00\n",
      "max_hostile_attrition: 1.00\n",
      "may_explore: 1.00\n",
      "may_perform_slave_raid: 1.00\n",
      "may_recruit_female_generals: 1.00\n",
      "merc_independent_from_trade_range: 1.00\n",
      "merc_leader_army_tradition: 0.50\n",
      "merc_maintenance_modifier: 0.50\n",
      "mercantilism_cost: 0.25\n",
      "mercenary_cost: 0.50\n",
      "mercenary_discipline: 0.05\n",
      "mercenary_manpower: 1.00\n",
      "merchants: 3.00\n",
      "meritocracy: 1.00\n",
      "mil_advisor_cost: 0.25\n",
      "mil_tech_cost_modifier: 0.10\n",
      "missionaries: 1.00\n",
      "missionary_maintenance_cost: 0.50\n",
      "monarch_admin_power: 1.00\n",
      "monarch_diplomatic_power: 1.00\n",
      "monarch_lifespan: 0.33\n",
      "monarch_military_power: 1.00\n",
      "monthly_fervor_increase: 7.00\n",
      "monthly_militarized_society: 0.05\n",
      "monthly_persian_influence: 0.10\n",
      "monthly_piety_accelerator: 0.00\n",
      "monthly_prussian_militarized_society_1: 0.05\n",
      "monthly_prussian_militarized_society_2: 0.05\n",
      "monthly_prussian_militarized_society_3: 0.05\n",
      "monthly_reform_progress: 0.10\n",
      "monthly_reform_progress_modifier: 0.25\n",
      "monthly_splendor: 3.00\n",
      "morale_damage_received: 0.10\n",
      "movement_speed: 0.25\n",
      "movement_speed_onto_off_boat_modifier: 0.50\n",
      "native_assimilation: 0.50\n",
      "native_uprising_chance: 0.00\n",
      "naval_attrition: 0.33\n",
      "naval_forcelimit: 50.00\n",
      "naval_forcelimit_modifier: 0.50\n",
      "naval_maintenance_modifier: 0.25\n",
      "naval_morale: 0.20\n",
      "navy_tradition: 2.00\n",
      "navy_tradition_decay: 0.01\n",
      "nobles_loyalty_modifier: 0.10\n",
      "nomadic_tribes_loyalty_modifier: 0.10\n",
      "num_accepted_cultures: 3.00\n",
      "num_of_pronoiars: 1.00\n",
      "papal_influence: 4.00\n",
      "possible_condottieri: 1.00\n",
      "possible_dip_policy: 1.00\n",
      "power_projection_from_insults: 1.00\n",
      "prestige: 1.00\n",
      "prestige_decay: 0.01\n",
      "prestige_from_land: 1.00\n",
      "prestige_per_development_from_conversion: 0.10\n",
      "privateer_efficiency: 0.50\n",
      "production_efficiency: 0.20\n",
      "promote_culture_cost: 1.00\n",
      "province_warscore_cost: 0.20\n",
      "rajput_loyalty_modifier: 0.10\n",
      "range: 0.50\n",
      "raze_power_gain: 0.50\n",
      "rebel_support_efficiency: 1.00\n",
      "recover_army_morale_speed: 0.15\n",
      "recover_navy_morale_speed: 0.15\n",
      "reduced_liberty_desire: 10.00\n",
      "reduced_stab_impacts: 1.00\n",
      "reform_progress_growth: 0.33\n",
      "reinforce_cost_modifier: 0.25\n",
      "reinforce_speed: 0.50\n",
      "religious_unity: 0.25\n",
      "republican_tradition: 1.00\n",
      "reverse_relation_with_same_religion: 10.00\n",
      "sailor_maintenance_modifer: 0.75\n",
      "sailors_recovery_speed: 0.50\n",
      "same_culture_advisor_cost: 0.20\n",
      "sea_repair: 1.00\n",
      "ship_durability: 0.15\n",
      "shock_damage: 0.07\n",
      "shock_damage_received: 0.07\n",
      "siege_ability: 0.15\n",
      "siege_blockade_progress: 1.00\n",
      "special_unit_forcelimit: 0.25\n",
      "spy_offence: 0.75\n",
      "stability_cost_modifier: 0.25\n",
      "state_governing_cost: 0.10\n",
      "state_maintenance_modifier: 0.50\n",
      "sunk_ship_morale_hit_recieved: 0.33\n",
      "technology_cost: 0.10\n",
      "tolerance_heathen: 2.00\n",
      "tolerance_heretic: 3.00\n",
      "tolerance_of_heathens_capacity: 1.00\n",
      "tolerance_of_heretics_capacity: 1.00\n",
      "tolerance_own: 2.00\n",
      "trade_company_governing_cost: 0.25\n",
      "trade_efficiency: 0.15\n",
      "trade_range_modifier: 0.25\n",
      "trade_steering: 0.20\n",
      "treasure_fleet_income: 0.25\n",
      "tribal_development_growth: 0.01\n",
      "unjustified_demands: 0.50\n",
      "vaisyas_loyalty_modifier: 0.10\n",
      "vassal_forcelimit_bonus: 1.00\n",
      "war_exhaustion: 0.05\n",
      "war_exhaustion_cost: 0.33\n",
      "war_taxes_cost_modifier: 0.50\n",
      "warscore_cost_vs_other_religion: 0.20\n",
      "yearly_absolutism: 1.00\n",
      "yearly_army_professionalism: 0.01\n",
      "yearly_authority: 0.15\n",
      "yearly_corruption: 0.10\n",
      "yearly_doom_reduction: 1.00\n",
      "yearly_harmony: 0.50\n",
      "yearly_karma_decay: 0.10\n",
      "yearly_patriarch_authority: 0.01\n",
      "years_of_nationalism: 10.00\n"
     ]
    }
   ],
   "source": [
    "# Print all possible effects of all ideas and policies and the max value of each effect\n",
    "all_effects = set()\n",
    "for idea in IDEAS.values():\n",
    "    all_effects.update(idea.effect.keys())\n",
    "for policy in POLICIES:\n",
    "    all_effects.update(policy.effect.keys())\n",
    "all_effects = sorted(list(all_effects))\n",
    "for effect in all_effects:\n",
    "    max_value = max([abs(idea.effect[effect]) for idea in IDEAS.values()])\n",
    "    print(f\"{effect}: {max_value:.2f}\")"
   ]
  },
  {
   "cell_type": "code",
   "execution_count": 17,
   "metadata": {},
   "outputs": [],
   "source": [
    "# Country weights are used to determine the score of a country during peace time\n",
    "COUNTRY_WEIGHTS = {\n",
    "    # Development\n",
    "    'development_cost': 150,                        # Each 10% is 15 points\n",
    "    'development_cost_in_primary_culture': 100,     # Each 10% is 10 points\n",
    "    # Mana\n",
    "    'country_admin_power': 25,                      # Each point is 100 points\n",
    "    'country_diplomatic_power': 25,                 # Each point is 100 points\n",
    "    # Policies\n",
    "    'free_policy': 5,                               # Each free extra policy is 5 points\n",
    "    'free_adm_policy': 2,                           # Each free extra policy is 2 points\n",
    "    'free_dip_policy': 2,                           # Each free extra policy is 2 points\n",
    "    'free_mil_policy': 1,                           # Each free extra policy is 1 points\n",
    "    'possible_policy': 12,                          # Each extra policy column is 12 points\n",
    "    'possible_adm_policy': 4,                       # Each possible policy is 4 points\n",
    "    'possible_dip_policy':  4,                      # Each possible policy is 4 points\n",
    "    'possible_mil_policy': 4,                       # Each possible policy is 4 points\n",
    "    # Tech and idea cost        \n",
    "    'technology_cost': 60,                           # Each 10% discount is 6 points\n",
    "    'adm_tech_cost_modifier': 20,                    # Each 10% discount is 2 point\n",
    "    'dip_tech_cost_modifier':  20,                   # Each 10% discount is 2 point\n",
    "    'mil_tech_cost_modifier':  20,                   # Each 10% discount is 2 point\n",
    "    'idea_cost': 60,                                 # Each 10% discount is 6 points\n",
    "    # State     \n",
    "    'governing_capacity_modifier': 30,              # Each 10% is 3 points\n",
    "    'advisor_cost': 10,                             # Each 10% discount is 1 point\n",
    "    'monthly_reform_progress_modifier': 20,         # Each 10% is 2 point\n",
    "    'monthly_reform_progress': 10,                  # Each point is 10 point\n",
    "    'reform_progress_growth': 20,                   # Each 10% is 2 point\n",
    "    # Economy       \n",
    "    'global_tax_modifier': 5,                       # Each 10% is 0.5 point\n",
    "    'production_efficiency': 5,                     # Each 10% is 0.5 point\n",
    "    'global_trade_goods_size_modifier': 5,          # Each 10% is 0.5 point\n",
    "    'trade_efficiency': 5,                          # Each 10% is 0.5 point\n",
    "    # Buildings     \n",
    "    'build_cost': 20,                               # Each 10% discount is 2 points\n",
    "}\n",
    "\n",
    "# War weights are used to determine the score of a country during war time and to find the best policies\n",
    "MILITARY_WEIGHTS ={\n",
    "    # Main modifiers\n",
    "    'discipline': 300,                              # Each 10% is 30 points\n",
    "    'fire_damage': 150,                             # Each 10% is 15 points\n",
    "    'fire_damage_received': 150,                    # Each 10% is 15 points\n",
    "    'shock_damage': 150,                            # Each 10% is 15 points\n",
    "    'shock_damage_received': 150,                   # Each 10% is 15 points\n",
    "    'land_morale': 150,                             # Each 10% is 15 points\n",
    "    'army_tradition': 10,                           # Each 10% is 1 points\n",
    "    # Infantry  \n",
    "    'infantry_power': 150,                          # Each 10% is 15 points\n",
    "    'infantry_cost': 10,                            # Each 10% discount is 1 points\n",
    "    # Cavalry   \n",
    "    'cavalry_power': 150,                           # Each 10% is 15 points\n",
    "    'cavalry_flanking': 10,                         # Each point is 10 points\n",
    "    # Artillery \n",
    "    'artillery_power': 150,                         # Each 10% is 15 points\n",
    "    'backrow_artillery_damage': 100,                # Each 10% is 10 points\n",
    "    # Army  \n",
    "    'global_manpower_modifier': 50,                 # Each 10% is 5 points\n",
    "    'land_forcelimit_modifier': 50,                 # Each 10% is 5 points\n",
    "    'land_maintenance_modifier': 20,                # Each 10% discount is 2 points\n",
    "    'manpower_recovery_speed': 20,                  # Each 10% is 2 points\n",
    "    'manpower_in_true_faith_provinces': 20,         # Each 10% is 2 points\n",
    "    # Defensiveness\n",
    "    'defensiveness': 10,                            # Each 10% is 1 points\n",
    "    'fort_maintenance_modifier': 5,                 # Each 10% discount is 0.5 points\n",
    "    'siege_ability': 5,                             # Each 10% is 0.5 points\n",
    "}\n"
   ]
  },
  {
   "cell_type": "code",
   "execution_count": 7,
   "metadata": {},
   "outputs": [],
   "source": [
    "EXTRA_WEIGHTS = {\n",
    "    'nationalism0': 50,              # Estate interaction - main +1 ADM and +1 DIP\n",
    "    'centralisation0': 20            # Allow development_over_25\n",
    "}"
   ]
  },
  {
   "cell_type": "code",
   "execution_count": 18,
   "metadata": {},
   "outputs": [],
   "source": [
    "\n",
    "def get_score(effects: dict, weights: list[dict], debug=False):\n",
    "    score = 0\n",
    "    for weight in weights:\n",
    "        for key, value in effects.items():\n",
    "            if key in weight:\n",
    "                if debug:\n",
    "                    print(f'{key}: {value} -> {value * weight[key]}')\n",
    "                score += value * weight[key]\n",
    "    return score\n",
    "\n",
    "def update_score(score: float, effects: dict, weights: list[dict], debug=False):\n",
    "    return score + get_score(effects, weights, debug=debug)"
   ]
  },
  {
   "cell_type": "markdown",
   "metadata": {},
   "source": [
    "## Precompute policies for idea couples"
   ]
  },
  {
   "cell_type": "code",
   "execution_count": 19,
   "metadata": {},
   "outputs": [],
   "source": [
    "POLICY_LIB = {}\n",
    "for policy in POLICIES:\n",
    "    req0, req1 = policy.req\n",
    "    for req0_1 in req0:\n",
    "        for req1_1 in req1:\n",
    "            polici_id = sorted([req0_1, req1_1])\n",
    "            POLICY_LIB[(req0_1, req1_1)] = policy\n",
    "\n",
    "POLICY_POTENTIAL = defaultdict(list)\n",
    "for policy in POLICIES:\n",
    "    req0, req1 = policy.req\n",
    "    for req0_1 in req0:\n",
    "        for req1_1 in req1:\n",
    "            POLICY_POTENTIAL[req0_1].append(policy)\n",
    "            POLICY_POTENTIAL[req1_1].append(policy)"
   ]
  },
  {
   "cell_type": "markdown",
   "metadata": {},
   "source": [
    "## Idea potential filter"
   ]
  },
  {
   "cell_type": "code",
   "execution_count": 20,
   "metadata": {},
   "outputs": [],
   "source": [
    "idea_potential_score = {}\n",
    "for idea_name in all_ideas:\n",
    "    idea = IDEAS[idea_name]\n",
    "    idea_potential_score[idea_name] = score(idea.effect, [COUNTRY_WEIGHTS, MILITARY_WEIGHTS]) + extra_idea_score.get(idea_name, 0)"
   ]
  },
  {
   "cell_type": "code",
   "execution_count": 21,
   "metadata": {},
   "outputs": [
    {
     "name": "stdout",
     "output_type": "stream",
     "text": [
      "Mean: 26.10\n",
      "Std: 22.85\n",
      "Min: 0.00\n",
      "Max: 79.50\n",
      "Median: 20.62\n",
      "25%: 6.38\n",
      "75%: 45.38\n",
      "90%: 61.03\n"
     ]
    },
    {
     "data": {
      "text/plain": [
       "<Axes: >"
      ]
     },
     "execution_count": 21,
     "metadata": {},
     "output_type": "execute_result"
    },
    {
     "data": {
      "image/png": "[encoded data removed]",
      "text/plain": [
       "<Figure size 640x480 with 1 Axes>"
      ]
     },
     "metadata": {},
     "output_type": "display_data"
    }
   ],
   "source": [
    "idea_potential_scores = np.array(list(idea_potential_score.values()))\n",
    "print(f\"Mean: {idea_potential_scores.mean():.2f}\")\n",
    "print(f\"Std: {idea_potential_scores.std():.2f}\")\n",
    "print(f\"Min: {idea_potential_scores.min():.2f}\")\n",
    "print(f\"Max: {idea_potential_scores.max():.2f}\")\n",
    "print(f\"Median: {np.median(idea_potential_scores):.2f}\")\n",
    "print(f\"25%: {np.quantile(idea_potential_scores, 0.25):.2f}\")\n",
    "print(f\"75%: {np.quantile(idea_potential_scores, 0.75):.2f}\")\n",
    "print(f\"90%: {np.quantile(idea_potential_scores, 0.90):.2f}\")\n",
    "sns.boxplot(x=idea_potential_scores)\n",
    "\n"
   ]
  },
  {
   "cell_type": "code",
   "execution_count": 22,
   "metadata": {},
   "outputs": [
    {
     "data": {
      "text/plain": [
       "[('conscription0', 79.5),\n",
       " ('quality0', 70.0),\n",
       " ('defensive0', 64.5),\n",
       " ('administrative_ideas', 61.5),\n",
       " ('weapon_quality0', 61.25),\n",
       " ('standing_army0', 60.5),\n",
       " ('quantity0', 60.0),\n",
       " ('fire0', 52.25),\n",
       " ('shock0', 51.25),\n",
       " ('nationalism0', 51.0)]"
      ]
     },
     "execution_count": 22,
     "metadata": {},
     "output_type": "execute_result"
    }
   ],
   "source": [
    "sorted_ideas = sorted(idea_potential_score.items(), key=lambda x: x[1], reverse=True)\n",
    "sorted_ideas[:10]"
   ]
  },
  {
   "cell_type": "code",
   "execution_count": 23,
   "metadata": {},
   "outputs": [],
   "source": [
    "idea_policies_potential_score = Counter()\n",
    "for idea_name in all_ideas:\n",
    "    available_policies = [policy for policy in POLICIES if idea_name in policy.req[0] or idea_name in policy.req[1]]\n",
    "    for policy in available_policies:\n",
    "        idea_policies_potential_score[idea_name] += score(policy.effect, [COUNTRY_WEIGHTS, MILITARY_WEIGHTS])\n",
    "    "
   ]
  },
  {
   "cell_type": "code",
   "execution_count": 24,
   "metadata": {},
   "outputs": [
    {
     "name": "stdout",
     "output_type": "stream",
     "text": [
      "Mean: 129.99\n",
      "Std: 58.39\n",
      "Min: 2.00\n",
      "Max: 244.50\n",
      "Median: 134.75\n",
      "25%: 94.94\n",
      "75%: 174.88\n",
      "90%: 200.70\n"
     ]
    },
    {
     "data": {
      "text/plain": [
       "<Axes: >"
      ]
     },
     "execution_count": 24,
     "metadata": {},
     "output_type": "execute_result"
    },
    {
     "data": {
      "image/png": "[encoded data removed]",
      "text/plain": [
       "<Figure size 640x480 with 1 Axes>"
      ]
     },
     "metadata": {},
     "output_type": "display_data"
    }
   ],
   "source": [
    "polici_potential_scores = np.array(list(idea_policies_potential_score.values()))\n",
    "print(f\"Mean: {polici_potential_scores.mean():.2f}\")\n",
    "print(f\"Std: {polici_potential_scores.std():.2f}\")\n",
    "print(f\"Min: {polici_potential_scores.min():.2f}\")\n",
    "print(f\"Max: {polici_potential_scores.max():.2f}\")\n",
    "print(f\"Median: {np.median(polici_potential_scores):.2f}\")\n",
    "print(f\"25%: {np.quantile(polici_potential_scores, 0.25):.2f}\")\n",
    "print(f\"75%: {np.quantile(polici_potential_scores, 0.75):.2f}\")\n",
    "print(f\"90%: {np.quantile(polici_potential_scores, 0.90):.2f}\")\n",
    "sns.boxplot(x=polici_potential_scores)"
   ]
  },
  {
   "cell_type": "code",
   "execution_count": 25,
   "metadata": {},
   "outputs": [
    {
     "data": {
      "text/plain": [
       "[('conscription0', 244.5),\n",
       " ('centralisation0', 211.5),\n",
       " ('decentralisation0', 211.5),\n",
       " ('tactical0', 203.5),\n",
       " ('militarism0', 201.0),\n",
       " ('standing_army0', 200.0),\n",
       " ('economic_ideas', 192.25),\n",
       " ('weapon_quality0', 188.0),\n",
       " ('assimilation0', 185.5),\n",
       " ('shock0', 183.25)]"
      ]
     },
     "execution_count": 25,
     "metadata": {},
     "output_type": "execute_result"
    }
   ],
   "source": [
    "sorted_ideas = sorted(idea_policies_potential_score.items(), key=lambda x: x[1], reverse=True)\n",
    "sorted_ideas[:10]"
   ]
  },
  {
   "cell_type": "code",
   "execution_count": 26,
   "metadata": {},
   "outputs": [
    {
     "name": "stdout",
     "output_type": "stream",
     "text": [
      "Mean: 156.09\n",
      "Std: 74.62\n",
      "Min: 2.00\n",
      "Max: 324.00\n",
      "Median: 152.57\n",
      "25%: 112.94\n",
      "75%: 213.00\n",
      "90%: 247.05\n"
     ]
    },
    {
     "data": {
      "text/plain": [
       "<Axes: >"
      ]
     },
     "execution_count": 26,
     "metadata": {},
     "output_type": "execute_result"
    },
    {
     "data": {
      "image/png": "[encoded data removed]",
      "text/plain": [
       "<Figure size 640x480 with 1 Axes>"
      ]
     },
     "metadata": {},
     "output_type": "display_data"
    }
   ],
   "source": [
    "combined_potential_score = {}\n",
    "for idea_name in all_ideas:\n",
    "   combined_potential_score[idea_name] = idea_potential_score[idea_name] + idea_policies_potential_score[idea_name]\n",
    "   \n",
    "combined_potential_scores = np.array(list(combined_potential_score.values()))\n",
    "print(f\"Mean: {combined_potential_scores.mean():.2f}\")\n",
    "print(f\"Std: {combined_potential_scores.std():.2f}\")\n",
    "print(f\"Min: {combined_potential_scores.min():.2f}\")\n",
    "print(f\"Max: {combined_potential_scores.max():.2f}\")\n",
    "print(f\"Median: {np.median(combined_potential_scores):.2f}\")\n",
    "print(f\"25%: {np.quantile(combined_potential_scores, 0.25):.2f}\")\n",
    "print(f\"75%: {np.quantile(combined_potential_scores, 0.75):.2f}\")\n",
    "print(f\"90%: {np.quantile(combined_potential_scores, 0.90):.2f}\")\n",
    "sns.boxplot(x=combined_potential_scores)"
   ]
  },
  {
   "cell_type": "code",
   "execution_count": 27,
   "metadata": {},
   "outputs": [
    {
     "data": {
      "text/plain": [
       "[('conscription0', 324.0),\n",
       " ('standing_army0', 260.5),\n",
       " ('decentralisation0', 249.9),\n",
       " ('weapon_quality0', 249.25),\n",
       " ('quality0', 247.5),\n",
       " ('militarism0', 246.0),\n",
       " ('defensive0', 238.5),\n",
       " ('shock0', 234.5),\n",
       " ('tactical0', 227.25),\n",
       " ('fire0', 218.25)]"
      ]
     },
     "execution_count": 27,
     "metadata": {},
     "output_type": "execute_result"
    }
   ],
   "source": [
    "sorted_ideas = sorted(combined_potential_score.items(), key=lambda x: x[1], reverse=True)\n",
    "sorted_ideas[:10]"
   ]
  },
  {
   "cell_type": "code",
   "execution_count": 28,
   "metadata": {},
   "outputs": [],
   "source": [
    "POTENTIAL_FILTERING = 0.25   \n",
    "potential_threshold = np.quantile(\n",
    "    combined_potential_scores, POTENTIAL_FILTERING / 100)\n",
    "ADM_IDEA_SCOPE = [\n",
    "    idea_name for idea_name in ADM_IDEA_SCOPE if combined_potential_score[idea_name] >= potential_threshold]\n",
    "DIP_IDEA_SCOPE = [\n",
    "    idea_name for idea_name in DIP_IDEA_SCOPE if combined_potential_score[idea_name] >= potential_threshold]\n",
    "MIL_IDEA_SCOPE = [\n",
    "    idea_name for idea_name in MIL_IDEA_SCOPE if combined_potential_score[idea_name] >= potential_threshold]\n",
    "ideas_to_be_filtered_out = [ \n",
    "    idea_name for idea_name in ALL_IDEA_NAMES if combined_potential_score[idea_name] < potential_threshold]\n",
    "print(f'Ideas to be filtered out: {ideas_to_be_filtered_out}')"
   ]
  },
  {
   "cell_type": "markdown",
   "metadata": {},
   "source": [
    "## Support"
   ]
  },
  {
   "cell_type": "code",
   "execution_count": 29,
   "metadata": {},
   "outputs": [],
   "source": [
    "@lru_cache()\n",
    "def get_available_policies(ideas: tuple[str]):\n",
    "    policy_pool = []\n",
    "    for policy in POLICIES:\n",
    "       for idea_A, idea_B in itertools.combinations(ideas, 2):\n",
    "            if idea_A in policy.req[0] and idea_B in policy.req[1]:\n",
    "                policy_pool.append(policy)\n",
    "            elif idea_A in policy.req[1] and idea_B in policy.req[0]:\n",
    "                policy_pool.append(policy)\n",
    "    policies_pool_adm = [p for p in policy_pool if p.type == 'ADM']\n",
    "    policies_pool_dip = [p for p in policy_pool if p.type == 'DIP']\n",
    "    policies_pool_mil = [p for p in policy_pool if p.type == 'MIL']\n",
    "    return policies_pool_adm, policies_pool_dip, policies_pool_mil\n",
    "\n",
    "\n",
    "def get_max_policy_slots(ideas_effect: Counter, base=4):\n",
    "    adm_max_policy = base + ideas_effect['possible_policy'] + ideas_effect['possible_adm_policy']\n",
    "    dip_max_policy = base + ideas_effect['possible_policy'] + ideas_effect['possible_dip_policy']\n",
    "    mil_max_policy = base + ideas_effect['possible_policy'] + ideas_effect['possible_mil_policy']\n",
    "    return adm_max_policy, dip_max_policy, mil_max_policy"
   ]
  },
  {
   "cell_type": "code",
   "execution_count": 30,
   "metadata": {},
   "outputs": [],
   "source": [
    "def get_ideas_effect(ideas: tuple[str]):\n",
    "    total_effect = Counter()\n",
    "    for idea in ideas:\n",
    "        total_effect.update(IDEAS[idea].effect)\n",
    "        \n",
    "    return total_effect\n",
    "\n",
    "\n",
    "def get_micro_management_policies_effect(ideas: tuple[str], adm_max_policy=4, dip_max_policy=4, mil_max_policy=4):\n",
    "    def get_max_effect(policies: list[Policy], effects: set[str], max_policies: int):\n",
    "        effect_policies = [max(p.effect.get(effect, 0) for effect in effects) for p in policies if any(e in p.effect for e in effects)]\n",
    "        effect_policies.sort(reverse=True)\n",
    "        return sum(effect_policies[:max_policies])\n",
    "\n",
    "\n",
    "    total_effect = Counter()\n",
    "    available_adm_policies, available_dip_policies, available_mil_policies = get_available_policies(ideas)\n",
    "\n",
    "    # Potential dev_cost policies \n",
    "    policy_dev_cost = 0\n",
    "    dev_effects = {'development_cost'}\n",
    "    policy_dev_cost += get_max_effect(available_adm_policies, dev_effects, adm_max_policy)\n",
    "    policy_dev_cost += get_max_effect(available_dip_policies, dev_effects, dip_max_policy)\n",
    "    policy_dev_cost += get_max_effect(available_mil_policies, dev_effects, mil_max_policy)\n",
    "    total_effect['development_cost'] += policy_dev_cost\n",
    "\n",
    "    # Potential tech cost policies\n",
    "    adm_tech_cost_modifier = 0\n",
    "    adm_tech_effects = {'technology_cost', 'adm_tech_cost_modifier'} \n",
    "    adm_tech_cost_modifier += get_max_effect(available_adm_policies, adm_tech_effects, adm_max_policy)\n",
    "    adm_tech_cost_modifier += get_max_effect(available_dip_policies, adm_tech_effects, dip_max_policy)\n",
    "    adm_tech_cost_modifier += get_max_effect(available_mil_policies, adm_tech_effects, mil_max_policy)\n",
    "    total_effect['adm_tech_cost_modifier'] += adm_tech_cost_modifier\n",
    "    \n",
    "    dip_tech_cost_modifier = 0\n",
    "    dip_tech_effects = {'technology_cost', 'dip_tech_cost_modifier'}\n",
    "    dip_tech_cost_modifier += get_max_effect(available_adm_policies, dip_tech_effects, adm_max_policy)\n",
    "    dip_tech_cost_modifier += get_max_effect(available_dip_policies, dip_tech_effects, dip_max_policy)\n",
    "    dip_tech_cost_modifier += get_max_effect(available_mil_policies, dip_tech_effects, mil_max_policy)\n",
    "    total_effect['dip_tech_cost_modifier'] += dip_tech_cost_modifier\n",
    "\n",
    "    mil_tech_cost_modifier = 0\n",
    "    mil_tech_effects = {'technology_cost', 'mil_tech_cost_modifier'}\n",
    "    mil_tech_cost_modifier += get_max_effect(available_adm_policies, mil_tech_effects, adm_max_policy)\n",
    "    mil_tech_cost_modifier += get_max_effect(available_dip_policies, mil_tech_effects, dip_max_policy)\n",
    "    mil_tech_cost_modifier += get_max_effect(available_mil_policies, mil_tech_effects, mil_max_policy)\n",
    "    total_effect['mil_tech_cost_modifier'] += mil_tech_cost_modifier\n",
    "\n",
    "    # Potential idea cost policies\n",
    "    policy_idea_cost = 0\n",
    "    idea_effects = {'idea_cost'}\n",
    "    policy_idea_cost += get_max_effect(available_adm_policies, idea_effects, adm_max_policy)\n",
    "    policy_idea_cost += get_max_effect(available_dip_policies, idea_effects, dip_max_policy)\n",
    "    policy_idea_cost += get_max_effect(available_mil_policies, idea_effects, mil_max_policy)\n",
    "    total_effect['idea_cost'] += policy_idea_cost\n",
    "\n",
    "    return total_effect\n",
    "\n",
    "\n",
    "def get_war_policies_effect(ideas: tuple[str], war_weights: dict, adm_max_policy=4, dip_max_policy=4, mil_max_policy=4):\n",
    "    total_effect = Counter()\n",
    "\n",
    "    total_effect = {}\n",
    "    available_adm_policies, available_dip_policies, available_mil_policies = get_available_policies(ideas)\n",
    "    \n",
    "    # ADM policy slots\n",
    "    adm_war_policies = [(score(p.effect, [war_weights]), p) for p in available_adm_policies]\n",
    "    adm_war_policies.sort(key=lambda x: x[0], reverse=True)\n",
    "    adm_war_policies = [p for p in adm_war_policies if p[0] > 0]\n",
    "    for p in adm_war_policies[:min(adm_max_policy, len(adm_war_policies))]:\n",
    "        total_effect.update(p[1].effect)\n",
    "\n",
    "    # DIP war policies\n",
    "    dip_war_policies = [(score(p.effect, [war_weights]), p) for p in available_dip_policies]\n",
    "    dip_war_policies.sort(key=lambda x: x[0], reverse=True)\n",
    "    dip_war_policies = [p for p in dip_war_policies if p[0] > 0]\n",
    "    for p in dip_war_policies[:min(dip_max_policy, len(dip_war_policies))]:\n",
    "        total_effect.update(p[1].effect)\n",
    "\n",
    "    # MIL war policies\n",
    "    mil_war_policies = [(score(p.effect, [war_weights]), p) for p in available_mil_policies]\n",
    "    mil_war_policies.sort(key=lambda x: x[0], reverse=True)\n",
    "    mil_war_policies = [p for p in mil_war_policies if p[0] > 0]\n",
    "    for p in mil_war_policies[:min(mil_max_policy, len(mil_war_policies))]:\n",
    "        total_effect.update(p[1].effect)\n",
    "\n",
    "    return total_effect\n"
   ]
  },
  {
   "cell_type": "code",
   "execution_count": 31,
   "metadata": {},
   "outputs": [],
   "source": [
    "def compute_build(ideas: tuple[str], base_policy_slots=4, debug=False) -> Build:\n",
    "    # TODO: implement caching\n",
    " \n",
    "    ideas_effect = get_ideas_effect(ideas)\n",
    "    adm_max_policy, dip_max_policy, mil_max_policy = get_max_policy_slots(ideas_effect, base_policy_slots)\n",
    "    micro_management_policies_effect = get_micro_management_policies_effect(ideas, adm_max_policy, dip_max_policy, mil_max_policy)\n",
    "    war_policies_effect = get_war_policies_effect(ideas, MILITARY_WEIGHTS, adm_max_policy, dip_max_policy, mil_max_policy)\n",
    "\n",
    "    total_effect = Counter()\n",
    "    total_effect.update(ideas_effect)\n",
    "    total_effect.update(micro_management_policies_effect)\n",
    "    total_effect.update(war_policies_effect)\n",
    "\n",
    "\n",
    "    \n",
    "    return Build(\n",
    "        ideas=ideas, \n",
    "        score=score(total_effect, [COUNTRY_WEIGHTS, MILITARY_WEIGHTS], debug=debug),\n",
    "        total_effect=total_effect,\n",
    "        war_policies_effect=war_policies_effect,\n",
    "    )\n",
    "\n",
    "# print(compute_build(('strong_men', 'weapon_quality'), debug=True))\n",
    "# print(compute_build(('innovativeness_ideas', 'spy_ideas', 'offensive'), debug=True))"
   ]
  },
  {
   "cell_type": "markdown",
   "metadata": {},
   "source": [
    "## Find the best build"
   ]
  },
  {
   "cell_type": "code",
   "execution_count": 32,
   "metadata": {},
   "outputs": [],
   "source": [
    "builds = defaultdict(dict)\n",
    "\n",
    "IDEA_COUNT_THRESHOLD = 0.39\n",
    "USE_POTENTIAL_CUT_OFF = True\n",
    "\n",
    "\n",
    "def expand_idea_set(idea_set: set, idea_limit_set = None):\n",
    "    idea_set_count = len(idea_set)\n",
    "    adm_idea_count = len([x for x in idea_set if x in adm_idea_names])\n",
    "    dip_idea_count = len([x for x in idea_set if x in dip_idea_names])\n",
    "    mil_idea_count = len([x for x in idea_set if x in mil_idea_names])\n",
    "    if adm_idea_count / idea_set_count < IDEA_COUNT_THRESHOLD:\n",
    "        for idea_name in adm_idea_names:\n",
    "            if not idea_limit_set or idea_name in idea_limit_set:\n",
    "                if idea_name not in idea_set:\n",
    "                    expanded_idea_set = idea_set.union({idea_name})\n",
    "                    for rule_A, rule_B in adm_not_compatible:\n",
    "                        if rule_A in expanded_idea_set and rule_B in expanded_idea_set:\n",
    "                            break\n",
    "                    else:\n",
    "                        yield expanded_idea_set\n",
    "    if dip_idea_count / idea_set_count < IDEA_COUNT_THRESHOLD:\n",
    "        for idea_name in dip_idea_names:\n",
    "            if not idea_limit_set or idea_name in idea_limit_set:\n",
    "                if idea_name not in idea_set:\n",
    "                    expanded_idea_set = idea_set.union({idea_name})\n",
    "                    for rule_A, rule_B in dip_not_compatible:\n",
    "                        if rule_A in expanded_idea_set and rule_B in expanded_idea_set:\n",
    "                            break\n",
    "                    else:\n",
    "                        yield expanded_idea_set\n",
    "    if mil_idea_count / idea_set_count < IDEA_COUNT_THRESHOLD:\n",
    "        for idea_name in mil_idea_names:\n",
    "            if not idea_limit_set or idea_name in idea_limit_set:\n",
    "                if idea_name not in idea_set:\n",
    "                    expanded_idea_set = idea_set.union({idea_name})\n",
    "                    for rule_A, rule_B in mil_not_compatible:\n",
    "                        if rule_A in expanded_idea_set and rule_B in expanded_idea_set:\n",
    "                            break\n",
    "                    else:\n",
    "                        yield expanded_idea_set"
   ]
  },
  {
   "cell_type": "markdown",
   "metadata": {},
   "source": [
    "## 3-policy builds"
   ]
  },
  {
   "cell_type": "code",
   "execution_count": 33,
   "metadata": {},
   "outputs": [
    {
     "data": {
      "application/vnd.jupyter.widget-view+json": {
       "model_id": "6c74c4549f6b424691076cb58a39d909",
       "version_major": 2,
       "version_minor": 0
      },
      "text/plain": [
       "  0%|          | 0/3120 [00:00<?, ?it/s]"
      ]
     },
     "metadata": {},
     "output_type": "display_data"
    }
   ],
   "source": [
    "total_options = len(adm_idea_scope) *  len(dip_idea_scope) * len(mil_idea_scope)\n",
    "\n",
    "with tqdm(total=total_options) as pbar:\n",
    "    for adm_idea in adm_idea_scope:\n",
    "        for dip_idea in dip_idea_scope:\n",
    "            for mil_idea in mil_idea_scope:\n",
    "                ideas = tuple(sorted([adm_idea,  dip_idea,  mil_idea]))\n",
    "                build = compute_build(ideas)\n",
    "                builds[3][ideas] = (build)\n",
    "                pbar.update(1)"
   ]
  },
  {
   "cell_type": "markdown",
   "metadata": {},
   "source": [
    "## 4-policy builds"
   ]
  },
  {
   "cell_type": "code",
   "execution_count": 34,
   "metadata": {},
   "outputs": [
    {
     "data": {
      "application/vnd.jupyter.widget-view+json": {
       "model_id": "d67418f0f60b4413b719fc9d205e21a7",
       "version_major": 2,
       "version_minor": 0
      },
      "text/plain": [
       "  0%|          | 0/3120 [00:00<?, ?it/s]"
      ]
     },
     "metadata": {},
     "output_type": "display_data"
    }
   ],
   "source": [
    "for ideas in tqdm(builds[3].keys(), total=len(builds[3])):\n",
    "    for new_idea_set in expand_idea_set(set(ideas), idea_limit_set=top_ideas if  USE_POTENTIAL_CUT_OFF else None):\n",
    "        new_ideas = tuple(sorted(list(new_idea_set)))\n",
    "        new_build = compute_build(new_ideas)\n",
    "        builds[4][new_ideas] = new_build"
   ]
  },
  {
   "cell_type": "markdown",
   "metadata": {},
   "source": [
    "## 5-policy builds"
   ]
  },
  {
   "cell_type": "code",
   "execution_count": 35,
   "metadata": {},
   "outputs": [
    {
     "data": {
      "application/vnd.jupyter.widget-view+json": {
       "model_id": "035e3f9f2f634b8eb0df9a810d5c7f28",
       "version_major": 2,
       "version_minor": 0
      },
      "text/plain": [
       "  0%|          | 0/19280 [00:00<?, ?it/s]"
      ]
     },
     "metadata": {},
     "output_type": "display_data"
    }
   ],
   "source": [
    "for ideas in tqdm(builds[4].keys(), total=len(builds[4])):\n",
    "    for new_idea_set in expand_idea_set(set(ideas), idea_limit_set=top_ideas if  USE_POTENTIAL_CUT_OFF else None):\n",
    "        new_ideas = tuple(sorted(list(new_idea_set)))\n",
    "        new_build = compute_build(new_ideas)\n",
    "        builds[5][new_ideas] = new_build"
   ]
  },
  {
   "cell_type": "markdown",
   "metadata": {},
   "source": [
    "## 6-policy builds"
   ]
  },
  {
   "cell_type": "code",
   "execution_count": 36,
   "metadata": {},
   "outputs": [
    {
     "data": {
      "application/vnd.jupyter.widget-view+json": {
       "model_id": "67d18f0e60be456482c3f18f6902a9a1",
       "version_major": 2,
       "version_minor": 0
      },
      "text/plain": [
       "  0%|          | 0/982800 [00:00<?, ?it/s]"
      ]
     },
     "metadata": {},
     "output_type": "display_data"
    }
   ],
   "source": [
    "total_options = comb(len(adm_idea_scope), 2) * comb(len(dip_idea_scope), 2) * comb(len(mil_idea_scope), 2)\n",
    "\n",
    "with tqdm(total=total_options) as pbar:\n",
    "    for adm_ideas in itertools.combinations(adm_idea_scope, 2):\n",
    "        for dip_ideas in itertools.combinations(dip_idea_scope, 2):\n",
    "            for mil_ideas in itertools.combinations(mil_idea_scope, 2):\n",
    "                idea_set = set(adm_ideas + dip_ideas + mil_ideas)\n",
    "                for rule_A, rule_B in adm_not_compatible + dip_not_compatible + mil_not_compatible:\n",
    "                    if rule_A in idea_set and rule_B in idea_set:\n",
    "                        break\n",
    "                else:\n",
    "                    ideas = tuple(sorted(list(new_idea_set)))\n",
    "                    build = compute_build(ideas)\n",
    "                    builds[6][ideas] = build\n",
    "                pbar.update(1)\n"
   ]
  },
  {
   "cell_type": "markdown",
   "metadata": {},
   "source": [
    "## Expand on the best builds"
   ]
  },
  {
   "cell_type": "code",
   "execution_count": 37,
   "metadata": {},
   "outputs": [],
   "source": [
    "EXPAND_BEST_N = 1000\n",
    "EXPAND_RANDOM_N = 3000\n",
    "\n",
    "def get_ideas_to_expand(build_list: list[Build], best_n=EXPAND_BEST_N, random_n=EXPAND_RANDOM_N):\n",
    "    build_list.sort(key=lambda x: x.score, reverse=True)\n",
    "    best_builds = build_list[:best_n]\n",
    "    random_builds = random.sample(build_list[best_n:], min(random_n, len(build_list[best_n:])))\n",
    "    return best_builds + random_builds\n"
   ]
  },
  {
   "cell_type": "code",
   "execution_count": 38,
   "metadata": {},
   "outputs": [
    {
     "data": {
      "application/vnd.jupyter.widget-view+json": {
       "model_id": "7fb3a9eabd7a4c9589db19164a7c55b2",
       "version_major": 2,
       "version_minor": 0
      },
      "text/plain": [
       "Expanding builds 6:   0%|          | 0/1 [00:00<?, ?it/s]"
      ]
     },
     "metadata": {},
     "output_type": "display_data"
    },
    {
     "data": {
      "application/vnd.jupyter.widget-view+json": {
       "model_id": "86f7f40d4b8b4b1f9ab91fa82ed43a5e",
       "version_major": 2,
       "version_minor": 0
      },
      "text/plain": [
       "Expanding builds 7: 0it [00:00, ?it/s]"
      ]
     },
     "metadata": {},
     "output_type": "display_data"
    },
    {
     "data": {
      "application/vnd.jupyter.widget-view+json": {
       "model_id": "cfe4b2541943453aaee3fd1bd972f789",
       "version_major": 2,
       "version_minor": 0
      },
      "text/plain": [
       "Expanding builds 8: 0it [00:00, ?it/s]"
      ]
     },
     "metadata": {},
     "output_type": "display_data"
    },
    {
     "data": {
      "application/vnd.jupyter.widget-view+json": {
       "model_id": "c26995e8c07145a08a805889166003ed",
       "version_major": 2,
       "version_minor": 0
      },
      "text/plain": [
       "Expanding builds 9: 0it [00:00, ?it/s]"
      ]
     },
     "metadata": {},
     "output_type": "display_data"
    },
    {
     "data": {
      "application/vnd.jupyter.widget-view+json": {
       "model_id": "775910a556534e34b3720813ee94a85e",
       "version_major": 2,
       "version_minor": 0
      },
      "text/plain": [
       "Expanding builds 10: 0it [00:00, ?it/s]"
      ]
     },
     "metadata": {},
     "output_type": "display_data"
    },
    {
     "data": {
      "application/vnd.jupyter.widget-view+json": {
       "model_id": "cf902c43d202491c937aef30f4e0ab04",
       "version_major": 2,
       "version_minor": 0
      },
      "text/plain": [
       "Expanding builds 11: 0it [00:00, ?it/s]"
      ]
     },
     "metadata": {},
     "output_type": "display_data"
    },
    {
     "data": {
      "application/vnd.jupyter.widget-view+json": {
       "model_id": "28e7d9e79d7d49f2bb1bcc0fc1e4c4f1",
       "version_major": 2,
       "version_minor": 0
      },
      "text/plain": [
       "Expanding builds 12: 0it [00:00, ?it/s]"
      ]
     },
     "metadata": {},
     "output_type": "display_data"
    }
   ],
   "source": [
    "for i in range(6, 13):\n",
    "    builds_to_expand = get_ideas_to_expand(list(builds[i].values()))\n",
    "    for build in tqdm(builds_to_expand, desc=f'Expanding builds {i}'):\n",
    "        for new_idea_set in expand_idea_set(set(build.ideas), idea_limit_set=top_ideas if  USE_POTENTIAL_CUT_OFF else None):\n",
    "            new_ideas = tuple(sorted(list(new_idea_set)))\n",
    "            new_build = compute_build(new_ideas)\n",
    "            builds[i+1][new_ideas] = new_build"
   ]
  },
  {
   "cell_type": "code",
   "execution_count": null,
   "metadata": {},
   "outputs": [],
   "source": []
  }
 ],
 "metadata": {
  "kernelspec": {
   "display_name": "Python 3",
   "language": "python",
   "name": "python3"
  },
  "language_info": {
   "codemirror_mode": {
    "name": "ipython",
    "version": 3
   },
   "file_extension": ".py",
   "mimetype": "text/x-python",
   "name": "python",
   "nbconvert_exporter": "python",
   "pygments_lexer": "ipython3",
   "version": "3.10.13"
  },
  "orig_nbformat": 4
 },
 "nbformat": 4,
 "nbformat_minor": 2
}
