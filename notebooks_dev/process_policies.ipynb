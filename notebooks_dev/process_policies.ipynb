{
 "cells": [
  {
   "cell_type": "markdown",
   "metadata": {},
   "source": [
    "# Parsing and processing IDEA files"
   ]
  },
  {
   "cell_type": "code",
   "execution_count": 2,
   "metadata": {},
   "outputs": [],
   "source": [
    "import ClauseWizard\n",
    "import yaml"
   ]
  },
  {
   "cell_type": "code",
   "execution_count": 3,
   "metadata": {},
   "outputs": [],
   "source": [
    "# TEST_PATH = '../data/raw/gypsy/common/policies/00_adm.txt'\n",
    "# TEST_PATH = '../data/raw/gypsy/common/policies/00_dip.txt'\n",
    "# TEST_PATH = '../data/raw/gypsy/common/policies/00_mil.txt'\n",
    "TEST_PATH = '../data/raw/gypsy/common/policies/Idea_Variation_policies.txt'"
   ]
  },
  {
   "cell_type": "code",
   "execution_count": 4,
   "metadata": {},
   "outputs": [],
   "source": [
    "with open(TEST_PATH, 'r') as f:\n",
    "    tokens = ClauseWizard.cwparse(f.read())\n",
    "    obj = ClauseWizard.cwformat(tokens)"
   ]
  },
  {
   "cell_type": "code",
   "execution_count": 5,
   "metadata": {},
   "outputs": [],
   "source": [
    "# Replace defaultdicts with dicts\n",
    "\n",
    "def dictify(d):\n",
    "    if isinstance(d, dict):\n",
    "        return {k: dictify(v) for k, v in d.items()}\n",
    "    elif isinstance(d, list):\n",
    "        return [dictify(x) for x in d]\n",
    "    elif isinstance(d, set):\n",
    "        return {dictify(x) for x in d}\n",
    "    else:\n",
    "        return d\n",
    "\n",
    "obj = dictify(obj)"
   ]
  },
  {
   "cell_type": "code",
   "execution_count": 6,
   "metadata": {},
   "outputs": [],
   "source": [
    "# Remove keys: ai_will_do, potential\n",
    "for k, v in obj.items():\n",
    "    if 'ai_will_do' in v:\n",
    "        del v['ai_will_do']\n",
    "    if 'potential' in v:\n",
    "        del v['potential']\n"
   ]
  },
  {
   "cell_type": "code",
   "execution_count": 7,
   "metadata": {},
   "outputs": [],
   "source": [
    "# Quality check\n",
    "# - every object has to have keys: monarch_power, allow\n",
    "# - monarch_power value is a str: ADM, DIP, MIL\n",
    "# - there are at least 3 keys in the object\n",
    "\n",
    "POLICY_SLOT_VALUES = ['ADM', 'DIP', 'MIL']\n",
    "for k, v in obj.items():\n",
    "    if 'monarch_power' not in v:\n",
    "        print(f'No monarch_power in {k}')\n",
    "    else: \n",
    "        v['monarch_power'] = v['monarch_power'].upper()\n",
    "        if v['monarch_power'] not in POLICY_SLOT_VALUES:\n",
    "            print(f'Wrong monarch_power value in {k}: {v[\"monarch_power\"]}')\n",
    "    if 'allow' not in v:\n",
    "        print(f'No allow in {k}')\n",
    "    if len(v.keys()) < 3:\n",
    "        print(f'Not enough keys in {k}')\n",
    "    "
   ]
  },
  {
   "cell_type": "code",
   "execution_count": 8,
   "metadata": {},
   "outputs": [
    {
     "data": {
      "text/plain": [
       "[('full_idea_group', 543),\n",
       " ('OR', 116),\n",
       " ('has_completed_religious_ideas_group', 29),\n",
       " ('has_completed_government_ideas_group', 23)]"
      ]
     },
     "execution_count": 8,
     "metadata": {},
     "output_type": "execute_result"
    }
   ],
   "source": [
    "from collections import Counter\n",
    "\n",
    "allow_keys = Counter()\n",
    "for k, v in obj.items():\n",
    "    allow_keys.update(v['allow'].keys())\n",
    "\n",
    "allow_keys.most_common(n=10)"
   ]
  },
  {
   "cell_type": "code",
   "execution_count": 9,
   "metadata": {},
   "outputs": [
    {
     "data": {
      "text/plain": [
       "[('full_idea_group', 123)]"
      ]
     },
     "execution_count": 9,
     "metadata": {},
     "output_type": "execute_result"
    }
   ],
   "source": [
    "or_keys = Counter()\n",
    "for k, v in obj.items():\n",
    "    if 'OR' in v['allow']:\n",
    "        if isinstance(v['allow']['OR'], list):\n",
    "            for i in v['allow']['OR']:\n",
    "                or_keys.update(i.keys())\n",
    "        elif isinstance(v['allow']['OR'], dict):\n",
    "            or_keys.update(v['allow']['OR'].keys())\n",
    "\n",
    "or_keys.most_common(n=10)"
   ]
  },
  {
   "cell_type": "code",
   "execution_count": 1,
   "metadata": {},
   "outputs": [
    {
     "ename": "NameError",
     "evalue": "name 'obj' is not defined",
     "output_type": "error",
     "traceback": [
      "\u001b[0;31m---------------------------------------------------------------------------\u001b[0m",
      "\u001b[0;31mNameError\u001b[0m                                 Traceback (most recent call last)",
      "\u001b[1;32m/Users/oborovec/Projects/PythonPlayground/EU4-gypsy/notebooks_dev/process_policies.ipynb Cell 10\u001b[0m line \u001b[0;36m4\n\u001b[1;32m      <a href='vscode-notebook-cell:/Users/oborovec/Projects/PythonPlayground/EU4-gypsy/notebooks_dev/process_policies.ipynb#X25sZmlsZQ%3D%3D?line=0'>1</a>\u001b[0m rel_idea_names \u001b[39m=\u001b[39m [ \u001b[39m'\u001b[39m\u001b[39mreligious_ideas\u001b[39m\u001b[39m'\u001b[39m, \u001b[39m'\u001b[39m\u001b[39manglican0\u001b[39m\u001b[39m'\u001b[39m, \u001b[39m'\u001b[39m\u001b[39manimist0\u001b[39m\u001b[39m'\u001b[39m, \u001b[39m'\u001b[39m\u001b[39mbuddhism0\u001b[39m\u001b[39m'\u001b[39m, \u001b[39m'\u001b[39m\u001b[39mcathar0\u001b[39m\u001b[39m'\u001b[39m, \u001b[39m'\u001b[39m\u001b[39mcatholic0\u001b[39m\u001b[39m'\u001b[39m, \u001b[39m'\u001b[39m\u001b[39mconfucian0\u001b[39m\u001b[39m'\u001b[39m, \u001b[39m'\u001b[39m\u001b[39mcoptic0\u001b[39m\u001b[39m'\u001b[39m, \u001b[39m'\u001b[39m\u001b[39mdreamtime0\u001b[39m\u001b[39m'\u001b[39m, \u001b[39m'\u001b[39m\u001b[39mfetishist0\u001b[39m\u001b[39m'\u001b[39m, \u001b[39m'\u001b[39m\u001b[39mhellenic0\u001b[39m\u001b[39m'\u001b[39m, \u001b[39m'\u001b[39m\u001b[39mhindu0\u001b[39m\u001b[39m'\u001b[39m, \u001b[39m'\u001b[39m\u001b[39mhussite0\u001b[39m\u001b[39m'\u001b[39m, \u001b[39m'\u001b[39m\u001b[39mibadi0\u001b[39m\u001b[39m'\u001b[39m, \u001b[39m'\u001b[39m\u001b[39minti0\u001b[39m\u001b[39m'\u001b[39m, \u001b[39m'\u001b[39m\u001b[39mjewish0\u001b[39m\u001b[39m'\u001b[39m, \u001b[39m'\u001b[39m\u001b[39mmanichean0\u001b[39m\u001b[39m'\u001b[39m, \u001b[39m'\u001b[39m\u001b[39mmesoamerican0\u001b[39m\u001b[39m'\u001b[39m, \u001b[39m'\u001b[39m\u001b[39mnahuatl0\u001b[39m\u001b[39m'\u001b[39m, \u001b[39m'\u001b[39m\u001b[39mnorse0\u001b[39m\u001b[39m'\u001b[39m, \u001b[39m'\u001b[39m\u001b[39morthodox0\u001b[39m\u001b[39m'\u001b[39m, \u001b[39m'\u001b[39m\u001b[39mprotestant0\u001b[39m\u001b[39m'\u001b[39m, \u001b[39m'\u001b[39m\u001b[39mreformed0\u001b[39m\u001b[39m'\u001b[39m, \u001b[39m'\u001b[39m\u001b[39mromuva0\u001b[39m\u001b[39m'\u001b[39m, \u001b[39m'\u001b[39m\u001b[39mshia0\u001b[39m\u001b[39m'\u001b[39m, \u001b[39m'\u001b[39m\u001b[39mshinto0\u001b[39m\u001b[39m'\u001b[39m, \u001b[39m'\u001b[39m\u001b[39mslavic0\u001b[39m\u001b[39m'\u001b[39m, \u001b[39m'\u001b[39m\u001b[39msunni0\u001b[39m\u001b[39m'\u001b[39m, \u001b[39m'\u001b[39m\u001b[39msuomi0\u001b[39m\u001b[39m'\u001b[39m, \u001b[39m'\u001b[39m\u001b[39mtengri0\u001b[39m\u001b[39m'\u001b[39m, \u001b[39m'\u001b[39m\u001b[39mtotemist0\u001b[39m\u001b[39m'\u001b[39m, \u001b[39m'\u001b[39m\u001b[39mzoroastrian0\u001b[39m\u001b[39m'\u001b[39m ]\n\u001b[1;32m      <a href='vscode-notebook-cell:/Users/oborovec/Projects/PythonPlayground/EU4-gypsy/notebooks_dev/process_policies.ipynb#X25sZmlsZQ%3D%3D?line=1'>2</a>\u001b[0m gov_idea_names \u001b[39m=\u001b[39m [\u001b[39m'\u001b[39m\u001b[39mdictatorship0\u001b[39m\u001b[39m'\u001b[39m, \u001b[39m'\u001b[39m\u001b[39mhorde0\u001b[39m\u001b[39m'\u001b[39m, \u001b[39m'\u001b[39m\u001b[39mmonarchy0\u001b[39m\u001b[39m'\u001b[39m, \u001b[39m'\u001b[39m\u001b[39mrepublic0\u001b[39m\u001b[39m'\u001b[39m, \u001b[39m'\u001b[39m\u001b[39mtheocracy0\u001b[39m\u001b[39m'\u001b[39m]\n\u001b[0;32m----> <a href='vscode-notebook-cell:/Users/oborovec/Projects/PythonPlayground/EU4-gypsy/notebooks_dev/process_policies.ipynb#X25sZmlsZQ%3D%3D?line=3'>4</a>\u001b[0m \u001b[39mfor\u001b[39;00m k, v \u001b[39min\u001b[39;00m obj\u001b[39m.\u001b[39mitems():\n\u001b[1;32m      <a href='vscode-notebook-cell:/Users/oborovec/Projects/PythonPlayground/EU4-gypsy/notebooks_dev/process_policies.ipynb#X25sZmlsZQ%3D%3D?line=4'>5</a>\u001b[0m     allow_keys \u001b[39m=\u001b[39m v[\u001b[39m'\u001b[39m\u001b[39mallow\u001b[39m\u001b[39m'\u001b[39m]\u001b[39m.\u001b[39mkeys()\n\u001b[1;32m      <a href='vscode-notebook-cell:/Users/oborovec/Projects/PythonPlayground/EU4-gypsy/notebooks_dev/process_policies.ipynb#X25sZmlsZQ%3D%3D?line=6'>7</a>\u001b[0m     \u001b[39mif\u001b[39;00m \u001b[39mlen\u001b[39m(allow_keys) \u001b[39m==\u001b[39m \u001b[39m1\u001b[39m:\n",
      "\u001b[0;31mNameError\u001b[0m: name 'obj' is not defined"
     ]
    }
   ],
   "source": [
    "rel_idea_names = [ 'religious_ideas', 'anglican0', 'animist0', 'buddhism0', 'cathar0', 'catholic0', 'confucian0', 'coptic0', 'dreamtime0', 'fetishist0', 'hellenic0', 'hindu0', 'hussite0', 'ibadi0', 'inti0', 'jewish0', 'manichean0', 'mesoamerican0', 'nahuatl0', 'norse0', 'orthodox0', 'protestant0', 'reformed0', 'romuva0', 'shia0', 'shinto0', 'slavic0', 'sunni0', 'suomi0', 'tengri0', 'totemist0', 'zoroastrian0' ]\n",
    "gov_idea_names = ['dictatorship0', 'horde0', 'monarchy0', 'republic0', 'theocracy0']\n",
    "\n",
    "for k, v in obj.items():\n",
    "    allow_keys = v['allow'].keys()\n",
    "    \n",
    "    if len(allow_keys) == 1:\n",
    "        if 'full_idea_group' in allow_keys:\n",
    "            full_idea_group = v['allow']['full_idea_group']\n",
    "            if isinstance(full_idea_group, list) and len(full_idea_group) == 2:\n",
    "                v['req'] = ([full_idea_group[0]], [full_idea_group[1]])\n",
    "            else:\n",
    "                print(f'Unknown structure in {k}: {v[\"allow\"]}')\n",
    "        elif 'OR' in allow_keys:\n",
    "            OR_group = v['allow']['OR']\n",
    "            if isinstance(OR_group, list) and len(OR_group) == 2 and 'full_idea_group' in OR_group[0] and 'full_idea_group' in OR_group[1]:\n",
    "                v['req'] = (OR_group[0]['full_idea_group'], OR_group[1]['full_idea_group'])\n",
    "            else:\n",
    "                print(f'Unknown structure in {k}: {v[\"allow\"]}')\n",
    "        else:\n",
    "            print(f'Need parting for structure in {k}: {v[\"allow\"]}')\n",
    "    elif len(allow_keys) == 2:\n",
    "        full_idea_group, government_ideas_group, religious_ideas_group, OR_group = None, None, None, None\n",
    "        if 'full_idea_group' in allow_keys and isinstance(v['allow']['full_idea_group'], str):\n",
    "            full_idea_group = v['allow']['full_idea_group']\n",
    "        if 'has_completed_government_ideas_group' in allow_keys and isinstance(v['allow']['has_completed_government_ideas_group'], bool):\n",
    "            government_ideas_group = v['allow']['has_completed_government_ideas_group']\n",
    "        if 'has_completed_religious_ideas_group' in allow_keys and isinstance(v['allow']['has_completed_religious_ideas_group'], bool):\n",
    "            religious_ideas_group = v['allow']['has_completed_religious_ideas_group']\n",
    "        if 'OR' in allow_keys and isinstance(v['allow']['OR'], dict) and 'full_idea_group' in v['allow']['OR']:\n",
    "            OR_group = v['allow']['OR']\n",
    "       # Exactly 2 requirements has to be not None\n",
    "        if sum([full_idea_group is not None, government_ideas_group is not None, religious_ideas_group is not None, OR_group is not None]) != 2:\n",
    "           print(f'Unable to parse 2keys structure in {k}: {v[\"allow\"]}')\n",
    "        else:\n",
    "            if full_idea_group is not None and government_ideas_group:\n",
    "                v['req'] = [full_idea_group], gov_idea_names\n",
    "            elif full_idea_group is not None and religious_ideas_group:\n",
    "                v['req'] = [full_idea_group], rel_idea_names\n",
    "            elif full_idea_group is not None and OR_group is not None:\n",
    "                v['req'] = [full_idea_group], OR_group['full_idea_group']\n",
    "            elif government_ideas_group and religious_ideas_group:\n",
    "                v['req'] = gov_idea_names, rel_idea_names\n",
    "            elif government_ideas_group and OR_group is not None:\n",
    "                v['req'] = gov_idea_names, OR_group['full_idea_group']\n",
    "            elif religious_ideas_group and OR_group is not None:\n",
    "                v['req'] = rel_idea_names, OR_group['full_idea_group']\n",
    "            else:\n",
    "                print(f'Unable to parse 2keys structure in {k}: {v[\"allow\"]}')\n",
    "    else:\n",
    "        print(f'Need parting for structure in {k}: {v[\"allow\"]}')"
   ]
  },
  {
   "cell_type": "code",
   "execution_count": 10,
   "metadata": {},
   "outputs": [],
   "source": [
    "# Second quality check\n",
    "# - remove allow key from every object\n",
    "# - every object has to have keys req which is a tuple of 2 lists\n",
    "\n",
    "for k, v in obj.items():\n",
    "    if 'allow' in v:\n",
    "        del v['allow']\n",
    "    if 'req' not in v:\n",
    "        print(f'No req in {k}')\n",
    "    else:\n",
    "        if not isinstance(v['req'], tuple):\n",
    "            print(f'Wrong req type in {k}: {v[\"req\"]}')\n",
    "        else:\n",
    "            if len(v['req']) != 2:\n",
    "                print(f'Wrong req length in {k}: {v[\"req\"]}')\n",
    "            else:\n",
    "                if not isinstance(v['req'][0], list):\n",
    "                    print(f'Wrong req[0] type in {k}: {v[\"req\"]}')\n",
    "                if not isinstance(v['req'][1], list):\n",
    "                    print(f'Wrong req[1] type in {k}: {v[\"req\"]}')"
   ]
  },
  {
   "cell_type": "code",
   "execution_count": 11,
   "metadata": {},
   "outputs": [],
   "source": [
    "with open('../data/interim/dev_policies_processing_parser.yaml', 'w') as f:\n",
    "    yaml.dump(obj, f, default_flow_style=False)"
   ]
  },
  {
   "cell_type": "code",
   "execution_count": null,
   "metadata": {},
   "outputs": [],
   "source": []
  }
 ],
 "metadata": {
  "kernelspec": {
   "display_name": "Python 3",
   "language": "python",
   "name": "python3"
  },
  "language_info": {
   "codemirror_mode": {
    "name": "ipython",
    "version": 3
   },
   "file_extension": ".py",
   "mimetype": "text/x-python",
   "name": "python",
   "nbconvert_exporter": "python",
   "pygments_lexer": "ipython3",
   "version": "3.10.13"
  },
  "orig_nbformat": 4
 },
 "nbformat": 4,
 "nbformat_minor": 2
}
